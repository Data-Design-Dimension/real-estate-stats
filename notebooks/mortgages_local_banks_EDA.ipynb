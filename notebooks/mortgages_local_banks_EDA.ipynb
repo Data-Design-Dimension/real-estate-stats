{
 "cells": [
  {
   "cell_type": "markdown",
   "metadata": {},
   "source": [
    "# Do local bank branches affect home mortgages?\n",
    "\n",
    "#### An exploratory data analysis using Urban Institute and U.S. Census data\n",
    "\n",
    "Author: Kathryn Hurchla,\n",
    "Updated: Sept. 14, 2021"
   ]
  },
  {
   "cell_type": "markdown",
   "metadata": {},
   "source": [
    "- Data: I'm focusing on mortgage disclosure data, and have begun to link it with banking locations from the FDIC.\n",
    "    - Home Mortgage Disclosure Act Neighborhood Summary Files: Census Tract Level, Urban Institute\n",
    "\n",
    "\n",
    "- I plan to take a statistical investigation approach with my project, and potentially mapping as well.\n",
    "    - Correlations between lending patterns and presense or absence of local banks/branches\n",
    "\n",
    "\n",
    "- Toolset\n",
    "    - I'm using Python for data analysis, and \n",
    "    - I plan to either use Ploty or other Python libraries for charts, or to take the opportunity to try using Observable for a basic line or bar chart.\n",
    "    - The end product may be static, e.g. a data heavy report or web journalism format\n",
    "    - Alternately, a more advanced interactive using Python Dash\n",
    "\n",
    "\n",
    "- My inspiration comes from my own experience living in a neighborhood that lacked a bank for 30 years, and recently gained a regionally based PA bank in the commercial corridor that I've enjoyed the customer service and 'family' touch banking with.\n",
    "    - Also building on my broader ongoing real estate and housing affordability analysis\n",
    "\n",
    "\n",
    "- I would like to tell a story with the data about the impact of gaps in core services/financial accessibility.\n",
    "    - A data informed update within the context of the lineage of redlining and reverse-redlining\n",
    "    - Potential audiences are local officials/representatives in:\n",
    "        - government\n",
    "        - business professional organizations that would include potential banks to attract\n",
    "        - community development corporations"
   ]
  },
  {
   "cell_type": "code",
   "execution_count": 1,
   "metadata": {},
   "outputs": [],
   "source": [
    "import plotly.express as px\n",
    "import pandas as pd"
   ]
  },
  {
   "cell_type": "code",
   "execution_count": 2,
   "metadata": {},
   "outputs": [
    {
     "ename": "NameError",
     "evalue": "name 'col_list' is not defined",
     "output_type": "error",
     "traceback": [
      "\u001b[0;31m---------------------------------------------------------------------------\u001b[0m",
      "\u001b[0;31mNameError\u001b[0m                                 Traceback (most recent call last)",
      "\u001b[0;32m<ipython-input-2-665657806552>\u001b[0m in \u001b[0;36m<module>\u001b[0;34m\u001b[0m\n\u001b[1;32m     16\u001b[0m             \"invalid_geo\"]\n\u001b[1;32m     17\u001b[0m \u001b[0;31m#Load the specified columns in the col_list variable above\u001b[0m\u001b[0;34m\u001b[0m\u001b[0;34m\u001b[0m\u001b[0;34m\u001b[0m\u001b[0m\n\u001b[0;32m---> 18\u001b[0;31m \u001b[0mdf_mrtg\u001b[0m \u001b[0;34m=\u001b[0m \u001b[0mpd\u001b[0m\u001b[0;34m.\u001b[0m\u001b[0mread_csv\u001b[0m\u001b[0;34m(\u001b[0m\u001b[0;34m\"./data/hmda_tract_2019.csv\"\u001b[0m\u001b[0;34m,\u001b[0m \u001b[0musecols\u001b[0m\u001b[0;34m=\u001b[0m\u001b[0mcol_list\u001b[0m\u001b[0;34m,\u001b[0m \u001b[0mlow_memory\u001b[0m\u001b[0;34m=\u001b[0m\u001b[0;32mFalse\u001b[0m\u001b[0;34m)\u001b[0m\u001b[0;34m\u001b[0m\u001b[0;34m\u001b[0m\u001b[0m\n\u001b[0m\u001b[1;32m     19\u001b[0m \u001b[0;31m#File is presorted by geo2010 variable; also sort triggered an error because the geo2010 field has charachter type 'TypeError: '<' not supported between instances of 'str' and 'int''\u001b[0m\u001b[0;34m\u001b[0m\u001b[0;34m\u001b[0m\u001b[0;34m\u001b[0m\u001b[0m\n\u001b[1;32m     20\u001b[0m \u001b[0;31m#df = df.sort_values(by='geo2010')\u001b[0m\u001b[0;34m\u001b[0m\u001b[0;34m\u001b[0m\u001b[0;34m\u001b[0m\u001b[0m\n",
      "\u001b[0;31mNameError\u001b[0m: name 'col_list' is not defined"
     ]
    }
   ],
   "source": [
    "#Load the csv file on the most recent 2019 year available of Home Mortgage Disclosure Act Neighborhood Summary Files: Census Tract Level\n",
    "#File is already downloaded from the Urban Data Catalog, and saved locally \n",
    "#define specific columns needed to read in since it's a large file\n",
    "col_list_mrtg = [\"geo2010\", # US Census tract ID (ssccctttttt) per definition in Urban-HMDA_neighborhood_data_codebook\n",
    "            'geo2010_11', # corrected for missing leading zeros, all have 11 digits now\n",
    "            'CensusTractID', # last 6 digits of geo2010_11\n",
    "            'StateID', # first 2 digits of geo2010_11\n",
    "            'CountyID', # mid 3 digits of geo2010_11, following StateID digits\n",
    "            #\"owner_purchase_originations\", \n",
    "            'purch_orig', \n",
    "            \"median_loan_amount\", \n",
    "            \"median_income\", \n",
    "            \"income_avail\", \n",
    "            \"race_avail\", \n",
    "            \"race_income_avail\", \n",
    "            \"invalid_geo\"]\n",
    "#Load the specified columns in the col_list variable above\n",
    "df_mrtg = pd.read_csv(\"./data/hmda_tract_2019.csv\", usecols=col_list, low_memory=False)\n",
    "#File is presorted by geo2010 variable; also sort triggered an error because the geo2010 field has charachter type 'TypeError: '<' not supported between instances of 'str' and 'int''\n",
    "#df = df.sort_values(by='geo2010')\n",
    "#display the dataframe\n",
    "df_mrtg"
   ]
  },
  {
   "cell_type": "markdown",
   "metadata": {},
   "source": [
    "### Taking a glimpse at the distribution of the mortgage data\n",
    "\n",
    "Along with availability of income (high/low indicators are in dataset also), and race\n",
    "\n",
    "What other stories might I tell in this dataset without linking with the financial institution locations?"
   ]
  },
  {
   "cell_type": "code",
   "execution_count": null,
   "metadata": {},
   "outputs": [],
   "source": [
    "# Exploratory combined statistical Distplot of mortgage data\n",
    "fig = px.scatter_matrix(df_mrtg,\n",
    "#specify columns to show, colors\n",
    "    dimensions=[\"purch_orig\", \"median_loan_amount\", #\"income_avail\", \"race_avail\", \n",
    "                \"race_income_avail\"],\n",
    "    title='Distribution of Median Loan Amount with Availability of Borrowers Income and Race')\n",
    "\n",
    "fig.show(renderer='browser')"
   ]
  },
  {
   "cell_type": "code",
   "execution_count": null,
   "metadata": {},
   "outputs": [],
   "source": [
    "#Load the csv file on the list of all bank institutions and branches with Census CBSA codes\n",
    "#File is already downloaded from the FDIC, and saved locally \n",
    "#define specific columns needed to read in since it's a large file\n",
    "col_list_bks = [\"BKCLASS\", #Institution Class: a list of codes can be found in the OFFICES2_DEFINITIONS file\n",
    "            'CBSA', #US Census Core Based Statistical Area Name (Branch)\n",
    "            'CBSA_NO', #CBSA number \n",
    "            \"CITY\", \n",
    "            \"COUNTY\", \n",
    "            \"CSA\", #US Census Combined Statistical Area Name (Branch)\n",
    "            \"CSA_NO\", #CSA number\n",
    "            \"NAME\", #Institution Name\n",
    "            \"OFFNAME\", #Office Name\n",
    "            \"OFFNUM\", #Office number\n",
    "            \"SERVTYPE\"] #Service Type Code: a list of codes can be found in the OFFICES2_DEFINITIONS file \n",
    "#Load the specified columns in the col_list variable above\n",
    "#Note default UTF-8 was resulting in error: UnicodeDecodeError: 'utf-8' codec can't decode byte 0xf1 in position 2: invalid continuation byte\n",
    "#Therefore solution to explicitly specific latin-1 encoding was added as per stackoverflow solutions\n",
    "df_bks = pd.read_csv(\"./data/OFFICES2_ALL.CSV\", encoding='latin-1', usecols=col_list_bks)\n",
    "#File is presorted by geo2010 variable; also sort triggered an error because the geo2010 field has charachter type 'TypeError: '<' not supported between instances of 'str' and 'int''\n",
    "#df = df.sort_values(by='geo2010')\n",
    "#display the dataframe\n",
    "df_bks"
   ]
  },
  {
   "cell_type": "markdown",
   "metadata": {},
   "source": [
    "### Linking structure to analyze bank locations and mortgage disclosure data\n",
    "\n",
    "Link  [Bank (df_bks)].[CBSA_NO] \n",
    "\n",
    "\n",
    "to [crosswalk (df_cx].[cbsacode]\n",
    "\n",
    "\n",
    "and to [crosswalk (df_cx].[fipsstatecode_2]+[fipscountycode_3]\n",
    "\n",
    "\n",
    "to [mortgages (df_mrtg)].[StateID]+[CountyID]"
   ]
  },
  {
   "cell_type": "markdown",
   "metadata": {},
   "source": [
    "### Challenges\n",
    "\n",
    "1. Difficulty isolating only owner occupied home loans\n",
    "    - The variable I had to use may include investment properties/rentals where the person who got a mortgage is not using it as their own home.\n",
    "    - It still provides a high level view of property lending including investment interests.\n",
    "    - 'owner_purchase_originations' variable cited in code book is not found in the 2019 data file.\n",
    "    - Extending beyond a single year, data are in separate files for each year.\n",
    "\n",
    "\n",
    "2. Understanding Census codes!!\n",
    "    - This was a helpful resource: https://www.census.gov/programs-surveys/geography/guidance/geo-identifiers.html\n",
    "    - and this about Core-Based Statistical Areas (CBSA) https://www.census.gov/topics/housing/housing-patterns/about/core-based-statistical-areas.html\n",
    "    - \"The full GEOID for many levels of geography combines both the FIPS codes and Census Bureau codes. For example, census tracts, block groups and census blocks nest within state and county; therefore, the GEOIDs for each of these geographic areas contains both the state and county FIPS codes, in which they nest.\"\n",
    "    - \"For example, census tracts, block groups and census blocks nest within state and county; therefore, the GEOIDs for each of these geographic areas contains both the state and county FIPS codes, in which they nest.\"\n",
    "\n",
    "\n",
    "3. Hierarchy and nested codes:\n",
    "    - United States\n",
    "        - Region\n",
    "            - Division\n",
    "                - State\n",
    "                    - County\n",
    "                        - County subdivision\n",
    "                            - Place (or part)\n",
    "                                - Census tract (or part)\n",
    "                                    - Block group (or part)\n",
    "                                         - Census block\n",
    "\n",
    "\n",
    "4. Requirement to use a crosswalk to link to bank locations because \n",
    "    - Different Census geographic identifiers were used by the different data sources.\n",
    "    - Found an existing resource to bridge Census Core-Based Statistical Area (CBSA) to Federal Information Processing Series (FIPS) County Crosswalk from the National Bureau of Economic Research.\n",
    "    - In offices file (banks) some CSBA numbers are '0'\n",
    "\n",
    "\n",
    "5. May only be able to link banks to the county level (state + county) with this crosswalk\n",
    "    - Does not tell the story of urban neighborhoods in some counties in contrast to more rural counties\n",
    "    - May be able to drill further into CBSA areas in metropolitan areas through mapping\n",
    "\n",
    "\n",
    "5. Some pesky data issues in the FDIC bank file: \n",
    "    - having to do with encoding as UTF-8 or latin... so I'll need to verify the data a bit further to confirm the solution and that it's clean.\n",
    "    - Missing CBSA codes: 9,100 records list '0' out of 84,076 total bank location records (about 10%). I can't see any similarity in these records versus the others and some appear to be a very close location to others that do have a CBSA listed, so it seems to be likely missing data in the file. These have '0' CSA also.\n",
    "    - Note the valid CBSA codes in this file have 5 digits, not 1 ('0')"
   ]
  },
  {
   "cell_type": "markdown",
   "metadata": {},
   "source": [
    "### Cited & Referenced\n",
    "\n",
    "Federal Deposit Insurance Corporation (FDIC), accessed 8/31/2021\n",
    "1. Current list of all institutions (3.68 MB)\n",
    "2. Current locations for all institutions (branches and main offices) (7.50 MB)\n",
    "https://www7.fdic.gov/idasp/warp_download_all.asp\n",
    "\n",
    "US Census Glossary, accessed 8/31/2021,\n",
    "https://www.census.gov/programs-surveys/geography/about/glossary.html#par_textimage_13\n",
    "\n",
    "Home Mortgage Disclosure Act Neighborhood Summary Files: Census Tract Level, Urban Institute, accessed 8/31/2021,\n",
    "https://datacatalog.urban.org/dataset/home-mortgage-disclosure-act-neighborhood-summary-files-census-tract-level\n",
    "\n",
    "National Census-tract level summary file of Home Mortgage Disclosure Act (HMDA) indicators, Github repository, Urban Institute, accessed 8/31/2021,\n",
    "https://github.com/UI-Research/hmda-neighborhood\n",
    "\n",
    "Census Core-Based Statistical Area (CBSA) to Federal Information Processing Series (FIPS) County Crosswalk, National Bureau of Economic Research, accessed 8/31/2021,\n",
    "https://www.nber.org/research/data/census-core-based-statistical-area-cbsa-federal-information-processing-series-fips-county-crosswalk"
   ]
  }
 ],
 "metadata": {
  "kernelspec": {
   "display_name": "Python 3",
   "language": "python",
   "name": "python3"
  },
  "language_info": {
   "codemirror_mode": {
    "name": "ipython",
    "version": 3
   },
   "file_extension": ".py",
   "mimetype": "text/x-python",
   "name": "python",
   "nbconvert_exporter": "python",
   "pygments_lexer": "ipython3",
   "version": "3.8.3"
  }
 },
 "nbformat": 4,
 "nbformat_minor": 4
}
