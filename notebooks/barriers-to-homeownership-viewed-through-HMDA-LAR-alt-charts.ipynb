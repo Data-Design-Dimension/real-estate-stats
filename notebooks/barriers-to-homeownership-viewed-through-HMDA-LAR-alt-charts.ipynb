{
 "cells": [
  {
   "cell_type": "markdown",
   "metadata": {},
   "source": [
    "\n",
    "# Costs and Barriers to Home Ownership along \n",
    "## the Mortgage Application Timeline\n",
    "\n",
    "### _Alternate Chart Types to go with the Sankey flow charts in other notebook(s)_\n",
    "\n",
    "##### Author: Kathryn Hurchla for Data Design Dimension (c) 2021\n",
    "exploratory data analysis\n",
    "for Design Labs: Industry Challenge,\n",
    "MICA Data Analytics & Visualization\n",
    "9/28/2021\n",
    "\n",
    "## Key Questions\n",
    "\n",
    "- Where do folks exit the home loan application process?\n",
    "- How do loan costs look at that point?\n",
    "- Which loans are closing and which are not?\n",
    "- How prevalent are negatively amortizing loans?\n",
    "- What is the volume of loans of modest prices for new construction, in relation to higher priced loans and other homes of modest loan prices?\n",
    "\n",
    "### Having to Do with the False Claims Act (FCA)\n",
    "- How prevalent are \"credit overlays\" in FHA loans?\n",
    "- To what degree do FHA loans incur higher initial fees than non-FHA loans, as a lenders' step to avoid or curb losses from liabilities with the FCA?\n",
    "\n",
    "### Primary Data Source\n",
    "\n",
    "#### Housing Mortgage Disclosure Act (HMDA) Modified Loan Application Registrat (LAR), FFIEC\n",
    "https://ffiec.cfpb.gov/data-publication/"
   ]
  },
  {
   "cell_type": "markdown",
   "metadata": {},
   "source": [
    "## Prepare the data and analysis environment first"
   ]
  },
  {
   "cell_type": "code",
   "execution_count": 100,
   "metadata": {},
   "outputs": [
    {
     "data": {
      "text/html": [
       "        <script type=\"text/javascript\">\n",
       "        window.PlotlyConfig = {MathJaxConfig: 'local'};\n",
       "        if (window.MathJax) {MathJax.Hub.Config({SVG: {font: \"STIX-Web\"}});}\n",
       "        if (typeof require !== 'undefined') {\n",
       "        require.undef(\"plotly\");\n",
       "        requirejs.config({\n",
       "            paths: {\n",
       "                'plotly': ['https://cdn.plot.ly/plotly-2.4.2.min']\n",
       "            }\n",
       "        });\n",
       "        require(['plotly'], function(Plotly) {\n",
       "            window._Plotly = Plotly;\n",
       "        });\n",
       "        }\n",
       "        </script>\n",
       "        "
      ]
     },
     "metadata": {},
     "output_type": "display_data"
    },
    {
     "data": {
      "text/html": [
       "        <script type=\"text/javascript\">\n",
       "        window.PlotlyConfig = {MathJaxConfig: 'local'};\n",
       "        if (window.MathJax) {MathJax.Hub.Config({SVG: {font: \"STIX-Web\"}});}\n",
       "        if (typeof require !== 'undefined') {\n",
       "        require.undef(\"plotly\");\n",
       "        requirejs.config({\n",
       "            paths: {\n",
       "                'plotly': ['https://cdn.plot.ly/plotly-2.4.2.min']\n",
       "            }\n",
       "        });\n",
       "        require(['plotly'], function(Plotly) {\n",
       "            window._Plotly = Plotly;\n",
       "        });\n",
       "        }\n",
       "        </script>\n",
       "        "
      ]
     },
     "metadata": {},
     "output_type": "display_data"
    }
   ],
   "source": [
    "# Import the necessaries libraries\n",
    "# # I will use matplotlib and seaborn for plots\n",
    "# import matplotlib.pyplot as plt\n",
    "# # from matplotlib.sankey import Sankey # limit this work to the Sankey notebook for this project\n",
    "from matplotlib import rcParams\n",
    "import matplotlib as mpl\n",
    "import cufflinks as cf\n",
    "import seaborn as sns\n",
    "import chart_studio.plotly as py\n",
    "# commented out because plotly express was taking too long to render plots with this dataset\n",
    "import plotly.express as px\n",
    "import plotly.graph_objects as go\n",
    "%matplotlib inline\n",
    "\n",
    "from plotly.offline import download_plotlyjs, init_notebook_mode, plot, iplot\n",
    "init_notebook_mode(connected=True)\n",
    "cf.go_offline()\n",
    "\n",
    "import pandas as pd\n",
    "import numpy as np\n",
    "import sys # to find version and check directories\n",
    "from IPython.display import display_html # to change Pandas styling methods (use styler objects, i.e. side by side data tables)"
   ]
  },
  {
   "cell_type": "code",
   "execution_count": 73,
   "metadata": {},
   "outputs": [],
   "source": [
    "# # for troubleshooting\n",
    "# from plotly import exceptions"
   ]
  },
  {
   "cell_type": "code",
   "execution_count": 74,
   "metadata": {},
   "outputs": [],
   "source": [
    "# # for troubleshooting check where the notebook is searching from\n",
    "# import sys\n",
    "# sys.path"
   ]
  },
  {
   "cell_type": "code",
   "execution_count": 75,
   "metadata": {},
   "outputs": [],
   "source": [
    "from IPython.core.interactiveshell import InteractiveShell\n",
    "InteractiveShell.ast_node_interactivity = 'all'"
   ]
  },
  {
   "cell_type": "markdown",
   "metadata": {},
   "source": [
    "### Prepare the plotting environment for consistent style\n",
    "\n",
    "Set the plot palette and other style constants"
   ]
  },
  {
   "cell_type": "code",
   "execution_count": 243,
   "metadata": {},
   "outputs": [],
   "source": [
    "# set a plotly palette\n",
    "# # alternately assign specific colors from mood board in graphs directly\n",
    "# set Seaborn palette\n",
    "sns.set_style(\"whitegrid\")\n",
    "# set Seaborn palette\n",
    "sns.set_palette(\"Set2_r\") # for categorical, just reversed this showing less of the pink hue values\n",
    "# # check the location of my matplotlib font cache file to see what the default fonts are\n",
    "# mpl.get_cachedir()\n",
    "# # check my Python version to know which cache file to look for\n",
    "# print(sys.version)\n",
    "from matplotlib.font_manager import findfont, FontProperties # unless the full matplotlib module is imported already, this part is needed\n",
    "# # check the sans-serif font\n",
    "# font = findfont(FontProperties(family=['sans-serif']))\n",
    "# font"
   ]
  },
  {
   "cell_type": "code",
   "execution_count": 77,
   "metadata": {},
   "outputs": [
    {
     "data": {
      "image/png": "[encoded data removed]",
      "text/plain": [
       "<Figure size 432x288 with 1 Axes>"
      ]
     },
     "metadata": {
      "needs_background": "light"
     },
     "output_type": "display_data"
    }
   ],
   "source": [
    "# set an overall font for plots\n",
    "# for font troubleshooting, reference this super helpful stackoverflow at https://stackoverflow.com/questions/59391050/unable-to-use-custom-fonts-in-matplotlib\n",
    "# after manually moving the font cache file from that location to my trash,\n",
    "# rebuild the font cache, by running this and restarting the python kernel\n",
    "# set the parameter for sans serif font\n",
    "mpl.rcParams['font.family'] = 'sans-serif'\n",
    "# for sans serif fonts, set a list of font family styles to try to find in this order\n",
    "mpl.rcParams['font.sans-serif'] = ['Lexend', 'Roboto', 'Verdana', 'Tahoma', 'DejaVu Sans', 'Lucida Grande'] # note as of matplotlib 2.0 DejaVu Sans is default font\n",
    "# assign default font size\n",
    "mpl.rcParams['font.size']  = 14\n",
    "\n",
    "# check the sans-serif font again\n",
    "font = findfont(FontProperties(family=['sans-serif']))\n",
    "# test that now instead of the previous font listed, now the new font shows\n",
    "plt.plot(range(0,50,10))\n",
    "plt.title('Font Test:\\n' + str(font), size=32)\n",
    "plt.show();"
   ]
  },
  {
   "cell_type": "markdown",
   "metadata": {},
   "source": [
    "### Great, now I'm running my preferred Lexend font!\n",
    "\n",
    "The matplotlib font cache file was rebuilt in my user directory, and the same default DejaVu Sans remain there, but now Lexend is listed there as an available font, and anytime I designate it using rcParams in the future it will be used."
   ]
  },
  {
   "cell_type": "markdown",
   "metadata": {},
   "source": [
    "### Load the Data\n",
    "\n",
    "Initially, I loaded the full dataset on the most recent 2020 year available of HMDA LAR, and ultimately opted to use and load only two specific variables, Activity Year and Action Taken, then loaded and combined with the same information for the years 2018 and 2019 also managed by and available from the FFIEC Data Explorer and API."
   ]
  },
  {
   "cell_type": "code",
   "execution_count": null,
   "metadata": {},
   "outputs": [],
   "source": [
    "# Using %stored variables\n",
    "# refresh all variables, aliased and directory history\n",
    "%store -r\n",
    "\n",
    "# view the number of rows and columns\n",
    "# # separated by year dataframes\n",
    "# df_2020_single_purch_terminal.shape\n",
    "# df_2019_single_purch_terminal.shape\n",
    "# df_2018_single_purch_terminal.shape\n",
    "\n",
    "# single combined with year variable\n",
    "df_181920_single_purch_terminal.shape\n",
    "\n",
    "\n",
    "# this will include only the columns I need into year variables first, only primary residence loans, only single unit, only terminal loan records (origination were removed)\n",
    "# note otherwise the original source of data would be, but\n",
    "# additional processing has already been done on this variable in notebook: /notebooks/barriers-to-homeownership-viewed-through-HMDA-LAR.ipynb\n",
    "##df_2020_single_purch_allvars = pd.read_csv(\"../data/hmda_ffiec_nationwide_2020_one-unit_home_purchase.csv\", usecols=['activity_year','action_taken', 'occupancy_type'], low_memory=False)"
   ]
  },
  {
   "cell_type": "markdown",
   "metadata": {},
   "source": [
    "### Review the data"
   ]
  },
  {
   "cell_type": "code",
   "execution_count": 79,
   "metadata": {},
   "outputs": [
    {
     "data": {
      "text/plain": [
       "activity_year                   int64\n",
       "action_taken                  float64\n",
       "stage                          object\n",
       "action_taken_mapped_labels     object\n",
       "dtype: object"
      ]
     },
     "execution_count": 79,
     "metadata": {},
     "output_type": "execute_result"
    },
    {
     "data": {
      "text/html": [
       "<div>\n",
       "<style scoped>\n",
       "    .dataframe tbody tr th:only-of-type {\n",
       "        vertical-align: middle;\n",
       "    }\n",
       "\n",
       "    .dataframe tbody tr th {\n",
       "        vertical-align: top;\n",
       "    }\n",
       "\n",
       "    .dataframe thead th {\n",
       "        text-align: right;\n",
       "    }\n",
       "</style>\n",
       "<table border=\"1\" class=\"dataframe\">\n",
       "  <thead>\n",
       "    <tr style=\"text-align: right;\">\n",
       "      <th></th>\n",
       "      <th>activity_year</th>\n",
       "      <th>action_taken</th>\n",
       "      <th>stage</th>\n",
       "      <th>action_taken_mapped_labels</th>\n",
       "    </tr>\n",
       "  </thead>\n",
       "  <tbody>\n",
       "    <tr>\n",
       "      <th>2</th>\n",
       "      <td>2018</td>\n",
       "      <td>3.0</td>\n",
       "      <td>Decision</td>\n",
       "      <td>Application denied</td>\n",
       "    </tr>\n",
       "    <tr>\n",
       "      <th>3</th>\n",
       "      <td>2018</td>\n",
       "      <td>2.0</td>\n",
       "      <td>Decision</td>\n",
       "      <td>Application approved but not accepted</td>\n",
       "    </tr>\n",
       "    <tr>\n",
       "      <th>11</th>\n",
       "      <td>2018</td>\n",
       "      <td>3.0</td>\n",
       "      <td>Decision</td>\n",
       "      <td>Application denied</td>\n",
       "    </tr>\n",
       "    <tr>\n",
       "      <th>26</th>\n",
       "      <td>2018</td>\n",
       "      <td>3.0</td>\n",
       "      <td>Decision</td>\n",
       "      <td>Application denied</td>\n",
       "    </tr>\n",
       "    <tr>\n",
       "      <th>27</th>\n",
       "      <td>2018</td>\n",
       "      <td>3.0</td>\n",
       "      <td>Decision</td>\n",
       "      <td>Application denied</td>\n",
       "    </tr>\n",
       "  </tbody>\n",
       "</table>\n",
       "</div>"
      ],
      "text/plain": [
       "    activity_year  action_taken     stage  \\\n",
       "2            2018           3.0  Decision   \n",
       "3            2018           2.0  Decision   \n",
       "11           2018           3.0  Decision   \n",
       "26           2018           3.0  Decision   \n",
       "27           2018           3.0  Decision   \n",
       "\n",
       "               action_taken_mapped_labels  \n",
       "2                      Application denied  \n",
       "3   Application approved but not accepted  \n",
       "11                     Application denied  \n",
       "26                     Application denied  \n",
       "27                     Application denied  "
      ]
     },
     "execution_count": 79,
     "metadata": {},
     "output_type": "execute_result"
    }
   ],
   "source": [
    "# check the data types\n",
    "df_181920_single_purch_terminal.dtypes\n",
    "# view the head\n",
    "df_181920_single_purch_terminal.head()"
   ]
  },
  {
   "cell_type": "markdown",
   "metadata": {},
   "source": [
    "#### Note action taken remains an integrer value\n",
    "\n",
    "I can handle labelling in charts, or repeat the stets to assign dictionary definition/description values if that is more efficient."
   ]
  },
  {
   "cell_type": "markdown",
   "metadata": {},
   "source": [
    "## Quick plot to compare overall activity counts year over year"
   ]
  },
  {
   "cell_type": "code",
   "execution_count": 80,
   "metadata": {},
   "outputs": [],
   "source": [
    "# quickref colors to align with flow chart sections for stages (?)\n",
    "\n",
    "# some doc titles/elements: '#000080' (True Navy)\n",
    "# chart titles: #353535' Urban charts dark\n",
    "# accent/quotes/active hyperlinks: #4c2c92 (a deep purple hue)\n",
    "# footnote/source text: '#989B98' a deemphasised gray\n",
    "\n",
    "# Stages colored along a tonal spectrum range sequntial of Urban brand color (a medium blue hue)\n",
    "# Preapproval: '#8ACAE8'\n",
    "# Underwriting: '#5BB5DF' \n",
    "# Decision: '#2DA0D6'\n",
    "\n",
    "# year colors (? test) \n",
    "# 2020: '#169682' Urban brand color (a medium blue hue) -- will this be too close to stage colors? Use purple?\n",
    "# 2019: '#353535' Urban charts dark\n",
    "# 2018: '#989B98' a biophiliac gray shade of #dadeda\n",
    "\n",
    "# meaningful highlight, limited use\n",
    "# '#fdbf11' Urban charts highlight (a rich gold hue)\n",
    "# 'r' text ultra highlight for focal point callouts ('red') / show an error during plotting"
   ]
  },
  {
   "cell_type": "code",
   "execution_count": 81,
   "metadata": {},
   "outputs": [],
   "source": [
    "# recreate to reorder and shorten the mapping dictionary to only terminal exits actions\n",
    "dic_action_taken_terminalord = {8: 'Preapproval request approved but not accepted', 7: 'Preapproval request denied', 4: 'Application withdrawn by applicant', 5: 'File closed for incompleteness', 2: 'Application approved but not accepted', 6: 'Purchased loan', 3: 'Application denied'}"
   ]
  },
  {
   "cell_type": "code",
   "execution_count": 82,
   "metadata": {},
   "outputs": [
    {
     "name": "stdout",
     "output_type": "stream",
     "text": [
      "Is it a tuple? \n"
     ]
    },
    {
     "data": {
      "text/plain": [
       "False"
      ]
     },
     "execution_count": 82,
     "metadata": {},
     "output_type": "execute_result"
    }
   ],
   "source": [
    "# make the tuple into a dataframe to resolve plotting error:\n",
    "# ValueError: The truth value of a Series is ambiguous. Use a.empty, a.bool(), a.item(), a.any() or a.all().\n",
    "df_181920_single_purch_terminal = pd.DataFrame(df_181920_single_purch_terminal)\n",
    "# now test if it is a tuple\n",
    "print('Is it a tuple? ') \n",
    "isinstance(df_181920_single_purch_terminal, tuple)"
   ]
  },
  {
   "cell_type": "code",
   "execution_count": 83,
   "metadata": {},
   "outputs": [
    {
     "name": "stdout",
     "output_type": "stream",
     "text": [
      "Is it a dataframe now? \n"
     ]
    },
    {
     "data": {
      "text/plain": [
       "True"
      ]
     },
     "execution_count": 83,
     "metadata": {},
     "output_type": "execute_result"
    }
   ],
   "source": [
    "print('Is it a dataframe now? ') \n",
    "isinstance(df_181920_single_purch_terminal, pd.DataFrame)"
   ]
  },
  {
   "cell_type": "code",
   "execution_count": 86,
   "metadata": {
    "scrolled": true
   },
   "outputs": [
    {
     "ename": "KeyboardInterrupt",
     "evalue": "",
     "output_type": "error",
     "traceback": [
      "\u001b[0;31m---------------------------------------------------------------------------\u001b[0m",
      "\u001b[0;31mKeyboardInterrupt\u001b[0m                         Traceback (most recent call last)",
      "\u001b[0;32m/var/folders/yl/cmk7gt492252lhxv4dwq5q280000gn/T/ipykernel_40273/2373171602.py\u001b[0m in \u001b[0;36m<module>\u001b[0;34m\u001b[0m\n\u001b[1;32m     44\u001b[0m \u001b[0;34m\u001b[0m\u001b[0m\n\u001b[1;32m     45\u001b[0m     \u001b[0;31m# endpoints\u001b[0m\u001b[0;34m\u001b[0m\u001b[0;34m\u001b[0m\u001b[0;34m\u001b[0m\u001b[0m\n\u001b[0;32m---> 46\u001b[0;31m     fig.add_trace(go.Scatter(\n\u001b[0m\u001b[1;32m     47\u001b[0m         \u001b[0mx\u001b[0m\u001b[0;34m=\u001b[0m\u001b[0;34m[\u001b[0m\u001b[0mx_data\u001b[0m\u001b[0;34m[\u001b[0m\u001b[0mi\u001b[0m\u001b[0;34m]\u001b[0m\u001b[0;34m[\u001b[0m\u001b[0;36m0\u001b[0m\u001b[0;34m]\u001b[0m\u001b[0;34m,\u001b[0m \u001b[0mx_data\u001b[0m\u001b[0;34m[\u001b[0m\u001b[0mi\u001b[0m\u001b[0;34m]\u001b[0m\u001b[0;34m[\u001b[0m\u001b[0;34m-\u001b[0m\u001b[0;36m1\u001b[0m\u001b[0;34m]\u001b[0m\u001b[0;34m]\u001b[0m\u001b[0;34m,\u001b[0m\u001b[0;34m\u001b[0m\u001b[0;34m\u001b[0m\u001b[0m\n\u001b[1;32m     48\u001b[0m         \u001b[0my\u001b[0m\u001b[0;34m=\u001b[0m\u001b[0;34m[\u001b[0m\u001b[0my_data\u001b[0m\u001b[0;34m[\u001b[0m\u001b[0mi\u001b[0m\u001b[0;34m]\u001b[0m\u001b[0;34m[\u001b[0m\u001b[0;36m0\u001b[0m\u001b[0;34m]\u001b[0m\u001b[0;34m,\u001b[0m \u001b[0my_data\u001b[0m\u001b[0;34m[\u001b[0m\u001b[0mi\u001b[0m\u001b[0;34m]\u001b[0m\u001b[0;34m[\u001b[0m\u001b[0;34m-\u001b[0m\u001b[0;36m1\u001b[0m\u001b[0;34m]\u001b[0m\u001b[0;34m]\u001b[0m\u001b[0;34m,\u001b[0m\u001b[0;34m\u001b[0m\u001b[0;34m\u001b[0m\u001b[0m\n",
      "\u001b[0;32m~/opt/anaconda3/lib/python3.8/site-packages/plotly/basedatatypes.py\u001b[0m in \u001b[0;36madd_trace\u001b[0;34m(self, trace, row, col, secondary_y, exclude_empty_subplots)\u001b[0m\n\u001b[1;32m   2097\u001b[0m             \u001b[0;32mreturn\u001b[0m \u001b[0mself\u001b[0m\u001b[0;34m\u001b[0m\u001b[0;34m\u001b[0m\u001b[0m\n\u001b[1;32m   2098\u001b[0m \u001b[0;34m\u001b[0m\u001b[0m\n\u001b[0;32m-> 2099\u001b[0;31m         return self.add_traces(\n\u001b[0m\u001b[1;32m   2100\u001b[0m             \u001b[0mdata\u001b[0m\u001b[0;34m=\u001b[0m\u001b[0;34m[\u001b[0m\u001b[0mtrace\u001b[0m\u001b[0;34m]\u001b[0m\u001b[0;34m,\u001b[0m\u001b[0;34m\u001b[0m\u001b[0;34m\u001b[0m\u001b[0m\n\u001b[1;32m   2101\u001b[0m             \u001b[0mrows\u001b[0m\u001b[0;34m=\u001b[0m\u001b[0;34m[\u001b[0m\u001b[0mrow\u001b[0m\u001b[0;34m]\u001b[0m \u001b[0;32mif\u001b[0m \u001b[0mrow\u001b[0m \u001b[0;32mis\u001b[0m \u001b[0;32mnot\u001b[0m \u001b[0;32mNone\u001b[0m \u001b[0;32melse\u001b[0m \u001b[0;32mNone\u001b[0m\u001b[0;34m,\u001b[0m\u001b[0;34m\u001b[0m\u001b[0;34m\u001b[0m\u001b[0m\n",
      "\u001b[0;32m~/opt/anaconda3/lib/python3.8/site-packages/plotly/basedatatypes.py\u001b[0m in \u001b[0;36madd_traces\u001b[0;34m(self, data, rows, cols, secondary_ys, exclude_empty_subplots)\u001b[0m\n\u001b[1;32m   2240\u001b[0m \u001b[0;34m\u001b[0m\u001b[0m\n\u001b[1;32m   2241\u001b[0m         \u001b[0;31m# Make deep copy of trace data (Optimize later if needed)\u001b[0m\u001b[0;34m\u001b[0m\u001b[0;34m\u001b[0m\u001b[0;34m\u001b[0m\u001b[0m\n\u001b[0;32m-> 2242\u001b[0;31m         \u001b[0mnew_traces_data\u001b[0m \u001b[0;34m=\u001b[0m \u001b[0;34m[\u001b[0m\u001b[0mdeepcopy\u001b[0m\u001b[0;34m(\u001b[0m\u001b[0mtrace\u001b[0m\u001b[0;34m.\u001b[0m\u001b[0m_props\u001b[0m\u001b[0;34m)\u001b[0m \u001b[0;32mfor\u001b[0m \u001b[0mtrace\u001b[0m \u001b[0;32min\u001b[0m \u001b[0mdata\u001b[0m\u001b[0;34m]\u001b[0m\u001b[0;34m\u001b[0m\u001b[0;34m\u001b[0m\u001b[0m\n\u001b[0m\u001b[1;32m   2243\u001b[0m \u001b[0;34m\u001b[0m\u001b[0m\n\u001b[1;32m   2244\u001b[0m         \u001b[0;31m# Update trace parent\u001b[0m\u001b[0;34m\u001b[0m\u001b[0;34m\u001b[0m\u001b[0;34m\u001b[0m\u001b[0m\n",
      "\u001b[0;32m~/opt/anaconda3/lib/python3.8/site-packages/plotly/basedatatypes.py\u001b[0m in \u001b[0;36m<listcomp>\u001b[0;34m(.0)\u001b[0m\n\u001b[1;32m   2240\u001b[0m \u001b[0;34m\u001b[0m\u001b[0m\n\u001b[1;32m   2241\u001b[0m         \u001b[0;31m# Make deep copy of trace data (Optimize later if needed)\u001b[0m\u001b[0;34m\u001b[0m\u001b[0;34m\u001b[0m\u001b[0;34m\u001b[0m\u001b[0m\n\u001b[0;32m-> 2242\u001b[0;31m         \u001b[0mnew_traces_data\u001b[0m \u001b[0;34m=\u001b[0m \u001b[0;34m[\u001b[0m\u001b[0mdeepcopy\u001b[0m\u001b[0;34m(\u001b[0m\u001b[0mtrace\u001b[0m\u001b[0;34m.\u001b[0m\u001b[0m_props\u001b[0m\u001b[0;34m)\u001b[0m \u001b[0;32mfor\u001b[0m \u001b[0mtrace\u001b[0m \u001b[0;32min\u001b[0m \u001b[0mdata\u001b[0m\u001b[0;34m]\u001b[0m\u001b[0;34m\u001b[0m\u001b[0;34m\u001b[0m\u001b[0m\n\u001b[0m\u001b[1;32m   2243\u001b[0m \u001b[0;34m\u001b[0m\u001b[0m\n\u001b[1;32m   2244\u001b[0m         \u001b[0;31m# Update trace parent\u001b[0m\u001b[0;34m\u001b[0m\u001b[0;34m\u001b[0m\u001b[0;34m\u001b[0m\u001b[0m\n",
      "\u001b[0;32m~/opt/anaconda3/lib/python3.8/copy.py\u001b[0m in \u001b[0;36mdeepcopy\u001b[0;34m(x, memo, _nil)\u001b[0m\n\u001b[1;32m    144\u001b[0m     \u001b[0mcopier\u001b[0m \u001b[0;34m=\u001b[0m \u001b[0m_deepcopy_dispatch\u001b[0m\u001b[0;34m.\u001b[0m\u001b[0mget\u001b[0m\u001b[0;34m(\u001b[0m\u001b[0mcls\u001b[0m\u001b[0;34m)\u001b[0m\u001b[0;34m\u001b[0m\u001b[0;34m\u001b[0m\u001b[0m\n\u001b[1;32m    145\u001b[0m     \u001b[0;32mif\u001b[0m \u001b[0mcopier\u001b[0m \u001b[0;32mis\u001b[0m \u001b[0;32mnot\u001b[0m \u001b[0;32mNone\u001b[0m\u001b[0;34m:\u001b[0m\u001b[0;34m\u001b[0m\u001b[0;34m\u001b[0m\u001b[0m\n\u001b[0;32m--> 146\u001b[0;31m         \u001b[0my\u001b[0m \u001b[0;34m=\u001b[0m \u001b[0mcopier\u001b[0m\u001b[0;34m(\u001b[0m\u001b[0mx\u001b[0m\u001b[0;34m,\u001b[0m \u001b[0mmemo\u001b[0m\u001b[0;34m)\u001b[0m\u001b[0;34m\u001b[0m\u001b[0;34m\u001b[0m\u001b[0m\n\u001b[0m\u001b[1;32m    147\u001b[0m     \u001b[0;32melse\u001b[0m\u001b[0;34m:\u001b[0m\u001b[0;34m\u001b[0m\u001b[0;34m\u001b[0m\u001b[0m\n\u001b[1;32m    148\u001b[0m         \u001b[0;32mif\u001b[0m \u001b[0missubclass\u001b[0m\u001b[0;34m(\u001b[0m\u001b[0mcls\u001b[0m\u001b[0;34m,\u001b[0m \u001b[0mtype\u001b[0m\u001b[0;34m)\u001b[0m\u001b[0;34m:\u001b[0m\u001b[0;34m\u001b[0m\u001b[0;34m\u001b[0m\u001b[0m\n",
      "\u001b[0;32m~/opt/anaconda3/lib/python3.8/copy.py\u001b[0m in \u001b[0;36m_deepcopy_dict\u001b[0;34m(x, memo, deepcopy)\u001b[0m\n\u001b[1;32m    228\u001b[0m     \u001b[0mmemo\u001b[0m\u001b[0;34m[\u001b[0m\u001b[0mid\u001b[0m\u001b[0;34m(\u001b[0m\u001b[0mx\u001b[0m\u001b[0;34m)\u001b[0m\u001b[0;34m]\u001b[0m \u001b[0;34m=\u001b[0m \u001b[0my\u001b[0m\u001b[0;34m\u001b[0m\u001b[0;34m\u001b[0m\u001b[0m\n\u001b[1;32m    229\u001b[0m     \u001b[0;32mfor\u001b[0m \u001b[0mkey\u001b[0m\u001b[0;34m,\u001b[0m \u001b[0mvalue\u001b[0m \u001b[0;32min\u001b[0m \u001b[0mx\u001b[0m\u001b[0;34m.\u001b[0m\u001b[0mitems\u001b[0m\u001b[0;34m(\u001b[0m\u001b[0;34m)\u001b[0m\u001b[0;34m:\u001b[0m\u001b[0;34m\u001b[0m\u001b[0;34m\u001b[0m\u001b[0m\n\u001b[0;32m--> 230\u001b[0;31m         \u001b[0my\u001b[0m\u001b[0;34m[\u001b[0m\u001b[0mdeepcopy\u001b[0m\u001b[0;34m(\u001b[0m\u001b[0mkey\u001b[0m\u001b[0;34m,\u001b[0m \u001b[0mmemo\u001b[0m\u001b[0;34m)\u001b[0m\u001b[0;34m]\u001b[0m \u001b[0;34m=\u001b[0m \u001b[0mdeepcopy\u001b[0m\u001b[0;34m(\u001b[0m\u001b[0mvalue\u001b[0m\u001b[0;34m,\u001b[0m \u001b[0mmemo\u001b[0m\u001b[0;34m)\u001b[0m\u001b[0;34m\u001b[0m\u001b[0;34m\u001b[0m\u001b[0m\n\u001b[0m\u001b[1;32m    231\u001b[0m     \u001b[0;32mreturn\u001b[0m \u001b[0my\u001b[0m\u001b[0;34m\u001b[0m\u001b[0;34m\u001b[0m\u001b[0m\n\u001b[1;32m    232\u001b[0m \u001b[0md\u001b[0m\u001b[0;34m[\u001b[0m\u001b[0mdict\u001b[0m\u001b[0;34m]\u001b[0m \u001b[0;34m=\u001b[0m \u001b[0m_deepcopy_dict\u001b[0m\u001b[0;34m\u001b[0m\u001b[0;34m\u001b[0m\u001b[0m\n",
      "\u001b[0;32m~/opt/anaconda3/lib/python3.8/copy.py\u001b[0m in \u001b[0;36mdeepcopy\u001b[0;34m(x, memo, _nil)\u001b[0m\n\u001b[1;32m    144\u001b[0m     \u001b[0mcopier\u001b[0m \u001b[0;34m=\u001b[0m \u001b[0m_deepcopy_dispatch\u001b[0m\u001b[0;34m.\u001b[0m\u001b[0mget\u001b[0m\u001b[0;34m(\u001b[0m\u001b[0mcls\u001b[0m\u001b[0;34m)\u001b[0m\u001b[0;34m\u001b[0m\u001b[0;34m\u001b[0m\u001b[0m\n\u001b[1;32m    145\u001b[0m     \u001b[0;32mif\u001b[0m \u001b[0mcopier\u001b[0m \u001b[0;32mis\u001b[0m \u001b[0;32mnot\u001b[0m \u001b[0;32mNone\u001b[0m\u001b[0;34m:\u001b[0m\u001b[0;34m\u001b[0m\u001b[0;34m\u001b[0m\u001b[0m\n\u001b[0;32m--> 146\u001b[0;31m         \u001b[0my\u001b[0m \u001b[0;34m=\u001b[0m \u001b[0mcopier\u001b[0m\u001b[0;34m(\u001b[0m\u001b[0mx\u001b[0m\u001b[0;34m,\u001b[0m \u001b[0mmemo\u001b[0m\u001b[0;34m)\u001b[0m\u001b[0;34m\u001b[0m\u001b[0;34m\u001b[0m\u001b[0m\n\u001b[0m\u001b[1;32m    147\u001b[0m     \u001b[0;32melse\u001b[0m\u001b[0;34m:\u001b[0m\u001b[0;34m\u001b[0m\u001b[0;34m\u001b[0m\u001b[0m\n\u001b[1;32m    148\u001b[0m         \u001b[0;32mif\u001b[0m \u001b[0missubclass\u001b[0m\u001b[0;34m(\u001b[0m\u001b[0mcls\u001b[0m\u001b[0;34m,\u001b[0m \u001b[0mtype\u001b[0m\u001b[0;34m)\u001b[0m\u001b[0;34m:\u001b[0m\u001b[0;34m\u001b[0m\u001b[0;34m\u001b[0m\u001b[0m\n",
      "\u001b[0;32m~/opt/anaconda3/lib/python3.8/copy.py\u001b[0m in \u001b[0;36m_deepcopy_list\u001b[0;34m(x, memo, deepcopy)\u001b[0m\n\u001b[1;32m    203\u001b[0m     \u001b[0mappend\u001b[0m \u001b[0;34m=\u001b[0m \u001b[0my\u001b[0m\u001b[0;34m.\u001b[0m\u001b[0mappend\u001b[0m\u001b[0;34m\u001b[0m\u001b[0;34m\u001b[0m\u001b[0m\n\u001b[1;32m    204\u001b[0m     \u001b[0;32mfor\u001b[0m \u001b[0ma\u001b[0m \u001b[0;32min\u001b[0m \u001b[0mx\u001b[0m\u001b[0;34m:\u001b[0m\u001b[0;34m\u001b[0m\u001b[0;34m\u001b[0m\u001b[0m\n\u001b[0;32m--> 205\u001b[0;31m         \u001b[0mappend\u001b[0m\u001b[0;34m(\u001b[0m\u001b[0mdeepcopy\u001b[0m\u001b[0;34m(\u001b[0m\u001b[0ma\u001b[0m\u001b[0;34m,\u001b[0m \u001b[0mmemo\u001b[0m\u001b[0;34m)\u001b[0m\u001b[0;34m)\u001b[0m\u001b[0;34m\u001b[0m\u001b[0;34m\u001b[0m\u001b[0m\n\u001b[0m\u001b[1;32m    206\u001b[0m     \u001b[0;32mreturn\u001b[0m \u001b[0my\u001b[0m\u001b[0;34m\u001b[0m\u001b[0;34m\u001b[0m\u001b[0m\n\u001b[1;32m    207\u001b[0m \u001b[0md\u001b[0m\u001b[0;34m[\u001b[0m\u001b[0mlist\u001b[0m\u001b[0;34m]\u001b[0m \u001b[0;34m=\u001b[0m \u001b[0m_deepcopy_list\u001b[0m\u001b[0;34m\u001b[0m\u001b[0;34m\u001b[0m\u001b[0m\n",
      "\u001b[0;32m~/opt/anaconda3/lib/python3.8/copy.py\u001b[0m in \u001b[0;36mdeepcopy\u001b[0;34m(x, memo, _nil)\u001b[0m\n\u001b[1;32m    144\u001b[0m     \u001b[0mcopier\u001b[0m \u001b[0;34m=\u001b[0m \u001b[0m_deepcopy_dispatch\u001b[0m\u001b[0;34m.\u001b[0m\u001b[0mget\u001b[0m\u001b[0;34m(\u001b[0m\u001b[0mcls\u001b[0m\u001b[0;34m)\u001b[0m\u001b[0;34m\u001b[0m\u001b[0;34m\u001b[0m\u001b[0m\n\u001b[1;32m    145\u001b[0m     \u001b[0;32mif\u001b[0m \u001b[0mcopier\u001b[0m \u001b[0;32mis\u001b[0m \u001b[0;32mnot\u001b[0m \u001b[0;32mNone\u001b[0m\u001b[0;34m:\u001b[0m\u001b[0;34m\u001b[0m\u001b[0;34m\u001b[0m\u001b[0m\n\u001b[0;32m--> 146\u001b[0;31m         \u001b[0my\u001b[0m \u001b[0;34m=\u001b[0m \u001b[0mcopier\u001b[0m\u001b[0;34m(\u001b[0m\u001b[0mx\u001b[0m\u001b[0;34m,\u001b[0m \u001b[0mmemo\u001b[0m\u001b[0;34m)\u001b[0m\u001b[0;34m\u001b[0m\u001b[0;34m\u001b[0m\u001b[0m\n\u001b[0m\u001b[1;32m    147\u001b[0m     \u001b[0;32melse\u001b[0m\u001b[0;34m:\u001b[0m\u001b[0;34m\u001b[0m\u001b[0;34m\u001b[0m\u001b[0m\n\u001b[1;32m    148\u001b[0m         \u001b[0;32mif\u001b[0m \u001b[0missubclass\u001b[0m\u001b[0;34m(\u001b[0m\u001b[0mcls\u001b[0m\u001b[0;34m,\u001b[0m \u001b[0mtype\u001b[0m\u001b[0;34m)\u001b[0m\u001b[0;34m:\u001b[0m\u001b[0;34m\u001b[0m\u001b[0;34m\u001b[0m\u001b[0m\n",
      "\u001b[0;32m~/opt/anaconda3/lib/python3.8/copy.py\u001b[0m in \u001b[0;36m_deepcopy_list\u001b[0;34m(x, memo, deepcopy)\u001b[0m\n\u001b[1;32m    203\u001b[0m     \u001b[0mappend\u001b[0m \u001b[0;34m=\u001b[0m \u001b[0my\u001b[0m\u001b[0;34m.\u001b[0m\u001b[0mappend\u001b[0m\u001b[0;34m\u001b[0m\u001b[0;34m\u001b[0m\u001b[0m\n\u001b[1;32m    204\u001b[0m     \u001b[0;32mfor\u001b[0m \u001b[0ma\u001b[0m \u001b[0;32min\u001b[0m \u001b[0mx\u001b[0m\u001b[0;34m:\u001b[0m\u001b[0;34m\u001b[0m\u001b[0;34m\u001b[0m\u001b[0m\n\u001b[0;32m--> 205\u001b[0;31m         \u001b[0mappend\u001b[0m\u001b[0;34m(\u001b[0m\u001b[0mdeepcopy\u001b[0m\u001b[0;34m(\u001b[0m\u001b[0ma\u001b[0m\u001b[0;34m,\u001b[0m \u001b[0mmemo\u001b[0m\u001b[0;34m)\u001b[0m\u001b[0;34m)\u001b[0m\u001b[0;34m\u001b[0m\u001b[0;34m\u001b[0m\u001b[0m\n\u001b[0m\u001b[1;32m    206\u001b[0m     \u001b[0;32mreturn\u001b[0m \u001b[0my\u001b[0m\u001b[0;34m\u001b[0m\u001b[0;34m\u001b[0m\u001b[0m\n\u001b[1;32m    207\u001b[0m \u001b[0md\u001b[0m\u001b[0;34m[\u001b[0m\u001b[0mlist\u001b[0m\u001b[0;34m]\u001b[0m \u001b[0;34m=\u001b[0m \u001b[0m_deepcopy_list\u001b[0m\u001b[0;34m\u001b[0m\u001b[0;34m\u001b[0m\u001b[0m\n",
      "\u001b[0;32m~/opt/anaconda3/lib/python3.8/copy.py\u001b[0m in \u001b[0;36mdeepcopy\u001b[0;34m(x, memo, _nil)\u001b[0m\n\u001b[1;32m    136\u001b[0m \u001b[0;34m\u001b[0m\u001b[0m\n\u001b[1;32m    137\u001b[0m     \u001b[0md\u001b[0m \u001b[0;34m=\u001b[0m \u001b[0mid\u001b[0m\u001b[0;34m(\u001b[0m\u001b[0mx\u001b[0m\u001b[0;34m)\u001b[0m\u001b[0;34m\u001b[0m\u001b[0;34m\u001b[0m\u001b[0m\n\u001b[0;32m--> 138\u001b[0;31m     \u001b[0my\u001b[0m \u001b[0;34m=\u001b[0m \u001b[0mmemo\u001b[0m\u001b[0;34m.\u001b[0m\u001b[0mget\u001b[0m\u001b[0;34m(\u001b[0m\u001b[0md\u001b[0m\u001b[0;34m,\u001b[0m \u001b[0m_nil\u001b[0m\u001b[0;34m)\u001b[0m\u001b[0;34m\u001b[0m\u001b[0;34m\u001b[0m\u001b[0m\n\u001b[0m\u001b[1;32m    139\u001b[0m     \u001b[0;32mif\u001b[0m \u001b[0my\u001b[0m \u001b[0;32mis\u001b[0m \u001b[0;32mnot\u001b[0m \u001b[0m_nil\u001b[0m\u001b[0;34m:\u001b[0m\u001b[0;34m\u001b[0m\u001b[0;34m\u001b[0m\u001b[0m\n\u001b[1;32m    140\u001b[0m         \u001b[0;32mreturn\u001b[0m \u001b[0my\u001b[0m\u001b[0;34m\u001b[0m\u001b[0;34m\u001b[0m\u001b[0m\n",
      "\u001b[0;31mKeyboardInterrupt\u001b[0m: "
     ]
    }
   ],
   "source": [
    "# use whole table of all years df_181920_single_purch\n",
    "\n",
    "title = 'Slope chart test 2018-2020'\n",
    "\n",
    "# map the actual descriptions of actions from stored data dictionary to label safely in place of key values in data \n",
    "df_181920_single_purch_terminal[\"action_taken_mapped_labels\"] = df_181920_single_purch_terminal[\"action_taken\"].map(dic_action_taken_terminalord)\n",
    "\n",
    "labels = ['Preapproval request approved but not accepted', 'Preapproval request denied', 'Application withdrawn by applicant', 'File closed for incompleteness', 'Application approved but not accepted', 'Purchased loan', 'Application denied'] # df_181920_single_purch_terminal[\"action_taken_mapped_labels\"]\n",
    "# assign colors in order of dictionary: {8: '#8ACAE8', 7: '#8ACAE8', 4: '#5BB5DF', 5: '#5BB5DF', 2: '#2DA0D6', 6: '#2DA0D6', 3: '#2DA0D6'}]\n",
    "colors = ['#8ACAE8', '#8ACAE8', '#5BB5DF', '#5BB5DF', '#2DA0D6', '#2DA0D6', '#2DA0D6']\n",
    "\n",
    "mode_size = [8, 8, 8, 8, 8, 8, 8]\n",
    "line_size = [2, 2, 2, 2, 2, 2, 2]\n",
    "\n",
    "x_data = np.vstack((np.arange(df_181920_single_purch_terminal['activity_year'].any()),)*1)\n",
    "# assign numpy array of actions taken in order of dictionary (same order as labels and colors which I can't yet get to map dynamically here)\n",
    "# for ref: {8, 7, 4, 5, 2, 6, 3}\n",
    "# for ref: {8: 'Preapproval request approved but not accepted', 7: 'Preapproval request denied', 4: 'Application withdrawn by applicant', 5: 'File closed for incompleteness', 2: 'Application approved but not accepted', 6: 'Purchased loan', 3: 'Application denied'}\n",
    "y_data = np.array([\n",
    "    [(df_181920_single_purch_terminal[\"action_taken_mapped_labels\"] == 'Preapproval request approved but not accepted')],\n",
    "    [(df_181920_single_purch_terminal[\"action_taken_mapped_labels\"] == 'Preapproval request denied')],\n",
    "    [(df_181920_single_purch_terminal[\"action_taken_mapped_labels\"] == 'Application withdrawn by applicant')],\n",
    "    [(df_181920_single_purch_terminal[\"action_taken_mapped_labels\"] == 'File closed for incompleteness')], \n",
    "    [(df_181920_single_purch_terminal[\"action_taken_mapped_labels\"] == 'Application approved but not accepted')], \n",
    "    [(df_181920_single_purch_terminal[\"action_taken_mapped_labels\"] == 'Purchased loan')], \n",
    "    [(df_181920_single_purch_terminal[\"action_taken_mapped_labels\"] == 'Application denied')],\n",
    "#     [(df_181920_single_purch_terminal[\"action_taken\"] == 8)],\n",
    "#     [(df_181920_single_purch_terminal[\"action_taken\"] == 7)],\n",
    "#     [(df_181920_single_purch_terminal[\"action_taken\"] == 4)],\n",
    "#     [(df_181920_single_purch_terminal[\"action_taken\"] == 5)], \n",
    "#     [(df_181920_single_purch_terminal[\"action_taken\"] == 2)], \n",
    "#     [(df_181920_single_purch_terminal[\"action_taken\"] == 6)], \n",
    "#     [(df_181920_single_purch_terminal[\"action_taken\"] == 3)],\n",
    "])#df_181920_single_purch_terminal[\"action_taken\"])\n",
    "\n",
    "fig = go.Figure()\n",
    "\n",
    "for i in range(0, 6):\n",
    "    fig.add_trace(go.Scatter(x=x_data[i], y=y_data[i], mode='lines',\n",
    "        name=labels[i],\n",
    "        line=dict(color=colors[i], width=line_size[i]),\n",
    "        connectgaps=True,\n",
    "    ))\n",
    "\n",
    "    # endpoints\n",
    "    fig.add_trace(go.Scatter(\n",
    "        x=[x_data[i][0], x_data[i][-1]],\n",
    "        y=[y_data[i][0], y_data[i][-1]],\n",
    "        mode='markers',\n",
    "        marker=dict(color=colors[i], size=mode_size[i])\n",
    "    ))\n",
    "\n",
    "fig.update_layout(\n",
    "    xaxis=dict(\n",
    "        showline=True,\n",
    "        showgrid=False,\n",
    "        showticklabels=True,\n",
    "        linecolor='#989B98',\n",
    "        linewidth=2,\n",
    "        ticks='outside',\n",
    "        tickfont=dict(\n",
    "            family='Lexend',\n",
    "            size=12,\n",
    "            color='#353535',\n",
    "        ),\n",
    "    ),\n",
    "    yaxis=dict(\n",
    "        showgrid=False,\n",
    "        zeroline=False,\n",
    "        showline=False,\n",
    "        showticklabels=False,\n",
    "    ),\n",
    "    autosize=False,\n",
    "    margin=dict(\n",
    "        autoexpand=False,\n",
    "        l=100,\n",
    "        r=20,\n",
    "        t=110,\n",
    "    ),\n",
    "    showlegend=False,\n",
    "    plot_bgcolor='white'\n",
    ")\n",
    "\n",
    "annotations = []\n",
    "\n",
    "# Adding labels\n",
    "for y_trace, label, color in zip(y_data, labels, colors):\n",
    "    # labeling the left_side of the plot\n",
    "    annotations.append(dict(xref='paper', x=0.05, y=y_trace[0],\n",
    "                                  xanchor='right', yanchor='middle',\n",
    "                                  text=label + ' {}%'.format(y_trace[0]),\n",
    "                                  font=dict(family='Lexend',\n",
    "                                            size=16),\n",
    "                                  showarrow=False))\n",
    "    # labeling the right_side of the plot\n",
    "    annotations.append(dict(xref='paper', x=0.95, y=y_trace[11],\n",
    "                                  xanchor='left', yanchor='middle',\n",
    "                                  text='{}%'.format(y_trace[11]),\n",
    "                                  font=dict(family='Lexend',\n",
    "                                            size=16),\n",
    "                                  showarrow=False))\n",
    "# Title\n",
    "annotations.append(dict(xref='paper', yref='paper', x=0.0, y=1.05,\n",
    "                              xanchor='left', yanchor='bottom',\n",
    "                              text='Main Source for News',\n",
    "                              font=dict(family='Lexend',\n",
    "                                        size=30,\n",
    "                                        color='#353535'),\n",
    "                              showarrow=False))\n",
    "# Source\n",
    "annotations.append(dict(xref='paper', yref='paper', x=0.5, y=-0.1,\n",
    "                              xanchor='center', yanchor='top',\n",
    "                              text='Source: FFIEC Housing Mortgage Disclosure Act Modified Loan Application Registrat, FFIEC',\n",
    "                              font=dict(family='Lexend',\n",
    "                                        size=12,\n",
    "                                        color='#989B98'),\n",
    "                              showarrow=False))\n",
    "\n",
    "fig.update_layout(annotations=annotations)\n",
    "\n",
    "fig.show();"
   ]
  },
  {
   "cell_type": "code",
   "execution_count": null,
   "metadata": {},
   "outputs": [],
   "source": [
    "y_data"
   ]
  },
  {
   "cell_type": "code",
   "execution_count": 90,
   "metadata": {},
   "outputs": [
    {
     "ename": "ValueError",
     "evalue": "\n    Invalid value of type 'numpy.int64' received for the 'x' property of scatter\n        Received value: 2018\n\n    The 'x' property is an array that may be specified as a tuple,\n    list, numpy array, or pandas Series",
     "output_type": "error",
     "traceback": [
      "\u001b[0;31m---------------------------------------------------------------------------\u001b[0m",
      "\u001b[0;31mValueError\u001b[0m                                Traceback (most recent call last)",
      "\u001b[0;32m/var/folders/yl/cmk7gt492252lhxv4dwq5q280000gn/T/ipykernel_40273/2878581324.py\u001b[0m in \u001b[0;36m<module>\u001b[0;34m\u001b[0m\n\u001b[1;32m     19\u001b[0m \u001b[0;34m\u001b[0m\u001b[0m\n\u001b[1;32m     20\u001b[0m \u001b[0;32mfor\u001b[0m \u001b[0mi\u001b[0m \u001b[0;32min\u001b[0m \u001b[0mrange\u001b[0m\u001b[0;34m(\u001b[0m\u001b[0;36m0\u001b[0m\u001b[0;34m,\u001b[0m \u001b[0;36m6\u001b[0m\u001b[0;34m)\u001b[0m\u001b[0;34m:\u001b[0m\u001b[0;34m\u001b[0m\u001b[0;34m\u001b[0m\u001b[0m\n\u001b[0;32m---> 21\u001b[0;31m     fig.add_trace(go.Scatter(x=x_data[i], y=y_data[i], mode='lines',\n\u001b[0m\u001b[1;32m     22\u001b[0m         \u001b[0mname\u001b[0m\u001b[0;34m=\u001b[0m\u001b[0mlabels\u001b[0m\u001b[0;34m[\u001b[0m\u001b[0mi\u001b[0m\u001b[0;34m]\u001b[0m\u001b[0;34m,\u001b[0m\u001b[0;34m\u001b[0m\u001b[0;34m\u001b[0m\u001b[0m\n\u001b[1;32m     23\u001b[0m         \u001b[0mline\u001b[0m\u001b[0;34m=\u001b[0m\u001b[0mdict\u001b[0m\u001b[0;34m(\u001b[0m\u001b[0mcolor\u001b[0m\u001b[0;34m=\u001b[0m\u001b[0mcolors\u001b[0m\u001b[0;34m[\u001b[0m\u001b[0mi\u001b[0m\u001b[0;34m]\u001b[0m\u001b[0;34m,\u001b[0m \u001b[0mwidth\u001b[0m\u001b[0;34m=\u001b[0m\u001b[0mline_size\u001b[0m\u001b[0;34m[\u001b[0m\u001b[0mi\u001b[0m\u001b[0;34m]\u001b[0m\u001b[0;34m)\u001b[0m\u001b[0;34m,\u001b[0m\u001b[0;34m\u001b[0m\u001b[0;34m\u001b[0m\u001b[0m\n",
      "\u001b[0;32m~/opt/anaconda3/lib/python3.8/site-packages/plotly/graph_objs/_scatter.py\u001b[0m in \u001b[0;36m__init__\u001b[0;34m(self, arg, cliponaxis, connectgaps, customdata, customdatasrc, dx, dy, error_x, error_y, fill, fillcolor, groupnorm, hoverinfo, hoverinfosrc, hoverlabel, hoveron, hovertemplate, hovertemplatesrc, hovertext, hovertextsrc, ids, idssrc, legendgroup, legendgrouptitle, legendrank, line, marker, meta, metasrc, mode, name, opacity, orientation, selected, selectedpoints, showlegend, stackgaps, stackgroup, stream, text, textfont, textposition, textpositionsrc, textsrc, texttemplate, texttemplatesrc, uid, uirevision, unselected, visible, x, x0, xaxis, xcalendar, xhoverformat, xperiod, xperiod0, xperiodalignment, xsrc, y, y0, yaxis, ycalendar, yhoverformat, yperiod, yperiod0, yperiodalignment, ysrc, **kwargs)\u001b[0m\n\u001b[1;32m   3206\u001b[0m         \u001b[0m_v\u001b[0m \u001b[0;34m=\u001b[0m \u001b[0mx\u001b[0m \u001b[0;32mif\u001b[0m \u001b[0mx\u001b[0m \u001b[0;32mis\u001b[0m \u001b[0;32mnot\u001b[0m \u001b[0;32mNone\u001b[0m \u001b[0;32melse\u001b[0m \u001b[0m_v\u001b[0m\u001b[0;34m\u001b[0m\u001b[0;34m\u001b[0m\u001b[0m\n\u001b[1;32m   3207\u001b[0m         \u001b[0;32mif\u001b[0m \u001b[0m_v\u001b[0m \u001b[0;32mis\u001b[0m \u001b[0;32mnot\u001b[0m \u001b[0;32mNone\u001b[0m\u001b[0;34m:\u001b[0m\u001b[0;34m\u001b[0m\u001b[0;34m\u001b[0m\u001b[0m\n\u001b[0;32m-> 3208\u001b[0;31m             \u001b[0mself\u001b[0m\u001b[0;34m[\u001b[0m\u001b[0;34m\"x\"\u001b[0m\u001b[0;34m]\u001b[0m \u001b[0;34m=\u001b[0m \u001b[0m_v\u001b[0m\u001b[0;34m\u001b[0m\u001b[0;34m\u001b[0m\u001b[0m\n\u001b[0m\u001b[1;32m   3209\u001b[0m         \u001b[0m_v\u001b[0m \u001b[0;34m=\u001b[0m \u001b[0marg\u001b[0m\u001b[0;34m.\u001b[0m\u001b[0mpop\u001b[0m\u001b[0;34m(\u001b[0m\u001b[0;34m\"x0\"\u001b[0m\u001b[0;34m,\u001b[0m \u001b[0;32mNone\u001b[0m\u001b[0;34m)\u001b[0m\u001b[0;34m\u001b[0m\u001b[0;34m\u001b[0m\u001b[0m\n\u001b[1;32m   3210\u001b[0m         \u001b[0m_v\u001b[0m \u001b[0;34m=\u001b[0m \u001b[0mx0\u001b[0m \u001b[0;32mif\u001b[0m \u001b[0mx0\u001b[0m \u001b[0;32mis\u001b[0m \u001b[0;32mnot\u001b[0m \u001b[0;32mNone\u001b[0m \u001b[0;32melse\u001b[0m \u001b[0m_v\u001b[0m\u001b[0;34m\u001b[0m\u001b[0;34m\u001b[0m\u001b[0m\n",
      "\u001b[0;32m~/opt/anaconda3/lib/python3.8/site-packages/plotly/basedatatypes.py\u001b[0m in \u001b[0;36m__setitem__\u001b[0;34m(self, prop, value)\u001b[0m\n\u001b[1;32m   4817\u001b[0m                 \u001b[0;31m# ### Handle simple property ###\u001b[0m\u001b[0;34m\u001b[0m\u001b[0;34m\u001b[0m\u001b[0;34m\u001b[0m\u001b[0m\n\u001b[1;32m   4818\u001b[0m                 \u001b[0;32melse\u001b[0m\u001b[0;34m:\u001b[0m\u001b[0;34m\u001b[0m\u001b[0;34m\u001b[0m\u001b[0m\n\u001b[0;32m-> 4819\u001b[0;31m                     \u001b[0mself\u001b[0m\u001b[0;34m.\u001b[0m\u001b[0m_set_prop\u001b[0m\u001b[0;34m(\u001b[0m\u001b[0mprop\u001b[0m\u001b[0;34m,\u001b[0m \u001b[0mvalue\u001b[0m\u001b[0;34m)\u001b[0m\u001b[0;34m\u001b[0m\u001b[0;34m\u001b[0m\u001b[0m\n\u001b[0m\u001b[1;32m   4820\u001b[0m             \u001b[0;32melse\u001b[0m\u001b[0;34m:\u001b[0m\u001b[0;34m\u001b[0m\u001b[0;34m\u001b[0m\u001b[0m\n\u001b[1;32m   4821\u001b[0m                 \u001b[0;31m# Make sure properties dict is initialized\u001b[0m\u001b[0;34m\u001b[0m\u001b[0;34m\u001b[0m\u001b[0;34m\u001b[0m\u001b[0m\n",
      "\u001b[0;32m~/opt/anaconda3/lib/python3.8/site-packages/plotly/basedatatypes.py\u001b[0m in \u001b[0;36m_set_prop\u001b[0;34m(self, prop, val)\u001b[0m\n\u001b[1;32m   5161\u001b[0m                 \u001b[0;32mreturn\u001b[0m\u001b[0;34m\u001b[0m\u001b[0;34m\u001b[0m\u001b[0m\n\u001b[1;32m   5162\u001b[0m             \u001b[0;32melse\u001b[0m\u001b[0;34m:\u001b[0m\u001b[0;34m\u001b[0m\u001b[0;34m\u001b[0m\u001b[0m\n\u001b[0;32m-> 5163\u001b[0;31m                 \u001b[0;32mraise\u001b[0m \u001b[0merr\u001b[0m\u001b[0;34m\u001b[0m\u001b[0;34m\u001b[0m\u001b[0m\n\u001b[0m\u001b[1;32m   5164\u001b[0m \u001b[0;34m\u001b[0m\u001b[0m\n\u001b[1;32m   5165\u001b[0m         \u001b[0;31m# val is None\u001b[0m\u001b[0;34m\u001b[0m\u001b[0;34m\u001b[0m\u001b[0;34m\u001b[0m\u001b[0m\n",
      "\u001b[0;32m~/opt/anaconda3/lib/python3.8/site-packages/plotly/basedatatypes.py\u001b[0m in \u001b[0;36m_set_prop\u001b[0;34m(self, prop, val)\u001b[0m\n\u001b[1;32m   5156\u001b[0m \u001b[0;34m\u001b[0m\u001b[0m\n\u001b[1;32m   5157\u001b[0m         \u001b[0;32mtry\u001b[0m\u001b[0;34m:\u001b[0m\u001b[0;34m\u001b[0m\u001b[0;34m\u001b[0m\u001b[0m\n\u001b[0;32m-> 5158\u001b[0;31m             \u001b[0mval\u001b[0m \u001b[0;34m=\u001b[0m \u001b[0mvalidator\u001b[0m\u001b[0;34m.\u001b[0m\u001b[0mvalidate_coerce\u001b[0m\u001b[0;34m(\u001b[0m\u001b[0mval\u001b[0m\u001b[0;34m)\u001b[0m\u001b[0;34m\u001b[0m\u001b[0;34m\u001b[0m\u001b[0m\n\u001b[0m\u001b[1;32m   5159\u001b[0m         \u001b[0;32mexcept\u001b[0m \u001b[0mValueError\u001b[0m \u001b[0;32mas\u001b[0m \u001b[0merr\u001b[0m\u001b[0;34m:\u001b[0m\u001b[0;34m\u001b[0m\u001b[0;34m\u001b[0m\u001b[0m\n\u001b[1;32m   5160\u001b[0m             \u001b[0;32mif\u001b[0m \u001b[0mself\u001b[0m\u001b[0;34m.\u001b[0m\u001b[0m_skip_invalid\u001b[0m\u001b[0;34m:\u001b[0m\u001b[0;34m\u001b[0m\u001b[0;34m\u001b[0m\u001b[0m\n",
      "\u001b[0;32m~/opt/anaconda3/lib/python3.8/site-packages/_plotly_utils/basevalidators.py\u001b[0m in \u001b[0;36mvalidate_coerce\u001b[0;34m(self, v)\u001b[0m\n\u001b[1;32m    403\u001b[0m             \u001b[0mv\u001b[0m \u001b[0;34m=\u001b[0m \u001b[0mto_scalar_or_list\u001b[0m\u001b[0;34m(\u001b[0m\u001b[0mv\u001b[0m\u001b[0;34m)\u001b[0m\u001b[0;34m\u001b[0m\u001b[0;34m\u001b[0m\u001b[0m\n\u001b[1;32m    404\u001b[0m         \u001b[0;32melse\u001b[0m\u001b[0;34m:\u001b[0m\u001b[0;34m\u001b[0m\u001b[0;34m\u001b[0m\u001b[0m\n\u001b[0;32m--> 405\u001b[0;31m             \u001b[0mself\u001b[0m\u001b[0;34m.\u001b[0m\u001b[0mraise_invalid_val\u001b[0m\u001b[0;34m(\u001b[0m\u001b[0mv\u001b[0m\u001b[0;34m)\u001b[0m\u001b[0;34m\u001b[0m\u001b[0;34m\u001b[0m\u001b[0m\n\u001b[0m\u001b[1;32m    406\u001b[0m         \u001b[0;32mreturn\u001b[0m \u001b[0mv\u001b[0m\u001b[0;34m\u001b[0m\u001b[0;34m\u001b[0m\u001b[0m\n\u001b[1;32m    407\u001b[0m \u001b[0;34m\u001b[0m\u001b[0m\n",
      "\u001b[0;32m~/opt/anaconda3/lib/python3.8/site-packages/_plotly_utils/basevalidators.py\u001b[0m in \u001b[0;36mraise_invalid_val\u001b[0;34m(self, v, inds)\u001b[0m\n\u001b[1;32m    287\u001b[0m                 \u001b[0mname\u001b[0m \u001b[0;34m+=\u001b[0m \u001b[0;34m\"[\"\u001b[0m \u001b[0;34m+\u001b[0m \u001b[0mstr\u001b[0m\u001b[0;34m(\u001b[0m\u001b[0mi\u001b[0m\u001b[0;34m)\u001b[0m \u001b[0;34m+\u001b[0m \u001b[0;34m\"]\"\u001b[0m\u001b[0;34m\u001b[0m\u001b[0;34m\u001b[0m\u001b[0m\n\u001b[1;32m    288\u001b[0m \u001b[0;34m\u001b[0m\u001b[0m\n\u001b[0;32m--> 289\u001b[0;31m         raise ValueError(\n\u001b[0m\u001b[1;32m    290\u001b[0m             \"\"\"\n\u001b[1;32m    291\u001b[0m     \u001b[0mInvalid\u001b[0m \u001b[0mvalue\u001b[0m \u001b[0mof\u001b[0m \u001b[0mtype\u001b[0m \u001b[0;34m{\u001b[0m\u001b[0mtyp\u001b[0m\u001b[0;34m}\u001b[0m \u001b[0mreceived\u001b[0m \u001b[0;32mfor\u001b[0m \u001b[0mthe\u001b[0m \u001b[0;34m'{name}'\u001b[0m \u001b[0mproperty\u001b[0m \u001b[0mof\u001b[0m \u001b[0;34m{\u001b[0m\u001b[0mpname\u001b[0m\u001b[0;34m}\u001b[0m\u001b[0;34m\u001b[0m\u001b[0;34m\u001b[0m\u001b[0m\n",
      "\u001b[0;31mValueError\u001b[0m: \n    Invalid value of type 'numpy.int64' received for the 'x' property of scatter\n        Received value: 2018\n\n    The 'x' property is an array that may be specified as a tuple,\n    list, numpy array, or pandas Series"
     ]
    }
   ],
   "source": [
    "# use whole table of all years df_181920_single_purch\n",
    "# Using %stored variables\n",
    "# refresh all variables, aliased and directory history\n",
    "%store -r\n",
    "\n",
    "title = 'Slope chart test 2018-2020'\n",
    "\n",
    "labels = ['Preapproved but not accepted', 'Preapproval denied', 'Application withdrawn by applicant', 'File closed for incompleteness', 'Application approved but not accepted', 'Purchased loan', 'Application denied']\n",
    "# assign colors in order of dictionary: {8: '#8ACAE8', 7: '#8ACAE8', 4: '#5BB5DF', 5: '#5BB5DF', 2: '#2DA0D6', 6: '#2DA0D6', 3: '#2DA0D6'}]\n",
    "colors = ['#8ACAE8', '#8ACAE8', '#5BB5DF', '#5BB5DF', '#2DA0D6', '#2DA0D6', '#2DA0D6']\n",
    "\n",
    "mode_size = [8, 8, 8, 8, 8, 8, 8]\n",
    "line_size = [2, 2, 2, 2, 2, 2, 2]\n",
    "\n",
    "x_data = np.array([2018, 2019, 2020])\n",
    "y_data = np.array(['Preapproval request approved but not accepted', 'Preapproval request denied', 'Application withdrawn by applicant', 'File closed for incompleteness', 'Application approved but not accepted', 'Purchased loan', 'Application denied'])\n",
    "\n",
    "fig = go.Figure()\n",
    "\n",
    "for i in range(0, 6):\n",
    "    fig.add_trace(go.Scatter(x=x_data[i], y=y_data[i], mode='lines',\n",
    "        name=labels[i],\n",
    "        line=dict(color=colors[i], width=line_size[i]),\n",
    "        connectgaps=True,\n",
    "    ))\n",
    "\n",
    "    # endpoints\n",
    "    fig.add_trace(go.Scatter(\n",
    "        x=[x_data[i][0], x_data[i][-1]],\n",
    "        y=[y_data[i][0], y_data[i][-1]],\n",
    "        mode='markers',\n",
    "        marker=dict(color=colors[i], size=mode_size[i])\n",
    "    ))\n",
    "\n",
    "fig.update_layout(\n",
    "    xaxis=dict(\n",
    "        showline=True,\n",
    "        showgrid=False,\n",
    "        showticklabels=True,\n",
    "        linecolor='#989B98',\n",
    "        linewidth=2,\n",
    "        ticks='outside',\n",
    "        tickfont=dict(\n",
    "            family='Lexend',\n",
    "            size=12,\n",
    "            color='#353535',\n",
    "        ),\n",
    "    ),\n",
    "    yaxis=dict(\n",
    "        showgrid=False,\n",
    "        zeroline=False,\n",
    "        showline=False,\n",
    "        showticklabels=False,\n",
    "    ),\n",
    "    autosize=False,\n",
    "    margin=dict(\n",
    "        autoexpand=False,\n",
    "        l=100,\n",
    "        r=20,\n",
    "        t=110,\n",
    "    ),\n",
    "    showlegend=False,\n",
    "    plot_bgcolor='white'\n",
    ")\n",
    "\n",
    "annotations = []\n",
    "\n",
    "# Adding labels\n",
    "for y_trace, label, color in zip(y_data, labels, colors):\n",
    "    # labeling the left_side of the plot\n",
    "    annotations.append(dict(xref='paper', x=0.05, y=y_trace[0],\n",
    "                                  xanchor='right', yanchor='middle',\n",
    "                                  text=label + ' {}%'.format(y_trace[0]),\n",
    "                                  font=dict(family='Lexend',\n",
    "                                            size=16),\n",
    "                                  showarrow=False))\n",
    "    # labeling the right_side of the plot\n",
    "    annotations.append(dict(xref='paper', x=0.95, y=y_trace[11],\n",
    "                                  xanchor='left', yanchor='middle',\n",
    "                                  text='{}%'.format(y_trace[11]),\n",
    "                                  font=dict(family='Lexend',\n",
    "                                            size=16),\n",
    "                                  showarrow=False))\n",
    "# Title\n",
    "annotations.append(dict(xref='paper', yref='paper', x=0.0, y=1.05,\n",
    "                              xanchor='left', yanchor='bottom',\n",
    "                              text='Main Source for News',\n",
    "                              font=dict(family='Lexend',\n",
    "                                        size=30,\n",
    "                                        color='#353535'),\n",
    "                              showarrow=False))\n",
    "# Source\n",
    "annotations.append(dict(xref='paper', yref='paper', x=0.5, y=-0.1,\n",
    "                              xanchor='center', yanchor='top',\n",
    "                              text='Source: FFIEC Housing Mortgage Disclosure Act Modified Loan Application Registrat, FFIEC',\n",
    "                              font=dict(family='Lexend',\n",
    "                                        size=12,\n",
    "                                        color='#989B98'),\n",
    "                              showarrow=False))\n",
    "\n",
    "fig.update_layout(annotations=annotations)\n",
    "\n",
    "fig.show();"
   ]
  },
  {
   "cell_type": "code",
   "execution_count": 142,
   "metadata": {},
   "outputs": [
    {
     "data": {
      "text/html": [
       "<div>\n",
       "<style scoped>\n",
       "    .dataframe tbody tr th:only-of-type {\n",
       "        vertical-align: middle;\n",
       "    }\n",
       "\n",
       "    .dataframe tbody tr th {\n",
       "        vertical-align: top;\n",
       "    }\n",
       "\n",
       "    .dataframe thead th {\n",
       "        text-align: right;\n",
       "    }\n",
       "</style>\n",
       "<table border=\"1\" class=\"dataframe\">\n",
       "  <thead>\n",
       "    <tr style=\"text-align: right;\">\n",
       "      <th></th>\n",
       "      <th>Terminal action taken</th>\n",
       "      <th>Percent of completed applications (yr.)</th>\n",
       "      <th>Year</th>\n",
       "    </tr>\n",
       "  </thead>\n",
       "  <tbody>\n",
       "    <tr>\n",
       "      <th>0</th>\n",
       "      <td>Preapproved but not accepted</td>\n",
       "      <td>2.216321</td>\n",
       "      <td>2018</td>\n",
       "    </tr>\n",
       "    <tr>\n",
       "      <th>1</th>\n",
       "      <td>Preapproved but not accepted</td>\n",
       "      <td>2.165569</td>\n",
       "      <td>2019</td>\n",
       "    </tr>\n",
       "    <tr>\n",
       "      <th>2</th>\n",
       "      <td>Preapproved but not accepted</td>\n",
       "      <td>2.060772</td>\n",
       "      <td>2020</td>\n",
       "    </tr>\n",
       "    <tr>\n",
       "      <th>3</th>\n",
       "      <td>Preapproval denied</td>\n",
       "      <td>3.144855</td>\n",
       "      <td>2018</td>\n",
       "    </tr>\n",
       "    <tr>\n",
       "      <th>4</th>\n",
       "      <td>Preapproval denied</td>\n",
       "      <td>2.351292</td>\n",
       "      <td>2019</td>\n",
       "    </tr>\n",
       "    <tr>\n",
       "      <th>5</th>\n",
       "      <td>Preapproval denied</td>\n",
       "      <td>1.743239</td>\n",
       "      <td>2020</td>\n",
       "    </tr>\n",
       "    <tr>\n",
       "      <th>6</th>\n",
       "      <td>Application withdrawn by applicant</td>\n",
       "      <td>23.577277</td>\n",
       "      <td>2018</td>\n",
       "    </tr>\n",
       "    <tr>\n",
       "      <th>7</th>\n",
       "      <td>Application withdrawn by applicant</td>\n",
       "      <td>24.381556</td>\n",
       "      <td>2019</td>\n",
       "    </tr>\n",
       "    <tr>\n",
       "      <th>8</th>\n",
       "      <td>Application withdrawn by applicant</td>\n",
       "      <td>28.851476</td>\n",
       "      <td>2020</td>\n",
       "    </tr>\n",
       "    <tr>\n",
       "      <th>9</th>\n",
       "      <td>File closed for incompleteness</td>\n",
       "      <td>5.468343</td>\n",
       "      <td>2018</td>\n",
       "    </tr>\n",
       "    <tr>\n",
       "      <th>10</th>\n",
       "      <td>File closed for incompleteness</td>\n",
       "      <td>6.090243</td>\n",
       "      <td>2019</td>\n",
       "    </tr>\n",
       "    <tr>\n",
       "      <th>11</th>\n",
       "      <td>File closed for incompleteness</td>\n",
       "      <td>6.139324</td>\n",
       "      <td>2020</td>\n",
       "    </tr>\n",
       "    <tr>\n",
       "      <th>12</th>\n",
       "      <td>Application approved but not accepted</td>\n",
       "      <td>41.410933</td>\n",
       "      <td>2018</td>\n",
       "    </tr>\n",
       "    <tr>\n",
       "      <th>13</th>\n",
       "      <td>Application approved but not accepted</td>\n",
       "      <td>41.555372</td>\n",
       "      <td>2019</td>\n",
       "    </tr>\n",
       "    <tr>\n",
       "      <th>14</th>\n",
       "      <td>Application approved but not accepted</td>\n",
       "      <td>35.223238</td>\n",
       "      <td>2020</td>\n",
       "    </tr>\n",
       "    <tr>\n",
       "      <th>15</th>\n",
       "      <td>Purchased loan</td>\n",
       "      <td>4.704716</td>\n",
       "      <td>2018</td>\n",
       "    </tr>\n",
       "    <tr>\n",
       "      <th>16</th>\n",
       "      <td>Purchased loan</td>\n",
       "      <td>4.890306</td>\n",
       "      <td>2019</td>\n",
       "    </tr>\n",
       "    <tr>\n",
       "      <th>17</th>\n",
       "      <td>Purchased loan</td>\n",
       "      <td>4.978531</td>\n",
       "      <td>2020</td>\n",
       "    </tr>\n",
       "    <tr>\n",
       "      <th>18</th>\n",
       "      <td>Application denied</td>\n",
       "      <td>19.477556</td>\n",
       "      <td>2018</td>\n",
       "    </tr>\n",
       "    <tr>\n",
       "      <th>19</th>\n",
       "      <td>Application denied</td>\n",
       "      <td>18.565662</td>\n",
       "      <td>2019</td>\n",
       "    </tr>\n",
       "    <tr>\n",
       "      <th>20</th>\n",
       "      <td>Application denied</td>\n",
       "      <td>21.003421</td>\n",
       "      <td>2020</td>\n",
       "    </tr>\n",
       "  </tbody>\n",
       "</table>\n",
       "</div>"
      ],
      "text/plain": [
       "                    Terminal action taken  \\\n",
       "0            Preapproved but not accepted   \n",
       "1            Preapproved but not accepted   \n",
       "2            Preapproved but not accepted   \n",
       "3                      Preapproval denied   \n",
       "4                      Preapproval denied   \n",
       "5                      Preapproval denied   \n",
       "6      Application withdrawn by applicant   \n",
       "7      Application withdrawn by applicant   \n",
       "8      Application withdrawn by applicant   \n",
       "9          File closed for incompleteness   \n",
       "10         File closed for incompleteness   \n",
       "11         File closed for incompleteness   \n",
       "12  Application approved but not accepted   \n",
       "13  Application approved but not accepted   \n",
       "14  Application approved but not accepted   \n",
       "15                         Purchased loan   \n",
       "16                         Purchased loan   \n",
       "17                         Purchased loan   \n",
       "18                     Application denied   \n",
       "19                     Application denied   \n",
       "20                     Application denied   \n",
       "\n",
       "    Percent of completed applications (yr.)  Year  \n",
       "0                                  2.216321  2018  \n",
       "1                                  2.165569  2019  \n",
       "2                                  2.060772  2020  \n",
       "3                                  3.144855  2018  \n",
       "4                                  2.351292  2019  \n",
       "5                                  1.743239  2020  \n",
       "6                                 23.577277  2018  \n",
       "7                                 24.381556  2019  \n",
       "8                                 28.851476  2020  \n",
       "9                                  5.468343  2018  \n",
       "10                                 6.090243  2019  \n",
       "11                                 6.139324  2020  \n",
       "12                                41.410933  2018  \n",
       "13                                41.555372  2019  \n",
       "14                                35.223238  2020  \n",
       "15                                 4.704716  2018  \n",
       "16                                 4.890306  2019  \n",
       "17                                 4.978531  2020  \n",
       "18                                19.477556  2018  \n",
       "19                                18.565662  2019  \n",
       "20                                21.003421  2020  "
      ]
     },
     "execution_count": 142,
     "metadata": {},
     "output_type": "execute_result"
    }
   ],
   "source": [
    "# rename the columns that had spaces, and view the stored data table variable\n",
    "# df_yoy.rename(columns={'Terminal action taken': 'action_taken', \"Percent of completed applications (yr.)\": \"annual_percent_term_apps\"})\n",
    "\n",
    "# df_yoy.rename(index={'Terminal action taken': 'action_taken', 'Percent of completed applications (yr.)': 'percent'})\n",
    "df_yoy"
   ]
  },
  {
   "cell_type": "code",
   "execution_count": 143,
   "metadata": {},
   "outputs": [],
   "source": [
    "df_yoy = pd.DataFrame(df_yoy)"
   ]
  },
  {
   "cell_type": "code",
   "execution_count": 144,
   "metadata": {},
   "outputs": [
    {
     "data": {
      "text/plain": [
       "Terminal action taken                       object\n",
       "Percent of completed applications (yr.)    float64\n",
       "Year                                         int64\n",
       "dtype: object"
      ]
     },
     "execution_count": 144,
     "metadata": {},
     "output_type": "execute_result"
    },
    {
     "data": {
      "text/plain": [
       "'Terminal action taken'"
      ]
     },
     "execution_count": 144,
     "metadata": {},
     "output_type": "execute_result"
    },
    {
     "data": {
      "text/plain": [
       "'Percent of completed applications (yr.)'"
      ]
     },
     "execution_count": 144,
     "metadata": {},
     "output_type": "execute_result"
    },
    {
     "data": {
      "text/plain": [
       "'Year'"
      ]
     },
     "execution_count": 144,
     "metadata": {},
     "output_type": "execute_result"
    }
   ],
   "source": [
    "df_yoy.dtypes\n",
    "df_yoy.columns.values[0]\n",
    "df_yoy.columns.values[1]\n",
    "df_yoy.columns.values[2]"
   ]
  },
  {
   "cell_type": "code",
   "execution_count": 234,
   "metadata": {},
   "outputs": [
    {
     "data": {
      "image/png": "[encoded data removed]",
      "text/plain": [
       "<Figure size 432x288 with 1 Axes>"
      ]
     },
     "metadata": {},
     "output_type": "display_data"
    }
   ],
   "source": [
    "# first just test to plot one line value\n",
    "# temp = df_yoy[df_yoy['action_taken'] == 'File closed for incompleteness']\n",
    "# plt.plot(temp.Year, temp.percent)\n",
    "temp = df_yoy[df_yoy['Terminal action taken'] == 'File closed for incompleteness']\n",
    "plt.plot(temp['Terminal action taken'], temp['Percent of completed applications (yr.)'])\n",
    "plt.show();"
   ]
  },
  {
   "cell_type": "code",
   "execution_count": 338,
   "metadata": {},
   "outputs": [
    {
     "data": {
      "image/png": "[encoded data removed]",
      "text/plain": [
       "<Figure size 792x720 with 1 Axes>"
      ]
     },
     "metadata": {
      "needs_background": "light"
     },
     "output_type": "display_data"
    },
    {
     "data": {
      "text/plain": [
       "<Figure size 432x288 with 0 Axes>"
      ]
     },
     "metadata": {},
     "output_type": "display_data"
    }
   ],
   "source": [
    "# try slope chart with matplotlib\n",
    "\n",
    "# adding a deeper palette for small lines and with minimal luminance fluctuation\n",
    "sns.set_palette(\"husl\", 8)\n",
    "\n",
    "labels = ['Preapproved but not accepted', \n",
    "          'Preapproval denied', \n",
    "          'Application withdrawn by applicant', \n",
    "          'File closed for incompleteness', \n",
    "          'Application approved but not accepted', \n",
    "          'Purchased loan', \n",
    "          'Application denied'\n",
    "         ]\n",
    "\n",
    "# assign colors in order of dictionary: {8: '#8ACAE8', 7: '#8ACAE8', 4: '#5BB5DF', 5: '#5BB5DF', 2: '#2DA0D6', 6: '#2DA0D6', 3: '#2DA0D6'}]\n",
    "colors = sns.husl_palette(8)\n",
    "#colors = ['#8ACAE8', '#8ACAE8', '#5BB5DF', '#5BB5DF', '#2DA0D6', '#2DA0D6', '#2DA0D6']\n",
    "\n",
    "# set the figure and axes\n",
    "figyoy, ax = plt.subplots(1, figsize=(11,10))\n",
    "# set background to transparent\n",
    "figyoy.patch.set_facecolor('none')\n",
    "figyoy.patch.set_alpha(0.0)\n",
    "\n",
    "for i, v in enumerate(labels):\n",
    "    # get a single action_taken from the list\n",
    "    temp = df_yoy[df_yoy['Terminal action taken'] == v]\n",
    "    # plot the lines with filled dot marks at the ends\n",
    "    plt.plot(temp.Year, \n",
    "             temp['Percent of completed applications (yr.)'], \n",
    "             color=colors[i],\n",
    "             lw=2.5)#,\n",
    "#              marker='o', \n",
    "#              markersize=5)\n",
    "    # start label the lines\n",
    "    # with the percents for year mark\n",
    "    plt.text(temp.Year.values[0]-0.02, \n",
    "             temp['Percent of completed applications (yr.)'].values[0], \n",
    "             '{:.1f}%'.format(temp['Percent of completed applications (yr.)'].values[0]), \n",
    "             ha='right', \n",
    "             font=dict(family='Lexend', size=11))\n",
    "    # end label with the percents for year mark\n",
    "    plt.text(temp.Year.values[2]+0.02, \n",
    "             temp['Percent of completed applications (yr.)'].values[2], \n",
    "             '{:.1f}%'.format(temp['Percent of completed applications (yr.)'].values[2]), \n",
    "             ha='left',\n",
    "             font=dict(family='Lexend', size=11))\n",
    "\n",
    "# NEEDS MORE WORK TO ALIGN CORRECT LOCATIONS MANUALLY    \n",
    "# #     correction = 0\n",
    "# #     if v == 'Application withdrawn by applicant': correction = 500\n",
    "#     plt.text(2018.5, \n",
    "#              temp['Percent of completed applications (yr.)'].values[1],# + 1,# - correction, \n",
    "#              v, color=colors[i],\n",
    "#              va='top', ha='center', fontsize=12)    \n",
    "\n",
    "# set x limits, x ticks\n",
    "# plt.xlim(2017.95,2020.05)\n",
    "plt.xlim(2017.5, 2020.5)\n",
    "plt.xticks([2018, 2019, 2020], font=dict(family='Lexend', size=14))\n",
    "\n",
    "# get y ticks, format as percent, and draw the ticks\n",
    "yticks = plt.yticks()[0]\n",
    "# plt.yticks(yticks, ['{:.1f}%'.format(i) for i in yticks], font=dict(family='Lexend', size=12))    \n",
    "# suppress y ticks\n",
    "plt.yticks([])\n",
    "\n",
    "# grid\n",
    "ax.xaxis.grid(color='#353535', linestyle='solid', which='both', alpha=0.9)\n",
    "# hide the y axis because the % values are labelled\n",
    "# ax.yaxis.grid(color='#353535', linestyle='dashed', which='both', alpha=0.1)\n",
    "\n",
    "# remove spines\n",
    "ax.spines['right'].set_visible(False)\n",
    "ax.spines['left'].set_visible(False)\n",
    "ax.spines['bottom'].set_visible(False)\n",
    "ax.spines['top'].set_visible(False)\n",
    "plt.title('3 Years of Change in How Applications Ended\\n', loc='left', font=dict(family='Lexend', size=20))\n",
    "\n",
    "# # go with a legend because there's little space for direct labelling in some of these\n",
    "# plt.legend(labels, bbox_to_anchor=(1, 1), loc='upper left', frameon=False)\n",
    "\n",
    "plt.show()\n",
    "plt.savefig('../output/one_unit_home_mortgage_terminal_slope_yoy_transparent.png', dpi=100, edgecolor='none',\n",
    "        orientation='landscape', format='png',\n",
    "        transparent=True, bbox_inches=None, pad_inches=0.1);"
   ]
  },
  {
   "cell_type": "code",
   "execution_count": 359,
   "metadata": {},
   "outputs": [
    {
     "data": {
      "image/png": "[encoded data removed]",
      "text/plain": [
       "<Figure size 792x720 with 1 Axes>"
      ]
     },
     "metadata": {
      "needs_background": "light"
     },
     "output_type": "display_data"
    },
    {
     "data": {
      "text/plain": [
       "<Figure size 432x288 with 0 Axes>"
      ]
     },
     "metadata": {},
     "output_type": "display_data"
    }
   ],
   "source": [
    "# try slope chart with matplotlib\n",
    "\n",
    "# adding a deeper palette for small lines and with minimal luminance fluctuation\n",
    "sns.set_palette(\"husl\", 8)\n",
    "\n",
    "labels = ['Preapproved but not accepted', \n",
    "          'Preapproval denied', \n",
    "          'Application withdrawn by applicant', \n",
    "          'File closed for incompleteness', \n",
    "          'Application approved but not accepted', \n",
    "          'Purchased loan', \n",
    "          'Application denied'\n",
    "         ]\n",
    "\n",
    "# assign colors in order of dictionary: {8: '#8ACAE8', 7: '#8ACAE8', 4: '#5BB5DF', 5: '#5BB5DF', 2: '#2DA0D6', 6: '#2DA0D6', 3: '#2DA0D6'}]\n",
    "colors = sns.husl_palette(8)\n",
    "#colors = ['#8ACAE8', '#8ACAE8', '#5BB5DF', '#5BB5DF', '#2DA0D6', '#2DA0D6', '#2DA0D6']\n",
    "\n",
    "# set the figure and axes\n",
    "figyoy, ax = plt.subplots(1, figsize=(11,10))\n",
    "# set background to transparent\n",
    "figyoy.patch.set_facecolor('none')\n",
    "figyoy.patch.set_alpha(0.0)\n",
    "\n",
    "for i, v in enumerate(labels):\n",
    "    # get a single action_taken from the list\n",
    "    temp = df_yoy[df_yoy['Terminal action taken'] == v]\n",
    "    # plot the lines with filled dot marks at the ends\n",
    "    plt.plot(temp.Year, \n",
    "             temp['Percent of completed applications (yr.)'], \n",
    "             color=colors[i],\n",
    "             lw=2.5)#,\n",
    "#              marker='o', \n",
    "#              markersize=5)\n",
    "    # start label the lines\n",
    "    # with the percents for year mark\n",
    "    plt.text(temp.Year.values[0]-0.02, \n",
    "             temp['Percent of completed applications (yr.)'].values[0], \n",
    "             '{:.1f}%'.format(temp['Percent of completed applications (yr.)'].values[0]), \n",
    "             ha='right', \n",
    "             font=dict(family='Lexend', size=11))\n",
    "    # end label with the percents for year mark\n",
    "    plt.text(temp.Year.values[2]+0.02, \n",
    "             temp['Percent of completed applications (yr.)'].values[2], \n",
    "             '{:.1f}%'.format(temp['Percent of completed applications (yr.)'].values[2]), \n",
    "             ha='left',\n",
    "             font=dict(family='Lexend', size=11))\n",
    "\n",
    "# NEEDS MORE WORK TO ALIGN CORRECT LOCATIONS MANUALLY    \n",
    "# #     correction = 0\n",
    "# #     if v == 'Application withdrawn by applicant': correction = 500\n",
    "#     plt.text(2018.5, \n",
    "#              temp['Percent of completed applications (yr.)'].values[1],# + 1,# - correction, \n",
    "#              v, color=colors[i],\n",
    "#              va='top', ha='center', fontsize=12)    \n",
    "\n",
    "# set x limits, x ticks\n",
    "# plt.xlim(2017.95,2020.05)\n",
    "plt.xlim(2017.5, 2020.5)\n",
    "plt.xticks([2018, 2019, 2020], font=dict(family='Lexend', size=14))\n",
    "\n",
    "# get y ticks, format as percent, and draw the ticks\n",
    "yticks = plt.yticks()[0]\n",
    "# plt.yticks(yticks, ['{:.1f}%'.format(i) for i in yticks], font=dict(family='Lexend', size=12))    \n",
    "# suppress y ticks\n",
    "plt.yticks([])\n",
    "\n",
    "# grid\n",
    "ax.xaxis.grid(color='#353535', linestyle='solid', which='both', alpha=0.9)\n",
    "# hide the y axis because the % values are labelled\n",
    "# ax.yaxis.grid(color='#353535', linestyle='dashed', which='both', alpha=0.1)\n",
    "\n",
    "# remove spines\n",
    "ax.spines['right'].set_visible(False)\n",
    "ax.spines['left'].set_visible(False)\n",
    "ax.spines['bottom'].set_visible(False)\n",
    "ax.spines['top'].set_visible(False)\n",
    "plt.title('3 Years of Change in How Applications Ended\\n', loc='center', font=dict(family='Lexend', size=20))\n",
    "\n",
    "# # go with a legend because there's little space for direct labelling in some of these\n",
    "# plt.legend(labels, bbox_to_anchor=(.9, 1), loc='upper left', frameon=False)\n",
    "\n",
    "plt.show()\n",
    "plt.savefig('../output/one_unit_home_mortgage_terminal_slope_yoy_transparent.png', dpi=100, edgecolor='none',\n",
    "        orientation='landscape', format='png',\n",
    "        transparent=True, bbox_inches=None, pad_inches=0.1);"
   ]
  },
  {
   "cell_type": "code",
   "execution_count": 361,
   "metadata": {},
   "outputs": [],
   "source": [
    "# with transparent background, to test an image behind in Illustrator\n",
    "figyoy.savefig('../output/one_unit_home_mortgage_terminal_slope_yoy_transparent.png', dpi=100, edgecolor='none',\n",
    "        orientation='landscape', format='png',\n",
    "        transparent=True, bbox_inches=None, pad_inches=0.1)"
   ]
  },
  {
   "cell_type": "code",
   "execution_count": 104,
   "metadata": {},
   "outputs": [
    {
     "data": {
      "text/plain": [
       "(0, 3)"
      ]
     },
     "execution_count": 104,
     "metadata": {},
     "output_type": "execute_result"
    },
    {
     "data": {
      "text/html": [
       "<div>\n",
       "<style scoped>\n",
       "    .dataframe tbody tr th:only-of-type {\n",
       "        vertical-align: middle;\n",
       "    }\n",
       "\n",
       "    .dataframe tbody tr th {\n",
       "        vertical-align: top;\n",
       "    }\n",
       "\n",
       "    .dataframe thead th {\n",
       "        text-align: right;\n",
       "    }\n",
       "</style>\n",
       "<table border=\"1\" class=\"dataframe\">\n",
       "  <thead>\n",
       "    <tr style=\"text-align: right;\">\n",
       "      <th></th>\n",
       "      <th>Terminal action taken</th>\n",
       "      <th>Percent of completed applications (yr.)</th>\n",
       "      <th>Year</th>\n",
       "    </tr>\n",
       "  </thead>\n",
       "  <tbody>\n",
       "  </tbody>\n",
       "</table>\n",
       "</div>"
      ],
      "text/plain": [
       "Empty DataFrame\n",
       "Columns: [Terminal action taken, Percent of completed applications (yr.), Year]\n",
       "Index: []"
      ]
     },
     "execution_count": 104,
     "metadata": {},
     "output_type": "execute_result"
    }
   ],
   "source": [
    "# check the temp result is empty\n",
    "temp.shape \n",
    "temp"
   ]
  },
  {
   "cell_type": "markdown",
   "metadata": {},
   "source": [
    "### Focus the data on the question of where folks exit the process\n",
    "\n",
    "Remove applications that did not reach a terminal point, i.e remove those in origination stage, and keep only rows in Preapproval, Underwriting, Decision.\n",
    "\n",
    "These should already be done in the stored variable..."
   ]
  },
  {
   "cell_type": "code",
   "execution_count": 85,
   "metadata": {},
   "outputs": [
    {
     "ename": "NameError",
     "evalue": "name 'df_2020_single_purch' is not defined",
     "output_type": "error",
     "traceback": [
      "\u001b[0;31m---------------------------------------------------------------------------\u001b[0m",
      "\u001b[0;31mNameError\u001b[0m                                 Traceback (most recent call last)",
      "\u001b[0;32m/var/folders/yl/cmk7gt492252lhxv4dwq5q280000gn/T/ipykernel_40273/2929783463.py\u001b[0m in \u001b[0;36m<module>\u001b[0;34m\u001b[0m\n\u001b[1;32m      1\u001b[0m \u001b[0;31m# these should already be done in the stored variable...\u001b[0m\u001b[0;34m\u001b[0m\u001b[0;34m\u001b[0m\u001b[0;34m\u001b[0m\u001b[0m\n\u001b[1;32m      2\u001b[0m \u001b[0;31m# first for the separate 2020 table, assign a variable to just rows where stage is not origination\u001b[0m\u001b[0;34m\u001b[0m\u001b[0;34m\u001b[0m\u001b[0;34m\u001b[0m\u001b[0m\n\u001b[0;32m----> 3\u001b[0;31m \u001b[0mdf2020_not_origination\u001b[0m \u001b[0;34m=\u001b[0m  \u001b[0mdf_2020_single_purch\u001b[0m\u001b[0;34m[\u001b[0m\u001b[0;34m'stage'\u001b[0m\u001b[0;34m]\u001b[0m\u001b[0;34m!=\u001b[0m\u001b[0;34m'Origination'\u001b[0m\u001b[0;34m\u001b[0m\u001b[0;34m\u001b[0m\u001b[0m\n\u001b[0m\u001b[1;32m      4\u001b[0m \u001b[0;31m# view the top seven to confirm versus values printed earlier in notebook\u001b[0m\u001b[0;34m\u001b[0m\u001b[0;34m\u001b[0m\u001b[0;34m\u001b[0m\u001b[0m\n\u001b[1;32m      5\u001b[0m \u001b[0mprint\u001b[0m\u001b[0;34m(\u001b[0m\u001b[0mdf2020_not_origination\u001b[0m\u001b[0;34m.\u001b[0m\u001b[0mhead\u001b[0m\u001b[0;34m(\u001b[0m\u001b[0;36m7\u001b[0m\u001b[0;34m)\u001b[0m\u001b[0;34m)\u001b[0m\u001b[0;34m\u001b[0m\u001b[0;34m\u001b[0m\u001b[0m\n",
      "\u001b[0;31mNameError\u001b[0m: name 'df_2020_single_purch' is not defined"
     ]
    }
   ],
   "source": [
    "# these should already be done in the stored variable...\n",
    "# first for the separate 2020 table, assign a variable to just rows where stage is not origination \n",
    "df2020_not_origination =  df_2020_single_purch['stage']!='Origination'\n",
    "# view the top seven to confirm versus values printed earlier in notebook\n",
    "print(df2020_not_origination.head(7))"
   ]
  },
  {
   "cell_type": "code",
   "execution_count": null,
   "metadata": {},
   "outputs": [],
   "source": [
    "# update the 2020 dataframe on only applications isolated as not in origination above \n",
    "# by calling that variable as a subset of the dataframe\n",
    "df_2020_single_purch_terminal = df_2020_single_purch[df2020_not_origination]\n",
    "# view the top rows to confirm the origination have been removed\n",
    "# first before origination is removed\n",
    "df_2020_single_purch.head()\n",
    "# then after which should no longer show origination rows\n",
    "df_2020_single_purch_terminal.head()"
   ]
  },
  {
   "cell_type": "code",
   "execution_count": null,
   "metadata": {},
   "outputs": [],
   "source": [
    "# for 2019 now, do the same; assign a variable to just rows where stage is not origination \n",
    "df2019_not_origination =  df_2019_single_purch['stage']!='Origination'\n",
    "# view the top seven to confirm versus values printed earlier in notebook\n",
    "print(df2019_not_origination.head(7))"
   ]
  },
  {
   "cell_type": "code",
   "execution_count": null,
   "metadata": {},
   "outputs": [],
   "source": [
    "# update the 2019 dataframe on only applications isolated as not in origination above \n",
    "# by calling that variable as a subset of the dataframe\n",
    "df_2019_single_purch_terminal = df_2019_single_purch[df2019_not_origination]\n",
    "# view the top rows to confirm the origination have been removed\n",
    "# first before origination is removed\n",
    "df_2019_single_purch.head()\n",
    "# then after which should no longer show origination rows\n",
    "df_2019_single_purch_terminal.head()\n",
    "# since these are all the same, check the number of rows has gone down\n",
    "df_2019_single_purch_terminal.shape\n",
    "# check total number of rows again\n",
    "df_2019_single_purch.shape\n",
    "# repeat the same but reverse process to find rows equal to origination\n",
    "df2019_origination =  df_2019_single_purch['stage']=='Origination'\n",
    "df_2019_single_purch_origination = df_2019_single_purch[df2019_origination]\n",
    "# check how many rows i.e. applications were in origination\n",
    "df_2019_single_purch_origination.shape"
   ]
  },
  {
   "cell_type": "code",
   "execution_count": null,
   "metadata": {},
   "outputs": [],
   "source": [
    "# for 2018 now, do the same; assign a variable to just rows where stage is not origination \n",
    "df2018_not_origination =  df_2018_single_purch['stage']!='Origination'\n",
    "# view the top seven to confirm versus values printed earlier in notebook\n",
    "print(df2018_not_origination.head(7))"
   ]
  },
  {
   "cell_type": "code",
   "execution_count": null,
   "metadata": {},
   "outputs": [],
   "source": [
    "# update the 2018 dataframe on only applications isolated as not in origination above \n",
    "# by calling that variable as a subset of the dataframe\n",
    "df_2018_single_purch_terminal = df_2018_single_purch[df2018_not_origination]\n",
    "# view the top rows to confirm the origination have been removed\n",
    "# first before origination is removed\n",
    "df_2018_single_purch.head()\n",
    "# then after which should no longer show origination rows\n",
    "df_2018_single_purch_terminal.head()"
   ]
  },
  {
   "cell_type": "code",
   "execution_count": null,
   "metadata": {},
   "outputs": [],
   "source": [
    "# for the combined 2018-2020 dataframe now, do the same; assign a variable to just rows where stage is not origination \n",
    "df181920_not_origination =  df_181920_single_purch['stage']!='Origination'\n",
    "# view the top seven to confirm versus values printed earlier in notebook\n",
    "print(df181920_not_origination.head(7))"
   ]
  },
  {
   "cell_type": "code",
   "execution_count": null,
   "metadata": {},
   "outputs": [],
   "source": [
    "# update the 2018-2020 dataframe on only applications isolated as not in origination above \n",
    "# by calling that variable as a subset of the dataframe\n",
    "df_181920_single_purch_terminal = df_181920_single_purch[df181920_not_origination]\n",
    "# view the top rows to confirm the origination have been removed\n",
    "# first before origination is removed\n",
    "df_181920_single_purch.head()\n",
    "# then after which should no longer show origination rows\n",
    "df_181920_single_purch_terminal.head()"
   ]
  },
  {
   "cell_type": "markdown",
   "metadata": {},
   "source": [
    "## Now let's plot some data!"
   ]
  },
  {
   "cell_type": "markdown",
   "metadata": {},
   "source": [
    "### Where do folks exit the home loan application process?\n"
   ]
  },
  {
   "cell_type": "code",
   "execution_count": null,
   "metadata": {},
   "outputs": [],
   "source": [
    "# find total length of dataframe i.e. number of rows; this should match our result in shape function above\n",
    "# for all years combined\n",
    "index_181920_terminal = df_181920_single_purch_terminal.index\n",
    "number_of_rows_181920_terminal = len(index_181920_terminal)\n",
    "number_of_rows_181920_terminal\n",
    "# for 2020 all applications/rows (for early process reference)\n",
    "index_2020 = df_2020_single_purch.index\n",
    "number_of_rows_2020 = len(index_2020)\n",
    "number_of_rows_2020\n",
    "# for 2020 terminal applications only\n",
    "index_2020_terminal = df_2020_single_purch_terminal.index\n",
    "number_of_rows_2020_terminal = len(index_2020_terminal)\n",
    "number_of_rows_2020_terminal\n",
    "# for 2019\n",
    "index_2019 = df_2019_single_purch.index\n",
    "number_of_rows_2019 = len(index_2019)\n",
    "number_of_rows_2019\n",
    "# for 2019 terminal applications only\n",
    "index_2019_terminal = df_2019_single_purch_terminal.index\n",
    "number_of_rows_2019_terminal = len(index_2019_terminal)\n",
    "number_of_rows_2019_terminal\n",
    "# for 2018\n",
    "index_2018 = df_2018_single_purch.index\n",
    "number_of_rows_2018 = len(index_2018)\n",
    "number_of_rows_2018\n",
    "# for 2018 terminal applications only\n",
    "index_2018_terminal = df_2018_single_purch_terminal.index\n",
    "number_of_rows_2018_terminal = len(index_2018_terminal)\n",
    "number_of_rows_2018_terminal"
   ]
  },
  {
   "cell_type": "markdown",
   "metadata": {},
   "source": [
    "## Plot years by Percent within each year\n",
    "\n",
    "Plot each year separately first, starting with 2020"
   ]
  },
  {
   "cell_type": "markdown",
   "metadata": {},
   "source": [
    "### 2020"
   ]
  },
  {
   "cell_type": "code",
   "execution_count": null,
   "metadata": {},
   "outputs": [],
   "source": [
    "# make a matrix of just the variables for a sankey diagram with action_taken\n",
    "\n",
    "# assign the select columns as percent\n",
    "# no longer need col0 because origination are gone (commented out to leave for reference)\n",
    "# col0 = (len(df_2020_single_purch_terminal[df_2020_single_purch_terminal['action_taken'] == 1])/number_of_rows_2020_terminal)*100\n",
    "col1_2020 = (len(df_2020_single_purch_terminal[df_2020_single_purch_terminal['action_taken'] == 8])/number_of_rows_2020_terminal)*100\n",
    "col2_2020 = (len(df_2020_single_purch_terminal[df_2020_single_purch_terminal['action_taken'] == 7])/number_of_rows_2020_terminal)*100\n",
    "col3_2020 = (len(df_2020_single_purch_terminal[df_2020_single_purch_terminal['action_taken'] == 4])/number_of_rows_2020_terminal)*100\n",
    "col4_2020 = (len(df_2020_single_purch_terminal[df_2020_single_purch_terminal['action_taken'] == 5])/number_of_rows_2020_terminal)*100\n",
    "col5_2020 = (len(df_2020_single_purch_terminal[df_2020_single_purch_terminal['action_taken'] == 6])/number_of_rows_2020_terminal)*100\n",
    "col6_2020 = (len(df_2020_single_purch_terminal[df_2020_single_purch_terminal['action_taken'] == 2])/number_of_rows_2020_terminal)*100\n",
    "col7_2020 = (len(df_2020_single_purch_terminal[df_2020_single_purch_terminal['action_taken'] == 3])/number_of_rows_2020_terminal)*100"
   ]
  },
  {
   "cell_type": "code",
   "execution_count": null,
   "metadata": {},
   "outputs": [],
   "source": [
    "# test that it adds up to 100%\n",
    "test_2020 = col1_2020 + col2_2020 + col3_2020 + col4_2020 + col5_2020 + col6_2020 + col7_2020\n",
    "test_2020"
   ]
  },
  {
   "cell_type": "code",
   "execution_count": null,
   "metadata": {},
   "outputs": [],
   "source": [
    "# assign stage groups of flow nodes\n",
    "# no longer need col0 because origination are gone (commented out to leave for reference)\n",
    "# cols0_7 = (col0 + col1 + col2 + col3 + col4 + col5 + col6 + col7) # Origination start\n",
    "cols1_7_2020 = (col1_2020 + col2_2020 + col3_2020 + col4_2020 + col5_2020 + col6_2020 + col7_2020) # Preapproval\n",
    "cols3_7_2020 = (col3_2020 + col4_2020 + col5_2020 + col6_2020 + col7_2020) # Underwriting \n",
    "cols5_7_2020 = (col5_2020 + col6_2020 + col7_2020) # Underwriting "
   ]
  },
  {
   "cell_type": "code",
   "execution_count": null,
   "metadata": {},
   "outputs": [],
   "source": [
    "# test that the inputs and outputs equal tht number of rows\n",
    "test_2020 = cols1_7_2020 - col1_2020 - col2_2020 - col3_2020 - col4_2020 - col5_2020 - col6_2020 - col7_2020\n",
    "test_2020 == number_of_rows_2020_terminal\n",
    "number_of_rows_2020_terminal - test_2020\n"
   ]
  },
  {
   "cell_type": "markdown",
   "metadata": {},
   "source": [
    "### 2019"
   ]
  },
  {
   "cell_type": "code",
   "execution_count": null,
   "metadata": {},
   "outputs": [],
   "source": [
    "# for 2019 only now, make a matrix of just the variables for a sankey diagram with action_taken\n",
    "\n",
    "# assign the select columns as percent\n",
    "# no longer need col0 because origination are gone (commented out to leave for reference)\n",
    "# col0 = (len(df_2020_single_purch_terminal[df_2020_single_purch_terminal['action_taken'] == 1])/number_of_rows_2020_terminal)*100\n",
    "col1_2019 = (len(df_2019_single_purch_terminal[df_2019_single_purch_terminal['action_taken'] == 8])/number_of_rows_2019_terminal)*100\n",
    "col2_2019 = (len(df_2019_single_purch_terminal[df_2019_single_purch_terminal['action_taken'] == 7])/number_of_rows_2019_terminal)*100\n",
    "col3_2019 = (len(df_2019_single_purch_terminal[df_2019_single_purch_terminal['action_taken'] == 4])/number_of_rows_2019_terminal)*100\n",
    "col4_2019 = (len(df_2019_single_purch_terminal[df_2019_single_purch_terminal['action_taken'] == 5])/number_of_rows_2019_terminal)*100\n",
    "col5_2019 = (len(df_2019_single_purch_terminal[df_2019_single_purch_terminal['action_taken'] == 6])/number_of_rows_2019_terminal)*100\n",
    "col6_2019 = (len(df_2019_single_purch_terminal[df_2019_single_purch_terminal['action_taken'] == 2])/number_of_rows_2019_terminal)*100\n",
    "col7_2019 = (len(df_2019_single_purch_terminal[df_2019_single_purch_terminal['action_taken'] == 3])/number_of_rows_2019_terminal)*100"
   ]
  },
  {
   "cell_type": "code",
   "execution_count": null,
   "metadata": {},
   "outputs": [],
   "source": [
    "# test that it adds up to 100%\n",
    "test_2019 = col1_2019 + col2_2019 + col3_2019 + col4_2019 + col5_2019 + col6_2019 + col7_2019\n",
    "test_2019"
   ]
  },
  {
   "cell_type": "code",
   "execution_count": null,
   "metadata": {},
   "outputs": [],
   "source": [
    "# assign stage groups of flow nodes\n",
    "# no longer need col0 because origination are gone (commented out to leave for reference)\n",
    "# cols0_7 = (col0 + col1 + col2 + col3 + col4 + col5 + col6 + col7) # Origination start\n",
    "cols1_7_2019 = (col1_2019 + col2_2019 + col3_2019 + col4_2019 + col5_2019 + col6_2019 + col7_2019) # Preapproval\n",
    "cols3_7_2019 = (col3_2019 + col4_2019 + col5_2019 + col6_2019 + col7_2019) # Underwriting \n",
    "cols5_7_2019 = (col5_2019 + col6_2019 + col7_2019) # Underwriting "
   ]
  },
  {
   "cell_type": "code",
   "execution_count": null,
   "metadata": {},
   "outputs": [],
   "source": [
    "# test that the inputs and outputs equal the number of rows\n",
    "test_2019 = cols1_7_2019 - col1_2019 - col2_2019 - col3_2019 - col4_2019 - col5_2019 - col6_2019 - col7_2019\n",
    "test_2019 == number_of_rows_2019_terminal\n",
    "number_of_rows_2019_terminal - test_2019"
   ]
  },
  {
   "cell_type": "markdown",
   "metadata": {},
   "source": [
    "### 2018"
   ]
  },
  {
   "cell_type": "code",
   "execution_count": null,
   "metadata": {},
   "outputs": [],
   "source": [
    "# for 2018 only now, make a matrix of just the variables for a sankey diagram with action_taken\n",
    "\n",
    "# assign the select columns as percent\n",
    "# no longer need col0 because origination are gone (commented out to leave for reference)\n",
    "# col0 = (len(df_2020_single_purch_terminal[df_2020_single_purch_terminal['action_taken'] == 1])/number_of_rows_2020_terminal)*100\n",
    "col1_2018 = (len(df_2018_single_purch_terminal[df_2018_single_purch_terminal['action_taken'] == 8])/number_of_rows_2018_terminal)*100\n",
    "col2_2018 = (len(df_2018_single_purch_terminal[df_2018_single_purch_terminal['action_taken'] == 7])/number_of_rows_2018_terminal)*100\n",
    "col3_2018 = (len(df_2018_single_purch_terminal[df_2018_single_purch_terminal['action_taken'] == 4])/number_of_rows_2018_terminal)*100\n",
    "col4_2018 = (len(df_2018_single_purch_terminal[df_2018_single_purch_terminal['action_taken'] == 5])/number_of_rows_2018_terminal)*100\n",
    "col5_2018 = (len(df_2018_single_purch_terminal[df_2018_single_purch_terminal['action_taken'] == 6])/number_of_rows_2018_terminal)*100\n",
    "col6_2018 = (len(df_2018_single_purch_terminal[df_2018_single_purch_terminal['action_taken'] == 2])/number_of_rows_2018_terminal)*100\n",
    "col7_2018 = (len(df_2018_single_purch_terminal[df_2018_single_purch_terminal['action_taken'] == 3])/number_of_rows_2018_terminal)*100"
   ]
  },
  {
   "cell_type": "code",
   "execution_count": null,
   "metadata": {},
   "outputs": [],
   "source": [
    "# assign stage groups of flow nodes\n",
    "# no longer need col0 because origination are gone (commented out to leave for reference)\n",
    "# cols0_7 = (col0 + col1 + col2 + col3 + col4 + col5 + col6 + col7) # Origination start\n",
    "cols1_7_2018 = (col1_2018 + col2_2018 + col3_2018 + col4_2018 + col5_2018 + col6_2018 + col7_2018) # Preapproval\n",
    "cols3_7_2018 = (col3_2018 + col4_2018 + col5_2018 + col6_2018 + col7_2018) # Underwriting \n",
    "cols5_7_2018 = (col5_2018 + col6_2018 + col7_2018) # Underwriting "
   ]
  },
  {
   "cell_type": "code",
   "execution_count": null,
   "metadata": {},
   "outputs": [],
   "source": [
    "# test that the inputs and outputs equal tht number of rows\n",
    "test_2018 = cols1_7_2018 - col1_2018 - col2_2018 - col3_2018 - col4_2018 - col5_2018 - col6_2018 - col7_2018\n",
    "test_2018 == number_of_rows_2018_terminal\n",
    "number_of_rows_2018_terminal - test_2018"
   ]
  },
  {
   "cell_type": "code",
   "execution_count": null,
   "metadata": {},
   "outputs": [],
   "source": [
    "# test that it adds up to 100%\n",
    "test_2018 = col1_2018 + col2_2018 + col3_2018 + col4_2018 + col5_2018 + col6_2018 + col7_2018\n",
    "test_2018"
   ]
  },
  {
   "cell_type": "markdown",
   "metadata": {},
   "source": [
    "### Focus in on the change year over year for Application withdrawn and File closed for completeness"
   ]
  },
  {
   "cell_type": "markdown",
   "metadata": {},
   "source": [
    "#### Some image/size/style logistics (a parking lot)"
   ]
  },
  {
   "cell_type": "code",
   "execution_count": null,
   "metadata": {},
   "outputs": [],
   "source": [
    "# # decrease the default font size for longer plot\n",
    "# # assign default font size\n",
    "# plt.rcParams['font.size']  = 12"
   ]
  },
  {
   "cell_type": "code",
   "execution_count": null,
   "metadata": {},
   "outputs": [],
   "source": [
    "# # check the figure image stats\n",
    "# print('Figure dpi: ', fig2020_all_stages.get_dpi())\n",
    "\n",
    "# # Find the Figure size in inches\n",
    "# print('\\nFigure size (width, height):', fig2020_all_stages.get_size_inches())\n",
    "\n",
    "# # Get the Figure width and height (inches)\n",
    "# print('\\nFigure width:', fig2020_all_stages.get_figwidth())\n",
    "# print('Figure height:', fig2020_all_stages.get_figheight())\n",
    "\n",
    "# # Get the Figure width and height (pixels)\n",
    "# print('\\nFigure pixel width:', fig2020_all_stages.get_figwidth() * fig2020_all_stages.get_dpi())\n",
    "# print('Figure pixel height:', fig2020_all_stages.get_figheight() * fig2020_all_stages.get_dpi())"
   ]
  },
  {
   "cell_type": "code",
   "execution_count": null,
   "metadata": {},
   "outputs": [],
   "source": [
    "# # with transparent background, to test an image behind in Illustrator\n",
    "# fig2020.savefig('../output/one_unit_home_mortgage_activity_flow_2020_transparent_1.png', dpi=100, edgecolor='none',\n",
    "#         orientation='landscape', format='png',\n",
    "#         transparent=True, bbox_inches=None, pad_inches=0.1)"
   ]
  },
  {
   "cell_type": "code",
   "execution_count": null,
   "metadata": {},
   "outputs": [],
   "source": [
    "# # save the figure as an image file\n",
    "# # with its white background\n",
    "# fig2020.savefig('../output/one_unit_home_mortgage_activity_flow_2020_horizonal_origination.png, dpi=100, facecolor='white', \n",
    "#         orientation='landscape', format='png',\n",
    "#         transparent=False, bbox_inches=None, pad_inches=0.1)\n",
    "\n",
    "# # with transparent background, to test an image behind in Illustrator\n",
    "# fig2020.savefig('../output/one_unit_home_mortgage_activity_flow_2020_transparent_horizonal_origination.png', dpi=100, \n",
    "#         orientation='landscape', format='png',\n",
    "#         transparent=True, bbox_inches=None, pad_inches=0.1)"
   ]
  },
  {
   "cell_type": "markdown",
   "metadata": {},
   "source": [
    "### How do loan costs look at that point (upon exiting the loan application process)?"
   ]
  },
  {
   "cell_type": "code",
   "execution_count": null,
   "metadata": {},
   "outputs": [],
   "source": []
  },
  {
   "cell_type": "markdown",
   "metadata": {},
   "source": [
    "### Which loans are closing and which are not?"
   ]
  },
  {
   "cell_type": "code",
   "execution_count": null,
   "metadata": {},
   "outputs": [],
   "source": []
  },
  {
   "cell_type": "markdown",
   "metadata": {},
   "source": [
    "### What is the volume of loans of modest prices for new construction...?\n",
    "_inspired by the Brookings topic number 2, Housing Supply, from its published Four Key Issues that Will Determine the Future of the Housing Market section_\n",
    "_Brookings Institute Lessons from the financial crisis [1]_\n",
    "\n",
    "#### ...in relation to higher priced loans?\n",
    "\n",
    "#### ...in relation to other homes of modest loan prices?"
   ]
  },
  {
   "cell_type": "code",
   "execution_count": null,
   "metadata": {},
   "outputs": [],
   "source": []
  },
  {
   "cell_type": "markdown",
   "metadata": {},
   "source": [
    "### False Claims Act impact on FHA lending\n",
    "\n",
    "_inspired by the Brookings topic number 3, False Claims Act, from its published Four Key Issues that Will Determine the Future of the Housing Market section_\n",
    "\n",
    "\"In the FHA context, lenders are required to make certifications when they submit loans to FHA for insurance. These include statements that the loan complies with the FHA eligibility standards, which are quite extensive and leave little room for even clerical mistakes.  The FCA does not require an intent to defraud, so these errors generate potential liability, even when they have little or no impact on the safety of the loan.  And that potential liability is huge....\n",
    "\n",
    "Lenders have paid billions of dollars to settle these claims brought by the Justice Department.  As a result, lenders have taken several steps to avoid this liability.  Some major lenders have exited FHA lending entirely.  Many have added “credit overlays”- not making loans to lower credit score families, even though the loans are sound loans because they still have a higher risk of default and FCA liability only comes when a loan defaults.  Others have added additional fees to the loans to try to offset the cost of this liability.\"\n",
    "\n",
    "_Brookings Institute Lessons from the financial crisis [1]_\n",
    "\n",
    "1. What major lenders (by size or # of loans) are not doing FHA loans?\n",
    "    - Note showing whether they previously did FHA loans prior to housing crisis would require pre-2018 data.\n",
    "2. How often are FHA loans declined due to low credit score?\n",
    "    - By top 10 individual lending institutions in # of loans fitting this question\n",
    "3. How do total fees compare for FHA loans to non-FHA loans?\n",
    "    - Is there a pattern in fees by particular lending institutions fitting this question?"
   ]
  },
  {
   "cell_type": "code",
   "execution_count": null,
   "metadata": {},
   "outputs": [],
   "source": []
  },
  {
   "cell_type": "markdown",
   "metadata": {},
   "source": [
    "### Federal Support for Housing Finance and GSE loans\n",
    "\n",
    "_inspired by the Brookings topic number 4, Housing Secondary Market Finance, from its published Four Key Issues that Will Determine the Future of the Housing Market section_\n",
    "\n",
    "The Government-Sponsored Enterprises, namely Federal National Mortgage Association (Fannie Mae) and Federal Home Mortgage Corporation (Freddie Mac), back the most common loans, called GSE loans [2, 3]. During the housing crisis of 2007 and 2008, housing prices plummeted and more loans became delinquent or went into default when the borrowers were unable to pay. These GSEs lost billions of dollars, having a tremendous impact on markets, and were later fined millions of dollars for improper accounting and misstatements and problems in control and governance. [3] \n",
    "\n",
    "To state it more simply, Fannie Mae and Freddie Mac had become so large by 2008, that the eventual outcome was that the Federal Housing Finance Administration (FHFA) placed both into conservatorships, where they\n",
    "remain, unexpectedly, more than two decade later today in 2021, though what what many expect to be a gradual exit process began this year under the Biden Administration with its seeds planted by the Trump Administration. [1, 3, 4] \n",
    "\n",
    "1. Do GSE loans serve the broad group of qualified families who seek to become homeowners, , and not just serve the wealthiest and most profitable borrowers? [1]\n",
    "    - How level is the pricing of the guarantee fees the GSE's charge, or total fees in absense of that variable?\n",
    "2. Are GSE's fulfilling their explicitly duty to serve underserved markets? [1]\n",
    "    - Can this be determined by census tracts or areas, and/or by race or ethnicity?"
   ]
  },
  {
   "cell_type": "code",
   "execution_count": null,
   "metadata": {},
   "outputs": [],
   "source": []
  },
  {
   "cell_type": "markdown",
   "metadata": {},
   "source": [
    "#### Quote to consider: growth of Latino families and the importance of affordable housing\n",
    "\n",
    "\"A healthy housing market, especially in the upcoming years, requires that this strong focus on affordable housing continues.  ... Looking forward, the housing market is increasingly comprised of more families without as much intergenerational wealth. Households of color – especially Latino families – account for the largest growth in households today, making it increasingly important that they are served.\"\n",
    "\n",
    "_Brookings Institute Lessons from the financial crisis [1]_"
   ]
  },
  {
   "cell_type": "code",
   "execution_count": null,
   "metadata": {},
   "outputs": [],
   "source": []
  },
  {
   "cell_type": "markdown",
   "metadata": {},
   "source": [
    "#### Quote to consider: noteworthy drill down story of ethical lenders\n",
    "\n",
    "\"Disparate impact analysis encourages creative approaches that both increase effectiveness and inclusiveness.  This process and the value of disparate impact analysis was recently pointed out, and endorsed by, the largest personal loan company in the country, Lending Club, in its responses to requests for input by the CFPB.[28]  Taking care to reach rapidly-growing markets of borrowers of color when structuring business practices is good business.  And it is a false choice that inclusiveness is incompatible with growth and efficiency.\"\n",
    "\n",
    "_Brookings Institute Lessons from the financial crisis [1]_"
   ]
  },
  {
   "cell_type": "markdown",
   "metadata": {},
   "source": [
    "## Cited & Referenced\n",
    "\n",
    "[]"
   ]
  }
 ],
 "metadata": {
  "kernelspec": {
   "display_name": "Python 3 (ipykernel)",
   "language": "python",
   "name": "python3"
  },
  "language_info": {
   "codemirror_mode": {
    "name": "ipython",
    "version": 3
   },
   "file_extension": ".py",
   "mimetype": "text/x-python",
   "name": "python",
   "nbconvert_exporter": "python",
   "pygments_lexer": "ipython3",
   "version": "3.9.12"
  }
 },
 "nbformat": 4,
 "nbformat_minor": 4
}
