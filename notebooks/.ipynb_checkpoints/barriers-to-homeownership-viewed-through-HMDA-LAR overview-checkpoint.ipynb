{
 "cells": [
  {
   "cell_type": "markdown",
   "metadata": {},
   "source": [
    "# Costs and Barriers to Home Ownership along \n",
    "## the Mortgage Application Timeline: Overview statistics\n",
    "\n",
    "##### Author: Kathryn Hurchla for Data Design Dimension (c) 2021\n",
    "exploratory data analysis\n",
    "for Design Labs: Industry Challenge,\n",
    "MICA Data Analytics & Visualization\n",
    "9/28/2021\n",
    "\n",
    "## Key Questions\n",
    "\n",
    "- Which loans are closing and which are not?\n",
    "\n",
    "- **What is the volume of loans of modest prices for new construction, in relation to higher priced loans and other homes of modest loan prices?**\n",
    "\n",
    "### Having to Do with the False Claims Act (FCA)\n",
    "- How prevalent are \"credit overlays\" in FHA loans?\n",
    "- To what degree do FHA loans incur higher initial fees than non-FHA loans, as a lenders' step to avoid or curb losses from liabilities with the FCA?\n",
    "\n",
    "### Primary Data Source\n",
    "\n",
    "#### Housing Mortgage Disclosure Act (HMDA) Modified Loan Application Registrat (LAR), FFIEC\n",
    "https://ffiec.cfpb.gov/data-publication/"
   ]
  },
  {
   "cell_type": "markdown",
   "metadata": {},
   "source": [
    "## Prepare the data and analysis environment first"
   ]
  },
  {
   "cell_type": "code",
   "execution_count": 21,
   "metadata": {},
   "outputs": [],
   "source": [
    "# Import the necessaries libraries\n",
    "# I will use matplotlib and seaborn for plots\n",
    "import matplotlib.pyplot as plt\n",
    "from matplotlib.sankey import Sankey\n",
    "from matplotlib import rcParams\n",
    "import matplotlib as mpl\n",
    "import seaborn as sns\n",
    "# commented out because plotly was taking too long to render plots with this dataset\n",
    "# import plotly.express as px\n",
    "import pandas as pd\n",
    "import numpy as np\n",
    "# # commented out because I will use a downloaded data file\n",
    "# # if accessing data through API, import\n",
    "# import requests\n",
    "# # commented out because I will use a CSV format data file\n",
    "# import json # if working with dataset in JSON format from API or by downloading it in that format\n",
    "import sys # to check python version"
   ]
  },
  {
   "cell_type": "code",
   "execution_count": 22,
   "metadata": {},
   "outputs": [],
   "source": [
    "from IPython.core.interactiveshell import InteractiveShell\n",
    "InteractiveShell.ast_node_interactivity = 'all'"
   ]
  },
  {
   "cell_type": "code",
   "execution_count": 23,
   "metadata": {},
   "outputs": [],
   "source": [
    "# set an overall font for plots\n",
    "# assign sans serif font style\n",
    "plt.rc('font', family = 'sans-serif')\n",
    "# assign default font size\n",
    "plt.rcParams['font.size']  = 14\n",
    "# for sans serif fonts, set a list of font family styles to try to find in this order\n",
    "plt.rcParams['font.serif'] = ['Lexend', 'Roboto', 'Verdana', 'Tahoma', 'DejaVu Sans', 'Lucida Grande'] # note as of matplotlib 2.0 DejaVu Sans is default font"
   ]
  },
  {
   "cell_type": "markdown",
   "metadata": {},
   "source": [
    "### Load the Data\n",
    "\n",
    "Initially, I loaded the full dataset on the most recent 2020 year available of HMDA LAR, and ultimately opted to use and load only two specific variables, Activity Year and Action Taken, then loaded and combined with the same information for the years 2018 and 2019 also managed by and available from the FFIEC Data Explorer and API."
   ]
  },
  {
   "cell_type": "code",
   "execution_count": 24,
   "metadata": {},
   "outputs": [],
   "source": [
    "# If calling dataset directly via the API using requests to JSON format\n",
    "# view the docs at https://cfpb.github.io/hmda-platform/#hmda-api-documentation\n",
    "\n",
    "# commented out this section because I ran up against 404 errors and was unable to load the large dataset.\n",
    "# API call would need to have further troubleshooting to pursue\n",
    "\n",
    "# # GET the data into a request object r\n",
    "# # and tell Requests to stop waiting for a response after a given number of seconds with the timeout parameter. \n",
    "# # failure to do so can cause a program to hang indefinitely\n",
    "# # format with parameters in URL according to HDMI API docs returned 200 response but no data in response object\n",
    "# r = requests.get(\"https://ffiec.cfpb.gov/v2/data-browser-api/view/nationwide/csv?years=2020&loan_purposes=1&total_units=1\", timeout=0.60)\n",
    "\n",
    "# # or instead assign parameters separately according to Requests docs\n",
    "# parameters = {'years': ['2020', '2019', '2018'], 'loan_purposes': 1, 'total_units': 1}\n",
    "\n",
    "# # construct the URL inserting the variable parameters above to run the GET request\n",
    "# r = requests.get(\"https://ffiec.cfpb.gov/v2/data-browser-api/view/nationwide/csv\", params=parameters, timeout=0.60)\n",
    "# # view and confirm the url constructed by the\n",
    "# print(r.url)\n",
    "\n",
    "# # view the response status code\n",
    "# r.status_code\n",
    "# # check if this is an ok code\n",
    "# r.status_code == requests.codes.ok\n",
    "# # check that the request is successful or view errors\n",
    "# r.raise_for_status#()"
   ]
  },
  {
   "cell_type": "code",
   "execution_count": 25,
   "metadata": {},
   "outputs": [],
   "source": [
    "# # view the response object content\n",
    "# print(r.content)"
   ]
  },
  {
   "cell_type": "code",
   "execution_count": 26,
   "metadata": {},
   "outputs": [],
   "source": [
    "# # commented out because there was no data in the requests object\n",
    "# # use the built-in JSON decoder to read the API response to a variable named json\n",
    "# json = r.json()\n",
    "# # view result\n",
    "# print(json)\n",
    "\n",
    "# # try to pretty print it if that's not done by default\n",
    "# print(r.json())#sort_keys=True, indent=4))"
   ]
  },
  {
   "cell_type": "code",
   "execution_count": 27,
   "metadata": {},
   "outputs": [],
   "source": [
    "# # If using JSON from API or download, load the json into a pandas dataframe\n",
    "# # example for simple flattened json: df = pd.read_json('data/simple.json')\n",
    "# df_hmdalar_2020 = pd.read_json('r/simple.json')\n",
    "# # example for nested json: df = pd.read_json('data/nested_list.json')\n",
    "# df_hmdalar_2020 = pd.read_json('r/nested_list.json')"
   ]
  },
  {
   "cell_type": "code",
   "execution_count": 28,
   "metadata": {},
   "outputs": [],
   "source": [
    "# Using downloaded csv files for filtered for each year from FFIEC website, Loan_Purpose='Home Purchase', Total_Units=1 to limit the size and scope\n",
    "# read only the columns I need into year variables first\n",
    "# df_2020_single_purch = pd.read_csv(\"../data/hmda_ffiec_nationwide_2020_one-unit_home_purchase.csv\", usecols=['purchaser_type', 'rate_spread', 'occupancy_type', 'preapproval', 'construction_method', 'income', 'loan_amount', 'total_loan_costs', 'total_points_and_fees', 'origination_charges', 'discount_points', 'lender_credits', 'interest_rate', 'prepayment_penalty_term', 'debt_to_income_ratio', 'combined_loan_to_value_ratio', 'loan_term', 'intro_rate_period', 'balloon_payment', 'interest_only_payment', 'negative_amortization', 'other_non_amortizing_features', 'initially_payable_to_institution', 'activity_year','action_taken'], low_memory=False)"
   ]
  },
  {
   "cell_type": "code",
   "execution_count": 29,
   "metadata": {},
   "outputs": [],
   "source": [
    "# # run this cell only if you'd like to load entire file\n",
    "# # i.e. to use additional variables beyond what's selected to load below\n",
    "# # If a CSV file is already downloaded from the Urban Data Catalog, and saved locally\n",
    "# # Loading all 2020 nationwide LAR resuts was too large to load, and encountered mixed data types.\n",
    "# # I downloaded a new file filtered for 2020, Loan_Purpose='Home Purchase', Total_Units=1 to limit the size and scope\n",
    "# # Attempted load with low memory off successfully due to: DtypeWarning: Columns (5,22,23,24,26,27,28,29,30,31,32,33,38,44,46) have mixed types.Specify dtype option on import or set low_memory=False.\n",
    "df_2020_single_purch = pd.read_csv(\"../data/hmda_ffiec_nationwide_2020_one-unit_home_purchase.csv\", low_memory=False)"
   ]
  },
  {
   "cell_type": "markdown",
   "metadata": {},
   "source": [
    "### Review the data"
   ]
  },
  {
   "cell_type": "code",
   "execution_count": 30,
   "metadata": {},
   "outputs": [
    {
     "data": {
      "text/plain": [
       "(8185221, 99)"
      ]
     },
     "execution_count": 30,
     "metadata": {},
     "output_type": "execute_result"
    }
   ],
   "source": [
    "# shape of the dataframe in row and column counts\n",
    "df_2020_single_purch.shape"
   ]
  },
  {
   "cell_type": "code",
   "execution_count": 31,
   "metadata": {},
   "outputs": [
    {
     "name": "stdout",
     "output_type": "stream",
     "text": [
      "<class 'pandas.core.frame.DataFrame'>\n",
      "RangeIndex: 8185221 entries, 0 to 8185220\n",
      "Data columns (total 99 columns):\n",
      " #   Column                                    Dtype  \n",
      "---  ------                                    -----  \n",
      " 0   activity_year                             int64  \n",
      " 1   lei                                       object \n",
      " 2   derived_msa-md                            int64  \n",
      " 3   state_code                                object \n",
      " 4   county_code                               float64\n",
      " 5   census_tract                              object \n",
      " 6   conforming_loan_limit                     object \n",
      " 7   derived_loan_product_type                 object \n",
      " 8   derived_dwelling_category                 object \n",
      " 9   derived_ethnicity                         object \n",
      " 10  derived_race                              object \n",
      " 11  derived_sex                               object \n",
      " 12  action_taken                              int64  \n",
      " 13  purchaser_type                            int64  \n",
      " 14  preapproval                               int64  \n",
      " 15  loan_type                                 int64  \n",
      " 16  loan_purpose                              int64  \n",
      " 17  lien_status                               int64  \n",
      " 18  reverse_mortgage                          int64  \n",
      " 19  open-end_line_of_credit                   int64  \n",
      " 20  business_or_commercial_purpose            int64  \n",
      " 21  loan_amount                               float64\n",
      " 22  loan_to_value_ratio                       object \n",
      " 23  interest_rate                             object \n",
      " 24  rate_spread                               object \n",
      " 25  hoepa_status                              int64  \n",
      " 26  total_loan_costs                          object \n",
      " 27  total_points_and_fees                     object \n",
      " 28  origination_charges                       object \n",
      " 29  discount_points                           object \n",
      " 30  lender_credits                            object \n",
      " 31  loan_term                                 object \n",
      " 32  prepayment_penalty_term                   object \n",
      " 33  intro_rate_period                         object \n",
      " 34  negative_amortization                     int64  \n",
      " 35  interest_only_payment                     int64  \n",
      " 36  balloon_payment                           int64  \n",
      " 37  other_nonamortizing_features              int64  \n",
      " 38  property_value                            object \n",
      " 39  construction_method                       int64  \n",
      " 40  occupancy_type                            int64  \n",
      " 41  manufactured_home_secured_property_type   int64  \n",
      " 42  manufactured_home_land_property_interest  int64  \n",
      " 43  total_units                               int64  \n",
      " 44  multifamily_affordable_units              object \n",
      " 45  income                                    float64\n",
      " 46  debt_to_income_ratio                      object \n",
      " 47  applicant_credit_score_type               int64  \n",
      " 48  co-applicant_credit_score_type            int64  \n",
      " 49  applicant_ethnicity-1                     float64\n",
      " 50  applicant_ethnicity-2                     float64\n",
      " 51  applicant_ethnicity-3                     float64\n",
      " 52  applicant_ethnicity-4                     float64\n",
      " 53  applicant_ethnicity-5                     float64\n",
      " 54  co-applicant_ethnicity-1                  float64\n",
      " 55  co-applicant_ethnicity-2                  float64\n",
      " 56  co-applicant_ethnicity-3                  float64\n",
      " 57  co-applicant_ethnicity-4                  float64\n",
      " 58  co-applicant_ethnicity-5                  float64\n",
      " 59  applicant_ethnicity_observed              int64  \n",
      " 60  co-applicant_ethnicity_observed           int64  \n",
      " 61  applicant_race-1                          float64\n",
      " 62  applicant_race-2                          float64\n",
      " 63  applicant_race-3                          float64\n",
      " 64  applicant_race-4                          float64\n",
      " 65  applicant_race-5                          float64\n",
      " 66  co-applicant_race-1                       float64\n",
      " 67  co-applicant_race-2                       float64\n",
      " 68  co-applicant_race-3                       float64\n",
      " 69  co-applicant_race-4                       float64\n",
      " 70  co-applicant_race-5                       float64\n",
      " 71  applicant_race_observed                   int64  \n",
      " 72  co-applicant_race_observed                int64  \n",
      " 73  applicant_sex                             int64  \n",
      " 74  co-applicant_sex                          int64  \n",
      " 75  applicant_sex_observed                    int64  \n",
      " 76  co-applicant_sex_observed                 int64  \n",
      " 77  applicant_age                             object \n",
      " 78  co-applicant_age                          object \n",
      " 79  applicant_age_above_62                    object \n",
      " 80  co-applicant_age_above_62                 object \n",
      " 81  submission_of_application                 int64  \n",
      " 82  initially_payable_to_institution          int64  \n",
      " 83  aus-1                                     int64  \n",
      " 84  aus-2                                     float64\n",
      " 85  aus-3                                     float64\n",
      " 86  aus-4                                     float64\n",
      " 87  aus-5                                     float64\n",
      " 88  denial_reason-1                           int64  \n",
      " 89  denial_reason-2                           float64\n",
      " 90  denial_reason-3                           float64\n",
      " 91  denial_reason-4                           float64\n",
      " 92  tract_population                          int64  \n",
      " 93  tract_minority_population_percent         float64\n",
      " 94  ffiec_msa_md_median_family_income         int64  \n",
      " 95  tract_to_msa_income_percentage            int64  \n",
      " 96  tract_owner_occupied_units                int64  \n",
      " 97  tract_one_to_four_family_homes            int64  \n",
      " 98  tract_median_age_of_housing_units         int64  \n",
      "dtypes: float64(31), int64(41), object(27)\n",
      "memory usage: 6.0+ GB\n"
     ]
    }
   ],
   "source": [
    "# view the data types of all columns\n",
    "df_2020_single_purch.info(verbose=True)"
   ]
  },
  {
   "cell_type": "code",
   "execution_count": 32,
   "metadata": {},
   "outputs": [
    {
     "data": {
      "text/html": [
       "<div>\n",
       "<style scoped>\n",
       "    .dataframe tbody tr th:only-of-type {\n",
       "        vertical-align: middle;\n",
       "    }\n",
       "\n",
       "    .dataframe tbody tr th {\n",
       "        vertical-align: top;\n",
       "    }\n",
       "\n",
       "    .dataframe thead th {\n",
       "        text-align: right;\n",
       "    }\n",
       "</style>\n",
       "<table border=\"1\" class=\"dataframe\">\n",
       "  <thead>\n",
       "    <tr style=\"text-align: right;\">\n",
       "      <th></th>\n",
       "      <th>activity_year</th>\n",
       "      <th>lei</th>\n",
       "      <th>derived_msa-md</th>\n",
       "      <th>state_code</th>\n",
       "      <th>county_code</th>\n",
       "      <th>census_tract</th>\n",
       "      <th>conforming_loan_limit</th>\n",
       "      <th>derived_loan_product_type</th>\n",
       "      <th>derived_dwelling_category</th>\n",
       "      <th>derived_ethnicity</th>\n",
       "      <th>...</th>\n",
       "      <th>denial_reason-2</th>\n",
       "      <th>denial_reason-3</th>\n",
       "      <th>denial_reason-4</th>\n",
       "      <th>tract_population</th>\n",
       "      <th>tract_minority_population_percent</th>\n",
       "      <th>ffiec_msa_md_median_family_income</th>\n",
       "      <th>tract_to_msa_income_percentage</th>\n",
       "      <th>tract_owner_occupied_units</th>\n",
       "      <th>tract_one_to_four_family_homes</th>\n",
       "      <th>tract_median_age_of_housing_units</th>\n",
       "    </tr>\n",
       "  </thead>\n",
       "  <tbody>\n",
       "    <tr>\n",
       "      <th>0</th>\n",
       "      <td>2020</td>\n",
       "      <td>549300E2UX99HKDBR481</td>\n",
       "      <td>36740</td>\n",
       "      <td>FL</td>\n",
       "      <td>12095.0</td>\n",
       "      <td>12095015004</td>\n",
       "      <td>C</td>\n",
       "      <td>FHA:First Lien</td>\n",
       "      <td>Single Family (1-4 Units):Site-Built</td>\n",
       "      <td>Hispanic or Latino</td>\n",
       "      <td>...</td>\n",
       "      <td>NaN</td>\n",
       "      <td>NaN</td>\n",
       "      <td>NaN</td>\n",
       "      <td>8964</td>\n",
       "      <td>53.29</td>\n",
       "      <td>68100</td>\n",
       "      <td>127</td>\n",
       "      <td>2379</td>\n",
       "      <td>2944</td>\n",
       "      <td>20</td>\n",
       "    </tr>\n",
       "    <tr>\n",
       "      <th>1</th>\n",
       "      <td>2020</td>\n",
       "      <td>549300E2UX99HKDBR481</td>\n",
       "      <td>21340</td>\n",
       "      <td>TX</td>\n",
       "      <td>48141.0</td>\n",
       "      <td>48141010342</td>\n",
       "      <td>C</td>\n",
       "      <td>FHA:First Lien</td>\n",
       "      <td>Single Family (1-4 Units):Site-Built</td>\n",
       "      <td>Hispanic or Latino</td>\n",
       "      <td>...</td>\n",
       "      <td>NaN</td>\n",
       "      <td>NaN</td>\n",
       "      <td>NaN</td>\n",
       "      <td>14761</td>\n",
       "      <td>91.88</td>\n",
       "      <td>52500</td>\n",
       "      <td>139</td>\n",
       "      <td>3439</td>\n",
       "      <td>4222</td>\n",
       "      <td>9</td>\n",
       "    </tr>\n",
       "    <tr>\n",
       "      <th>2</th>\n",
       "      <td>2020</td>\n",
       "      <td>549300E2UX99HKDBR481</td>\n",
       "      <td>36740</td>\n",
       "      <td>FL</td>\n",
       "      <td>12069.0</td>\n",
       "      <td>12069031203</td>\n",
       "      <td>C</td>\n",
       "      <td>Conventional:First Lien</td>\n",
       "      <td>Single Family (1-4 Units):Site-Built</td>\n",
       "      <td>Ethnicity Not Available</td>\n",
       "      <td>...</td>\n",
       "      <td>NaN</td>\n",
       "      <td>NaN</td>\n",
       "      <td>NaN</td>\n",
       "      <td>6432</td>\n",
       "      <td>36.07</td>\n",
       "      <td>68100</td>\n",
       "      <td>91</td>\n",
       "      <td>2173</td>\n",
       "      <td>2597</td>\n",
       "      <td>14</td>\n",
       "    </tr>\n",
       "    <tr>\n",
       "      <th>3</th>\n",
       "      <td>2020</td>\n",
       "      <td>549300E2UX99HKDBR481</td>\n",
       "      <td>33460</td>\n",
       "      <td>MN</td>\n",
       "      <td>27139.0</td>\n",
       "      <td>27139080100</td>\n",
       "      <td>C</td>\n",
       "      <td>FHA:First Lien</td>\n",
       "      <td>Single Family (1-4 Units):Site-Built</td>\n",
       "      <td>Not Hispanic or Latino</td>\n",
       "      <td>...</td>\n",
       "      <td>NaN</td>\n",
       "      <td>NaN</td>\n",
       "      <td>NaN</td>\n",
       "      <td>2131</td>\n",
       "      <td>35.66</td>\n",
       "      <td>97300</td>\n",
       "      <td>68</td>\n",
       "      <td>425</td>\n",
       "      <td>560</td>\n",
       "      <td>35</td>\n",
       "    </tr>\n",
       "    <tr>\n",
       "      <th>4</th>\n",
       "      <td>2020</td>\n",
       "      <td>549300E2UX99HKDBR481</td>\n",
       "      <td>15980</td>\n",
       "      <td>FL</td>\n",
       "      <td>12071.0</td>\n",
       "      <td>12071040114</td>\n",
       "      <td>C</td>\n",
       "      <td>Conventional:First Lien</td>\n",
       "      <td>Single Family (1-4 Units):Site-Built</td>\n",
       "      <td>Not Hispanic or Latino</td>\n",
       "      <td>...</td>\n",
       "      <td>NaN</td>\n",
       "      <td>NaN</td>\n",
       "      <td>NaN</td>\n",
       "      <td>4396</td>\n",
       "      <td>7.03</td>\n",
       "      <td>68700</td>\n",
       "      <td>184</td>\n",
       "      <td>1884</td>\n",
       "      <td>2588</td>\n",
       "      <td>12</td>\n",
       "    </tr>\n",
       "    <tr>\n",
       "      <th>5</th>\n",
       "      <td>2020</td>\n",
       "      <td>549300E2UX99HKDBR481</td>\n",
       "      <td>18880</td>\n",
       "      <td>FL</td>\n",
       "      <td>12091.0</td>\n",
       "      <td>12091021900</td>\n",
       "      <td>C</td>\n",
       "      <td>VA:First Lien</td>\n",
       "      <td>Single Family (1-4 Units):Site-Built</td>\n",
       "      <td>Ethnicity Not Available</td>\n",
       "      <td>...</td>\n",
       "      <td>NaN</td>\n",
       "      <td>NaN</td>\n",
       "      <td>NaN</td>\n",
       "      <td>9021</td>\n",
       "      <td>44.54</td>\n",
       "      <td>78900</td>\n",
       "      <td>82</td>\n",
       "      <td>1935</td>\n",
       "      <td>3329</td>\n",
       "      <td>24</td>\n",
       "    </tr>\n",
       "    <tr>\n",
       "      <th>6</th>\n",
       "      <td>2020</td>\n",
       "      <td>549300E2UX99HKDBR481</td>\n",
       "      <td>41180</td>\n",
       "      <td>MO</td>\n",
       "      <td>29189.0</td>\n",
       "      <td>29189220001</td>\n",
       "      <td>C</td>\n",
       "      <td>Conventional:First Lien</td>\n",
       "      <td>Single Family (1-4 Units):Site-Built</td>\n",
       "      <td>Not Hispanic or Latino</td>\n",
       "      <td>...</td>\n",
       "      <td>NaN</td>\n",
       "      <td>NaN</td>\n",
       "      <td>NaN</td>\n",
       "      <td>4620</td>\n",
       "      <td>4.65</td>\n",
       "      <td>82600</td>\n",
       "      <td>85</td>\n",
       "      <td>2001</td>\n",
       "      <td>2107</td>\n",
       "      <td>57</td>\n",
       "    </tr>\n",
       "  </tbody>\n",
       "</table>\n",
       "<p>7 rows × 99 columns</p>\n",
       "</div>"
      ],
      "text/plain": [
       "   activity_year                   lei  derived_msa-md state_code  \\\n",
       "0           2020  549300E2UX99HKDBR481           36740         FL   \n",
       "1           2020  549300E2UX99HKDBR481           21340         TX   \n",
       "2           2020  549300E2UX99HKDBR481           36740         FL   \n",
       "3           2020  549300E2UX99HKDBR481           33460         MN   \n",
       "4           2020  549300E2UX99HKDBR481           15980         FL   \n",
       "5           2020  549300E2UX99HKDBR481           18880         FL   \n",
       "6           2020  549300E2UX99HKDBR481           41180         MO   \n",
       "\n",
       "   county_code census_tract conforming_loan_limit derived_loan_product_type  \\\n",
       "0      12095.0  12095015004                     C            FHA:First Lien   \n",
       "1      48141.0  48141010342                     C            FHA:First Lien   \n",
       "2      12069.0  12069031203                     C   Conventional:First Lien   \n",
       "3      27139.0  27139080100                     C            FHA:First Lien   \n",
       "4      12071.0  12071040114                     C   Conventional:First Lien   \n",
       "5      12091.0  12091021900                     C             VA:First Lien   \n",
       "6      29189.0  29189220001                     C   Conventional:First Lien   \n",
       "\n",
       "              derived_dwelling_category        derived_ethnicity  ...  \\\n",
       "0  Single Family (1-4 Units):Site-Built       Hispanic or Latino  ...   \n",
       "1  Single Family (1-4 Units):Site-Built       Hispanic or Latino  ...   \n",
       "2  Single Family (1-4 Units):Site-Built  Ethnicity Not Available  ...   \n",
       "3  Single Family (1-4 Units):Site-Built   Not Hispanic or Latino  ...   \n",
       "4  Single Family (1-4 Units):Site-Built   Not Hispanic or Latino  ...   \n",
       "5  Single Family (1-4 Units):Site-Built  Ethnicity Not Available  ...   \n",
       "6  Single Family (1-4 Units):Site-Built   Not Hispanic or Latino  ...   \n",
       "\n",
       "  denial_reason-2 denial_reason-3  denial_reason-4  tract_population  \\\n",
       "0             NaN             NaN              NaN              8964   \n",
       "1             NaN             NaN              NaN             14761   \n",
       "2             NaN             NaN              NaN              6432   \n",
       "3             NaN             NaN              NaN              2131   \n",
       "4             NaN             NaN              NaN              4396   \n",
       "5             NaN             NaN              NaN              9021   \n",
       "6             NaN             NaN              NaN              4620   \n",
       "\n",
       "   tract_minority_population_percent  ffiec_msa_md_median_family_income  \\\n",
       "0                              53.29                              68100   \n",
       "1                              91.88                              52500   \n",
       "2                              36.07                              68100   \n",
       "3                              35.66                              97300   \n",
       "4                               7.03                              68700   \n",
       "5                              44.54                              78900   \n",
       "6                               4.65                              82600   \n",
       "\n",
       "   tract_to_msa_income_percentage  tract_owner_occupied_units  \\\n",
       "0                             127                        2379   \n",
       "1                             139                        3439   \n",
       "2                              91                        2173   \n",
       "3                              68                         425   \n",
       "4                             184                        1884   \n",
       "5                              82                        1935   \n",
       "6                              85                        2001   \n",
       "\n",
       "   tract_one_to_four_family_homes  tract_median_age_of_housing_units  \n",
       "0                            2944                                 20  \n",
       "1                            4222                                  9  \n",
       "2                            2597                                 14  \n",
       "3                             560                                 35  \n",
       "4                            2588                                 12  \n",
       "5                            3329                                 24  \n",
       "6                            2107                                 57  \n",
       "\n",
       "[7 rows x 99 columns]"
      ]
     },
     "execution_count": 32,
     "metadata": {},
     "output_type": "execute_result"
    }
   ],
   "source": [
    "# view the first seven rows for a quick confirmatory glance\n",
    "df_2020_single_purch.head(7)"
   ]
  },
  {
   "cell_type": "code",
   "execution_count": 33,
   "metadata": {},
   "outputs": [
    {
     "data": {
      "text/html": [
       "<div>\n",
       "<style scoped>\n",
       "    .dataframe tbody tr th:only-of-type {\n",
       "        vertical-align: middle;\n",
       "    }\n",
       "\n",
       "    .dataframe tbody tr th {\n",
       "        vertical-align: top;\n",
       "    }\n",
       "\n",
       "    .dataframe thead th {\n",
       "        text-align: right;\n",
       "    }\n",
       "</style>\n",
       "<table border=\"1\" class=\"dataframe\">\n",
       "  <thead>\n",
       "    <tr style=\"text-align: right;\">\n",
       "      <th></th>\n",
       "      <th>activity_year</th>\n",
       "      <th>lei</th>\n",
       "      <th>derived_msa-md</th>\n",
       "      <th>state_code</th>\n",
       "      <th>county_code</th>\n",
       "      <th>census_tract</th>\n",
       "      <th>conforming_loan_limit</th>\n",
       "      <th>derived_loan_product_type</th>\n",
       "      <th>derived_dwelling_category</th>\n",
       "      <th>derived_ethnicity</th>\n",
       "      <th>...</th>\n",
       "      <th>denial_reason-2</th>\n",
       "      <th>denial_reason-3</th>\n",
       "      <th>denial_reason-4</th>\n",
       "      <th>tract_population</th>\n",
       "      <th>tract_minority_population_percent</th>\n",
       "      <th>ffiec_msa_md_median_family_income</th>\n",
       "      <th>tract_to_msa_income_percentage</th>\n",
       "      <th>tract_owner_occupied_units</th>\n",
       "      <th>tract_one_to_four_family_homes</th>\n",
       "      <th>tract_median_age_of_housing_units</th>\n",
       "    </tr>\n",
       "    <tr>\n",
       "      <th>occupancy_type</th>\n",
       "      <th></th>\n",
       "      <th></th>\n",
       "      <th></th>\n",
       "      <th></th>\n",
       "      <th></th>\n",
       "      <th></th>\n",
       "      <th></th>\n",
       "      <th></th>\n",
       "      <th></th>\n",
       "      <th></th>\n",
       "      <th></th>\n",
       "      <th></th>\n",
       "      <th></th>\n",
       "      <th></th>\n",
       "      <th></th>\n",
       "      <th></th>\n",
       "      <th></th>\n",
       "      <th></th>\n",
       "      <th></th>\n",
       "      <th></th>\n",
       "      <th></th>\n",
       "    </tr>\n",
       "  </thead>\n",
       "  <tbody>\n",
       "    <tr>\n",
       "      <th>1</th>\n",
       "      <td>7463905</td>\n",
       "      <td>7463905</td>\n",
       "      <td>7463905</td>\n",
       "      <td>7293848</td>\n",
       "      <td>7233689</td>\n",
       "      <td>7186761</td>\n",
       "      <td>7463905</td>\n",
       "      <td>7463905</td>\n",
       "      <td>7463905</td>\n",
       "      <td>7463905</td>\n",
       "      <td>...</td>\n",
       "      <td>181277</td>\n",
       "      <td>28072</td>\n",
       "      <td>2443</td>\n",
       "      <td>7463905</td>\n",
       "      <td>7463905</td>\n",
       "      <td>7463905</td>\n",
       "      <td>7463905</td>\n",
       "      <td>7463905</td>\n",
       "      <td>7463905</td>\n",
       "      <td>7463905</td>\n",
       "    </tr>\n",
       "    <tr>\n",
       "      <th>2</th>\n",
       "      <td>362878</td>\n",
       "      <td>362878</td>\n",
       "      <td>362878</td>\n",
       "      <td>358512</td>\n",
       "      <td>356805</td>\n",
       "      <td>355944</td>\n",
       "      <td>362878</td>\n",
       "      <td>362878</td>\n",
       "      <td>362878</td>\n",
       "      <td>362878</td>\n",
       "      <td>...</td>\n",
       "      <td>5458</td>\n",
       "      <td>867</td>\n",
       "      <td>110</td>\n",
       "      <td>362878</td>\n",
       "      <td>362878</td>\n",
       "      <td>362878</td>\n",
       "      <td>362878</td>\n",
       "      <td>362878</td>\n",
       "      <td>362878</td>\n",
       "      <td>362878</td>\n",
       "    </tr>\n",
       "    <tr>\n",
       "      <th>3</th>\n",
       "      <td>358438</td>\n",
       "      <td>358438</td>\n",
       "      <td>358438</td>\n",
       "      <td>354186</td>\n",
       "      <td>348007</td>\n",
       "      <td>346769</td>\n",
       "      <td>358438</td>\n",
       "      <td>358438</td>\n",
       "      <td>358438</td>\n",
       "      <td>358438</td>\n",
       "      <td>...</td>\n",
       "      <td>7461</td>\n",
       "      <td>871</td>\n",
       "      <td>74</td>\n",
       "      <td>358438</td>\n",
       "      <td>358438</td>\n",
       "      <td>358438</td>\n",
       "      <td>358438</td>\n",
       "      <td>358438</td>\n",
       "      <td>358438</td>\n",
       "      <td>358438</td>\n",
       "    </tr>\n",
       "  </tbody>\n",
       "</table>\n",
       "<p>3 rows × 98 columns</p>\n",
       "</div>"
      ],
      "text/plain": [
       "                activity_year      lei  derived_msa-md  state_code  \\\n",
       "occupancy_type                                                       \n",
       "1                     7463905  7463905         7463905     7293848   \n",
       "2                      362878   362878          362878      358512   \n",
       "3                      358438   358438          358438      354186   \n",
       "\n",
       "                county_code  census_tract  conforming_loan_limit  \\\n",
       "occupancy_type                                                     \n",
       "1                   7233689       7186761                7463905   \n",
       "2                    356805        355944                 362878   \n",
       "3                    348007        346769                 358438   \n",
       "\n",
       "                derived_loan_product_type  derived_dwelling_category  \\\n",
       "occupancy_type                                                         \n",
       "1                                 7463905                    7463905   \n",
       "2                                  362878                     362878   \n",
       "3                                  358438                     358438   \n",
       "\n",
       "                derived_ethnicity  ...  denial_reason-2  denial_reason-3  \\\n",
       "occupancy_type                     ...                                     \n",
       "1                         7463905  ...           181277            28072   \n",
       "2                          362878  ...             5458              867   \n",
       "3                          358438  ...             7461              871   \n",
       "\n",
       "                denial_reason-4  tract_population  \\\n",
       "occupancy_type                                      \n",
       "1                          2443           7463905   \n",
       "2                           110            362878   \n",
       "3                            74            358438   \n",
       "\n",
       "                tract_minority_population_percent  \\\n",
       "occupancy_type                                      \n",
       "1                                         7463905   \n",
       "2                                          362878   \n",
       "3                                          358438   \n",
       "\n",
       "                ffiec_msa_md_median_family_income  \\\n",
       "occupancy_type                                      \n",
       "1                                         7463905   \n",
       "2                                          362878   \n",
       "3                                          358438   \n",
       "\n",
       "                tract_to_msa_income_percentage  tract_owner_occupied_units  \\\n",
       "occupancy_type                                                               \n",
       "1                                      7463905                     7463905   \n",
       "2                                       362878                      362878   \n",
       "3                                       358438                      358438   \n",
       "\n",
       "                tract_one_to_four_family_homes  \\\n",
       "occupancy_type                                   \n",
       "1                                      7463905   \n",
       "2                                       362878   \n",
       "3                                       358438   \n",
       "\n",
       "                tract_median_age_of_housing_units  \n",
       "occupancy_type                                     \n",
       "1                                         7463905  \n",
       "2                                          362878  \n",
       "3                                          358438  \n",
       "\n",
       "[3 rows x 98 columns]"
      ]
     },
     "execution_count": 33,
     "metadata": {},
     "output_type": "execute_result"
    }
   ],
   "source": [
    "# group by occupancy type for some quick counts of how many are:\n",
    "# 1=primary residence\n",
    "# 2=secondary residence\n",
    "# 3=investment property\n",
    "df_2020_single_purch.groupby(by=[\"occupancy_type\"]).count()"
   ]
  },
  {
   "cell_type": "code",
   "execution_count": 34,
   "metadata": {},
   "outputs": [],
   "source": [
    "# filter for only primary residence loans, using a boolean variable\n",
    "is_prires20 =  df_2020_single_purch['occupancy_type']==1\n",
    "df_2020_single_purch = df_2020_single_purch[is_prires20]"
   ]
  },
  {
   "cell_type": "code",
   "execution_count": 35,
   "metadata": {},
   "outputs": [
    {
     "data": {
      "text/plain": [
       "dtype('O')"
      ]
     },
     "execution_count": 35,
     "metadata": {},
     "output_type": "execute_result"
    }
   ],
   "source": [
    "df_2020_single_purch['total_loan_costs'].dtypes"
   ]
  },
  {
   "cell_type": "code",
   "execution_count": 36,
   "metadata": {},
   "outputs": [
    {
     "data": {
      "text/plain": [
       "0"
      ]
     },
     "execution_count": 36,
     "metadata": {},
     "output_type": "execute_result"
    },
    {
     "data": {
      "text/plain": [
       "0"
      ]
     },
     "execution_count": 36,
     "metadata": {},
     "output_type": "execute_result"
    },
    {
     "data": {
      "text/plain": [
       "2271506"
      ]
     },
     "execution_count": 36,
     "metadata": {},
     "output_type": "execute_result"
    },
    {
     "data": {
      "text/plain": [
       "662731"
      ]
     },
     "execution_count": 36,
     "metadata": {},
     "output_type": "execute_result"
    },
    {
     "data": {
      "text/plain": [
       "'0.0%'"
      ]
     },
     "execution_count": 36,
     "metadata": {},
     "output_type": "execute_result"
    },
    {
     "data": {
      "text/plain": [
       "'0.0%'"
      ]
     },
     "execution_count": 36,
     "metadata": {},
     "output_type": "execute_result"
    },
    {
     "data": {
      "text/plain": [
       "'Percent Income NaN of 2020 single unit primary residence: 30.43321156954704%'"
      ]
     },
     "execution_count": 36,
     "metadata": {},
     "output_type": "execute_result"
    },
    {
     "data": {
      "text/plain": [
       "'Percent Total Loan Costs NaN of 2020 single unit primary residence: 8.879145701881253%'"
      ]
     },
     "execution_count": 36,
     "metadata": {},
     "output_type": "execute_result"
    }
   ],
   "source": [
    "# check for NaN values first in order to successfully locate the string Exempt records \n",
    "# it's always a good idea to check variables you plan to plot for nulls!\n",
    "# make a boolean series to only shows rows with NaN values (instead of all rows showing True or False)\n",
    "bool_series20 = pd.isnull(df_2020_single_purch['action_taken'])\n",
    "\n",
    "# now for occupancy_type (although we can probably drop this at some point, but keep for now for possible comparisons...)\n",
    "bool_series202 = pd.isnull(df_2020_single_purch['occupancy_type'])\n",
    "\n",
    "# now for total_loan_costs\n",
    "bool_series203 = pd.isnull(df_2020_single_purch['total_loan_costs'])\n",
    "\n",
    "# now for income\n",
    "bool_series204 = pd.isnull(df_2020_single_purch['income'])\n",
    "\n",
    "# display just the number of rows (i.e. size of the index) of filtered data (including NaN values in these specific columns: rows/records)\n",
    "df_2020_single_purch[bool_series20].index.size # action_taken\n",
    "df_2020_single_purch[bool_series202].index.size # occupancy_type\n",
    "df_2020_single_purch[bool_series203].index.size # total_loan_costs\n",
    "df_2020_single_purch[bool_series204].index.size # income\n",
    "\n",
    "# # show NaN rows as a percentage of total rows\n",
    "# def percentage_NaN_action_taken(part, whole):\n",
    "#   Percentage = 100 * float(part)/float(whole)\n",
    "#   return str(Percentage) + “%”\n",
    "\n",
    "str(100 * float(df_2020_single_purch[bool_series20].index.size) / float(df_2020_single_purch.index.size)) + \"%\"\n",
    "str(100 * float(df_2020_single_purch[bool_series202].index.size) / float(df_2020_single_purch.index.size)) + \"%\"\n",
    "\"Percent Income NaN of 2020 single unit primary residence: \" + str(100 * float(df_2020_single_purch[bool_series203].index.size) / float(df_2020_single_purch.index.size)) + \"%\"\n",
    "\"Percent Total Loan Costs NaN of 2020 single unit primary residence: \" + str(100 * float(df_2020_single_purch[bool_series204].index.size) / float(df_2020_single_purch.index.size)) + \"%\""
   ]
  },
  {
   "cell_type": "markdown",
   "metadata": {},
   "source": [
    "### Wow that's noteworthy that 30% of our focus loans have an empty income field!\n",
    "Wonder how that's possible, and whether they are not required to report income, because they must be asking for it, or these are the rows that later are closed for lack of information. I'll definitely need to investigate this further to isolate a usable dataset."
   ]
  },
  {
   "cell_type": "markdown",
   "metadata": {},
   "source": [
    "### Looks like it's time to start plotting data already\n",
    "\n",
    "Set the plot palette and other style constants"
   ]
  },
  {
   "cell_type": "code",
   "execution_count": 37,
   "metadata": {},
   "outputs": [
    {
     "data": {
      "text/plain": [
       "'/Users/kathrynhurchla/.matplotlib'"
      ]
     },
     "execution_count": 37,
     "metadata": {},
     "output_type": "execute_result"
    },
    {
     "name": "stdout",
     "output_type": "stream",
     "text": [
      "3.8.3 (default, Jul  2 2020, 11:26:31) \n",
      "[Clang 10.0.0 ]\n"
     ]
    },
    {
     "data": {
      "text/plain": [
       "'/System/Library/Fonts/Supplemental/Arial.ttf'"
      ]
     },
     "execution_count": 37,
     "metadata": {},
     "output_type": "execute_result"
    }
   ],
   "source": [
    "# set Seaborn palette\n",
    "sns.set_style(\"whitegrid\")\n",
    "# set Seaborn palette\n",
    "sns.set_palette(\"Set2_r\") # for categorical, just reversed this showing less of the pink hue values\n",
    "# check the location of my matplotlib font cache file to see what the default fonts are\n",
    "mpl.get_cachedir()\n",
    "# check my Python version to know which cache file to look for\n",
    "print(sys.version)\n",
    "from matplotlib.font_manager import findfont, FontProperties # unless the full matplotlib module is imported already, this part is needed\n",
    "# check the sans-serif font\n",
    "font = findfont(FontProperties(family=['sans-serif']))\n",
    "font\n",
    "# plot matplotlib plots in the frontend below jupyter notebook cells\n",
    "%matplotlib inline"
   ]
  },
  {
   "cell_type": "code",
   "execution_count": 38,
   "metadata": {},
   "outputs": [
    {
     "data": {
      "image/png": "[encoded data removed]",
      "text/plain": [
       "<Figure size 432x288 with 1 Axes>"
      ]
     },
     "metadata": {
      "needs_background": "light"
     },
     "output_type": "display_data"
    }
   ],
   "source": [
    "# for font troubleshooting, reference this super helpful stackoverflow at https://stackoverflow.com/questions/59391050/unable-to-use-custom-fonts-in-matplotlib\n",
    "# after manually moving the font cache file from that location to my trash,\n",
    "# rebuild the font cache, by running this and restarting the python kernel\n",
    "# set the parameter for sans serif font\n",
    "mpl.rcParams['font.family'] = 'sans-serif'\n",
    "mpl.rcParams['font.sans-serif'] = ['Lexend', 'Roboto', 'Verdana', 'Tahoma', 'DejaVu Sans', 'Lucida Grande'] # note as of matplotlib 2.0 DejaVu Sans is default font\n",
    "\n",
    "# check the sans-serif font again\n",
    "font = findfont(FontProperties(family=['sans-serif']))\n",
    "# test that now instead of the previous font listed, now the new font shows\n",
    "plt.plot(range(0,50,10))\n",
    "plt.title('Font Test:\\n' + str(font), size=32)\n",
    "plt.show();"
   ]
  },
  {
   "cell_type": "markdown",
   "metadata": {},
   "source": [
    "### Great, now I'm running my preferred Lexend font!\n",
    "\n",
    "The matplotlib font cache file was rebuilt in my user directory, and the same default DejaVu Sans remain there, but now Lexend is listed there as an available font, and anytime I designate it using rcParams in the future it will be used."
   ]
  },
  {
   "cell_type": "markdown",
   "metadata": {},
   "source": [
    "### Back to the analysis, assess presence of empty values (NaN)\n",
    "... limited to the relevent variable I'm concerned about, and determine best way to handle them"
   ]
  },
  {
   "cell_type": "code",
   "execution_count": 39,
   "metadata": {},
   "outputs": [
    {
     "name": "stderr",
     "output_type": "stream",
     "text": [
      "/var/folders/yl/cmk7gt492252lhxv4dwq5q280000gn/T/ipykernel_32688/4187290431.py:32: SettingWithCopyWarning: \n",
      "A value is trying to be set on a copy of a slice from a DataFrame.\n",
      "Try using .loc[row_indexer,col_indexer] = value instead\n",
      "\n",
      "See the caveats in the documentation: https://pandas.pydata.org/pandas-docs/stable/user_guide/indexing.html#returning-a-view-versus-a-copy\n",
      "  df_2020_single_purch_incomeNaN[\"action_taken_mapped_labels\"] = df_2020_single_purch_incomeNaN[\"action_taken\"].map(dic_action_taken)\n"
     ]
    },
    {
     "data": {
      "image/png": "[encoded data removed]",
      "text/plain": [
       "<Figure size 432x288 with 1 Axes>"
      ]
     },
     "metadata": {
      "needs_background": "light"
     },
     "output_type": "display_data"
    }
   ],
   "source": [
    "# plot these income NaN records for action taken to understand this better\n",
    "# first assign the pandas Series as a variable\n",
    "df_2020_single_purch_incomeNaN = df_2020_single_purch[bool_series204]\n",
    "\n",
    "# # commented out text box for a legend, to replace with direct labelling\n",
    "# # add a variable with contents for a simple text box to display a key from the data dictionary for action_taken\n",
    "# textstr = '\\n'.join((\n",
    "#     'Keys: Action Taken',\n",
    "#     '1 - Loan originated',\n",
    "#     '2 - Application approved but not accepted',\n",
    "#     '3 - Application denied',\n",
    "#     '4 - Application withdrawn by applicant',\n",
    "#     '5 - File closed for incompleteness',\n",
    "#     '6 - Purchased loan',\n",
    "#     '7 - Preapproval request denied',\n",
    "#     '8 - Preapproval request approved but not accepted'\n",
    "# ))\n",
    "\n",
    "# add a variable with contents for a simple text box to display a key from the data dictionary for action_taken\n",
    "textstr = '\\n'.join((\n",
    "    'This graph shows a significant number of NaN',\n",
    "    ' income records can be explained by the action',\n",
    "    ' taken on those applications, i.e. the stage or',\n",
    "    ' outcome of the application is as expected.',\n",
    "    ' These records without income can be excluded',\n",
    "    ' without skewing or adversely impacting the',\n",
    "    ' results of the analysis.',\n",
    "))\n",
    "\n",
    "# map the actual descriptions of actions from data dictionary to label safely in place of key values in data \n",
    "dic_action_taken = {1: 'Loan originated', 2: 'Application approved but not accepted', 3: 'Application denied', 4: 'Application withdrawn by applicant', 5: 'File closed for incompleteness', 6: 'Purchased loan', 7: 'Preapproval request denied', 8: 'Preapproval request approved but not accepted'}\n",
    "df_2020_single_purch_incomeNaN[\"action_taken_mapped_labels\"] = df_2020_single_purch_incomeNaN[\"action_taken\"].map(dic_action_taken)\n",
    "# plot values on an axes\n",
    "ax = sns.countplot(y=\"action_taken_mapped_labels\", \n",
    "                   data=df_2020_single_purch_incomeNaN, \n",
    "                   color='#4e2f90',\n",
    "                   order = df_2020_single_purch_incomeNaN['action_taken_mapped_labels'].value_counts(ascending=True).index)\n",
    "\n",
    "# # commented out text box for a legend, to replace with direct labelling\n",
    "# these are matplotlib.patch.Patch properties for a bounding box for the text\n",
    "props = dict(boxstyle='round', facecolor='wheat', alpha=0.5)\n",
    "# place a text box in upper right outside the axes coords\n",
    "ax.text(1.05, 0.95, textstr, transform=ax.transAxes, fontsize=14, #fontfamily=Lexend,\n",
    "        verticalalignment='top', bbox=props)\n",
    "ax.set_ylabel(None)#(\"Action Taken\") #suppress long y label requiring audience to turn head to read, use title/subtitle instead to define\n",
    "ax.invert_yaxis()  # labels read top-to-bottom\n",
    "ax.set_title(\"Applications with Empty Income by Action Taken\", fontsize=30, fontweight='demibold', pad=25.0)\n",
    "plt.show();"
   ]
  },
  {
   "cell_type": "code",
   "execution_count": 40,
   "metadata": {},
   "outputs": [
    {
     "data": {
      "image/png": "[encoded data removed]",
      "text/plain": [
       "<Figure size 428.125x360 with 1 Axes>"
      ]
     },
     "metadata": {
      "needs_background": "light"
     },
     "output_type": "display_data"
    }
   ],
   "source": [
    "# do all 'Purchased loan' (activity_type 6) records have empty income?\n",
    "# make a quick scatterplot to review income by action taken\n",
    "# reuse the action taken map labelling for this main df\n",
    "df_2020_single_purch[\"action_taken_mapped_labels\"] = df_2020_single_purch[\"action_taken\"].map(dic_action_taken)\n",
    "ax = sns.relplot(\n",
    "     data=df_2020_single_purch,\n",
    "     y=\"action_taken_mapped_labels\", x=\"income\",\n",
    "     hue=\"preapproval\", style=\"preapproval\"#, size=\"combined_loan_value\",\n",
    "#      legend=False # leave out for True by default\n",
    ")\n",
    "\n",
    "ax.set_axis_labels(None, \"Income\")\n",
    "# ax.fig.suptitle(\"Reported Income of Applicants by Action Taken\",\n",
    "#                   fontsize=30, fontdict={\"weight\": \"demibold\"}, pad=25.0)\n",
    "\n",
    "# commented out with warning that prevented plot from rendering:\n",
    "# UserWarning: Legend does not support 1 instances (or 2 instances).\n",
    "# A proxy artist may be used instead.\n",
    "# See: https://matplotlib.org/users/legend_guide.html#creating-artists-specifically-for-adding-to-the-legend-aka-proxy-artists\n",
    "#   plt.legend([1, 2], ['Yes', 'No'], title='Applied for Preapproval')\n",
    "# # define a legend with specific labels manually\n",
    "# # Plot the legend\n",
    "# plt.legend([1, 2], ['Yes', 'No'], title='Applied for Preapproval')\n",
    "\n",
    "plt.show();"
   ]
  },
  {
   "cell_type": "code",
   "execution_count": 76,
   "metadata": {},
   "outputs": [
    {
     "name": "stderr",
     "output_type": "stream",
     "text": [
      "/var/folders/yl/cmk7gt492252lhxv4dwq5q280000gn/T/ipykernel_32688/532765596.py:33: SettingWithCopyWarning: \n",
      "A value is trying to be set on a copy of a slice from a DataFrame.\n",
      "Try using .loc[row_indexer,col_indexer] = value instead\n",
      "\n",
      "See the caveats in the documentation: https://pandas.pydata.org/pandas-docs/stable/user_guide/indexing.html#returning-a-view-versus-a-copy\n",
      "  df_2020_single_purch_tlcNaN[\"action_taken_mapped_labels\"] = df_2020_single_purch_tlcNaN[\"action_taken\"].map(dic_action_taken)\n"
     ]
    },
    {
     "ename": "ValueError",
     "evalue": "The number of FixedLocator locations (8), usually from a call to set_ticks, does not match the number of ticklabels (26).",
     "output_type": "error",
     "traceback": [
      "\u001b[0;31m---------------------------------------------------------------------------\u001b[0m",
      "\u001b[0;31mValueError\u001b[0m                                Traceback (most recent call last)",
      "\u001b[0;32m/var/folders/yl/cmk7gt492252lhxv4dwq5q280000gn/T/ipykernel_32688/532765596.py\u001b[0m in \u001b[0;36m<module>\u001b[0;34m\u001b[0m\n\u001b[1;32m     48\u001b[0m         verticalalignment='top', bbox=props)\n\u001b[1;32m     49\u001b[0m \u001b[0max\u001b[0m\u001b[0;34m.\u001b[0m\u001b[0mset_ylabel\u001b[0m\u001b[0;34m(\u001b[0m\u001b[0;32mNone\u001b[0m\u001b[0;34m)\u001b[0m\u001b[0;31m#(\"Action Taken\") #suppress long y label requiring audience to turn head to read, use title/subtitle instead to define\u001b[0m\u001b[0;34m\u001b[0m\u001b[0;34m\u001b[0m\u001b[0m\n\u001b[0;32m---> 50\u001b[0;31m \u001b[0max\u001b[0m\u001b[0;34m.\u001b[0m\u001b[0mset_yticklabels\u001b[0m\u001b[0;34m(\u001b[0m\u001b[0;34m\"action_taken_mapped_labels\"\u001b[0m\u001b[0;34m,\u001b[0m \u001b[0mfontsize\u001b[0m\u001b[0;34m=\u001b[0m\u001b[0;36m10\u001b[0m\u001b[0;34m)\u001b[0m\u001b[0;34m\u001b[0m\u001b[0;34m\u001b[0m\u001b[0m\n\u001b[0m\u001b[1;32m     51\u001b[0m \u001b[0max\u001b[0m\u001b[0;34m.\u001b[0m\u001b[0minvert_yaxis\u001b[0m\u001b[0;34m(\u001b[0m\u001b[0;34m)\u001b[0m  \u001b[0;31m# labels read top-to-bottom\u001b[0m\u001b[0;34m\u001b[0m\u001b[0;34m\u001b[0m\u001b[0m\n\u001b[1;32m     52\u001b[0m \u001b[0mplt\u001b[0m\u001b[0;34m.\u001b[0m\u001b[0mshow\u001b[0m\u001b[0;34m(\u001b[0m\u001b[0;34m)\u001b[0m\u001b[0;34m;\u001b[0m\u001b[0;34m\u001b[0m\u001b[0;34m\u001b[0m\u001b[0m\n",
      "\u001b[0;32m~/opt/anaconda3/lib/python3.8/site-packages/matplotlib/axes/_base.py\u001b[0m in \u001b[0;36mwrapper\u001b[0;34m(self, *args, **kwargs)\u001b[0m\n\u001b[1;32m     71\u001b[0m \u001b[0;34m\u001b[0m\u001b[0m\n\u001b[1;32m     72\u001b[0m         \u001b[0;32mdef\u001b[0m \u001b[0mwrapper\u001b[0m\u001b[0;34m(\u001b[0m\u001b[0mself\u001b[0m\u001b[0;34m,\u001b[0m \u001b[0;34m*\u001b[0m\u001b[0margs\u001b[0m\u001b[0;34m,\u001b[0m \u001b[0;34m**\u001b[0m\u001b[0mkwargs\u001b[0m\u001b[0;34m)\u001b[0m\u001b[0;34m:\u001b[0m\u001b[0;34m\u001b[0m\u001b[0;34m\u001b[0m\u001b[0m\n\u001b[0;32m---> 73\u001b[0;31m             \u001b[0;32mreturn\u001b[0m \u001b[0mget_method\u001b[0m\u001b[0;34m(\u001b[0m\u001b[0mself\u001b[0m\u001b[0;34m)\u001b[0m\u001b[0;34m(\u001b[0m\u001b[0;34m*\u001b[0m\u001b[0margs\u001b[0m\u001b[0;34m,\u001b[0m \u001b[0;34m**\u001b[0m\u001b[0mkwargs\u001b[0m\u001b[0;34m)\u001b[0m\u001b[0;34m\u001b[0m\u001b[0;34m\u001b[0m\u001b[0m\n\u001b[0m\u001b[1;32m     74\u001b[0m \u001b[0;34m\u001b[0m\u001b[0m\n\u001b[1;32m     75\u001b[0m         \u001b[0mwrapper\u001b[0m\u001b[0;34m.\u001b[0m\u001b[0m__module__\u001b[0m \u001b[0;34m=\u001b[0m \u001b[0mowner\u001b[0m\u001b[0;34m.\u001b[0m\u001b[0m__module__\u001b[0m\u001b[0;34m\u001b[0m\u001b[0;34m\u001b[0m\u001b[0m\n",
      "\u001b[0;32m~/opt/anaconda3/lib/python3.8/site-packages/matplotlib/_api/deprecation.py\u001b[0m in \u001b[0;36mwrapper\u001b[0;34m(*args, **kwargs)\u001b[0m\n\u001b[1;32m    469\u001b[0m                 \u001b[0;34m\"parameter will become keyword-only %(removal)s.\"\u001b[0m\u001b[0;34m,\u001b[0m\u001b[0;34m\u001b[0m\u001b[0;34m\u001b[0m\u001b[0m\n\u001b[1;32m    470\u001b[0m                 name=name, obj_type=f\"parameter of {func.__name__}()\")\n\u001b[0;32m--> 471\u001b[0;31m         \u001b[0;32mreturn\u001b[0m \u001b[0mfunc\u001b[0m\u001b[0;34m(\u001b[0m\u001b[0;34m*\u001b[0m\u001b[0margs\u001b[0m\u001b[0;34m,\u001b[0m \u001b[0;34m**\u001b[0m\u001b[0mkwargs\u001b[0m\u001b[0;34m)\u001b[0m\u001b[0;34m\u001b[0m\u001b[0;34m\u001b[0m\u001b[0m\n\u001b[0m\u001b[1;32m    472\u001b[0m \u001b[0;34m\u001b[0m\u001b[0m\n\u001b[1;32m    473\u001b[0m     \u001b[0;32mreturn\u001b[0m \u001b[0mwrapper\u001b[0m\u001b[0;34m\u001b[0m\u001b[0;34m\u001b[0m\u001b[0m\n",
      "\u001b[0;32m~/opt/anaconda3/lib/python3.8/site-packages/matplotlib/axis.py\u001b[0m in \u001b[0;36m_set_ticklabels\u001b[0;34m(self, labels, fontdict, minor, **kwargs)\u001b[0m\n\u001b[1;32m   1793\u001b[0m         \u001b[0;32mif\u001b[0m \u001b[0mfontdict\u001b[0m \u001b[0;32mis\u001b[0m \u001b[0;32mnot\u001b[0m \u001b[0;32mNone\u001b[0m\u001b[0;34m:\u001b[0m\u001b[0;34m\u001b[0m\u001b[0;34m\u001b[0m\u001b[0m\n\u001b[1;32m   1794\u001b[0m             \u001b[0mkwargs\u001b[0m\u001b[0;34m.\u001b[0m\u001b[0mupdate\u001b[0m\u001b[0;34m(\u001b[0m\u001b[0mfontdict\u001b[0m\u001b[0;34m)\u001b[0m\u001b[0;34m\u001b[0m\u001b[0;34m\u001b[0m\u001b[0m\n\u001b[0;32m-> 1795\u001b[0;31m         \u001b[0;32mreturn\u001b[0m \u001b[0mself\u001b[0m\u001b[0;34m.\u001b[0m\u001b[0mset_ticklabels\u001b[0m\u001b[0;34m(\u001b[0m\u001b[0mlabels\u001b[0m\u001b[0;34m,\u001b[0m \u001b[0mminor\u001b[0m\u001b[0;34m=\u001b[0m\u001b[0mminor\u001b[0m\u001b[0;34m,\u001b[0m \u001b[0;34m**\u001b[0m\u001b[0mkwargs\u001b[0m\u001b[0;34m)\u001b[0m\u001b[0;34m\u001b[0m\u001b[0;34m\u001b[0m\u001b[0m\n\u001b[0m\u001b[1;32m   1796\u001b[0m \u001b[0;34m\u001b[0m\u001b[0m\n\u001b[1;32m   1797\u001b[0m     \u001b[0;32mdef\u001b[0m \u001b[0mset_ticks\u001b[0m\u001b[0;34m(\u001b[0m\u001b[0mself\u001b[0m\u001b[0;34m,\u001b[0m \u001b[0mticks\u001b[0m\u001b[0;34m,\u001b[0m \u001b[0;34m*\u001b[0m\u001b[0;34m,\u001b[0m \u001b[0mminor\u001b[0m\u001b[0;34m=\u001b[0m\u001b[0;32mFalse\u001b[0m\u001b[0;34m)\u001b[0m\u001b[0;34m:\u001b[0m\u001b[0;34m\u001b[0m\u001b[0;34m\u001b[0m\u001b[0m\n",
      "\u001b[0;32m~/opt/anaconda3/lib/python3.8/site-packages/matplotlib/axis.py\u001b[0m in \u001b[0;36mset_ticklabels\u001b[0;34m(self, ticklabels, minor, **kwargs)\u001b[0m\n\u001b[1;32m   1714\u001b[0m             \u001b[0;31m# remove all tick labels, so only error for > 0 ticklabels\u001b[0m\u001b[0;34m\u001b[0m\u001b[0;34m\u001b[0m\u001b[0;34m\u001b[0m\u001b[0m\n\u001b[1;32m   1715\u001b[0m             \u001b[0;32mif\u001b[0m \u001b[0mlen\u001b[0m\u001b[0;34m(\u001b[0m\u001b[0mlocator\u001b[0m\u001b[0;34m.\u001b[0m\u001b[0mlocs\u001b[0m\u001b[0;34m)\u001b[0m \u001b[0;34m!=\u001b[0m \u001b[0mlen\u001b[0m\u001b[0;34m(\u001b[0m\u001b[0mticklabels\u001b[0m\u001b[0;34m)\u001b[0m \u001b[0;32mand\u001b[0m \u001b[0mlen\u001b[0m\u001b[0;34m(\u001b[0m\u001b[0mticklabels\u001b[0m\u001b[0;34m)\u001b[0m \u001b[0;34m!=\u001b[0m \u001b[0;36m0\u001b[0m\u001b[0;34m:\u001b[0m\u001b[0;34m\u001b[0m\u001b[0;34m\u001b[0m\u001b[0m\n\u001b[0;32m-> 1716\u001b[0;31m                 raise ValueError(\n\u001b[0m\u001b[1;32m   1717\u001b[0m                     \u001b[0;34m\"The number of FixedLocator locations\"\u001b[0m\u001b[0;34m\u001b[0m\u001b[0;34m\u001b[0m\u001b[0m\n\u001b[1;32m   1718\u001b[0m                     \u001b[0;34mf\" ({len(locator.locs)}), usually from a call to\"\u001b[0m\u001b[0;34m\u001b[0m\u001b[0;34m\u001b[0m\u001b[0m\n",
      "\u001b[0;31mValueError\u001b[0m: The number of FixedLocator locations (8), usually from a call to set_ticks, does not match the number of ticklabels (26)."
     ]
    },
    {
     "data": {
      "image/png": "[encoded data removed]",
      "text/plain": [
       "<Figure size 432x288 with 1 Axes>"
      ]
     },
     "metadata": {
      "needs_background": "light"
     },
     "output_type": "display_data"
    }
   ],
   "source": [
    "# repeat these steps for total_loan_costs NaN value records\n",
    "# plot these total loan value NaN records in total_loan_costs to show the action taken to understand this better\n",
    "# first assign the pandas Series as a variable\n",
    "df_2020_single_purch_tlcNaN = df_2020_single_purch[bool_series203]\n",
    "\n",
    "# # commented out text box for a legend, to replace with direct labelling\n",
    "# # add a variable with contents for a simple text box to display a key from the data dictionary for action_taken\n",
    "# textstr = '\\n'.join((\n",
    "#     'Keys: Action Taken',\n",
    "#     '1 - Loan originated',\n",
    "#     '2 - Application approved but not accepted',\n",
    "#     '3 - Application denied',\n",
    "#     '4 - Application withdrawn by applicant',\n",
    "#     '5 - File closed for incompleteness',\n",
    "#     '6 - Purchased loan',\n",
    "#     '7 - Preapproval request denied',\n",
    "#     '8 - Preapproval request approved but not accepted'\n",
    "# ))\n",
    "\n",
    "# add a variable with contents for a simple text box to display a key from the data dictionary for action_taken\n",
    "textstr = '\\n'.join((\n",
    "    'This graph shows a significant number of NaN',\n",
    "    ' total loan costs records can be explained by the',\n",
    "    ' action taken on those applications, i.e. the stage',\n",
    "    ' or outcome of the application is as expected.',\n",
    "    ' These records without income can be excluded',\n",
    "    ' without skewing or adversely impacting the',\n",
    "    ' results of the analysis.',\n",
    "))\n",
    "\n",
    "# map the actual descriptions of actions from data dictionary to label safely in place of key values in data \n",
    "dic_action_taken = {1: 'Loan originated', 2: 'Application approved but not accepted', 3: 'Application denied', 4: 'Application withdrawn by applicant', 5: 'File closed for incompleteness', 6: 'Purchased loan', 7: 'Preapproval request denied', 8: 'Preapproval request approved but not accepted'}\n",
    "df_2020_single_purch_tlcNaN[\"action_taken_mapped_labels\"] = df_2020_single_purch_tlcNaN[\"action_taken\"].map(dic_action_taken)\n",
    "# plot values on an axes\n",
    "# # first set the figure size manually\n",
    "# plt.figure(figsize=(10,10))\n",
    "ax = sns.countplot(y=\"action_taken_mapped_labels\", \n",
    "                   data=df_2020_single_purch_tlcNaN, \n",
    "                   color='#4e2f90',\n",
    "                   order = df_2020_single_purch_tlcNaN['action_taken_mapped_labels'].value_counts(ascending=False).index)\n",
    "# add a title\n",
    "ax.set_title(\"Applications with Empty Total Loan Costs by Action Taken\", fontsize=30, fontweight='demibold', pad=25.0)\n",
    "# # commented out text box for a legend, to replace with direct labelling\n",
    "# these are matplotlib.patch.Patch properties for a bounding box for the text\n",
    "props = dict(boxstyle='round', facecolor='wheat', alpha=0.5)\n",
    "# place a text box in upper right outside the axes coords\n",
    "ax.text(1.05, 0.95, textstr, transform=ax.transAxes, fontsize=14, #fontfamily=Lexend,\n",
    "        verticalalignment='top', bbox=props)\n",
    "ax.set_ylabel(None)#(\"Action Taken\") #suppress long y label requiring audience to turn head to read, use title/subtitle instead to define\n",
    "ax.set_yticklabels(\"action_taken_mapped_labels\", fontsize=10)\n",
    "ax.invert_yaxis()  # labels read top-to-bottom\n",
    "plt.show();"
   ]
  },
  {
   "cell_type": "code",
   "execution_count": 43,
   "metadata": {},
   "outputs": [
    {
     "data": {
      "text/plain": [
       "1                 File closed for incompleteness\n",
       "5             Application withdrawn by applicant\n",
       "6             Application withdrawn by applicant\n",
       "7             Application withdrawn by applicant\n",
       "15            Application withdrawn by applicant\n",
       "                           ...                  \n",
       "8185203    Application approved but not accepted\n",
       "8185204           File closed for incompleteness\n",
       "8185205       Application withdrawn by applicant\n",
       "8185206       Application withdrawn by applicant\n",
       "8185209       Application withdrawn by applicant\n",
       "Name: action_taken_mapped_labels, Length: 2271506, dtype: object"
      ]
     },
     "execution_count": 43,
     "metadata": {},
     "output_type": "execute_result"
    },
    {
     "name": "stdout",
     "output_type": "stream",
     "text": [
      "         activity_year                   lei  derived_msa-md state_code  \\\n",
      "1                 2020  549300E2UX99HKDBR481           21340         TX   \n",
      "5                 2020  549300E2UX99HKDBR481           18880         FL   \n",
      "6                 2020  549300E2UX99HKDBR481           41180         MO   \n",
      "7                 2020  549300E2UX99HKDBR481           34980         TN   \n",
      "15                2020  549300E2UX99HKDBR481           44700         CA   \n",
      "...                ...                   ...             ...        ...   \n",
      "8185203           2020  549300E2UX99HKDBR481           41180         MO   \n",
      "8185204           2020  549300E2UX99HKDBR481           99999         PA   \n",
      "8185205           2020  549300E2UX99HKDBR481           31084         CA   \n",
      "8185206           2020  549300E2UX99HKDBR481           19660         FL   \n",
      "8185209           2020  549300E2UX99HKDBR481           31084         CA   \n",
      "\n",
      "         county_code census_tract conforming_loan_limit  \\\n",
      "1            48141.0  48141010342                     C   \n",
      "5            12091.0  12091021900                     C   \n",
      "6            29189.0  29189220001                     C   \n",
      "7            47037.0  47037010303                     C   \n",
      "15            6077.0  06077003801                     C   \n",
      "...              ...          ...                   ...   \n",
      "8185203      29510.0  29510101500                     C   \n",
      "8185204      42035.0  42035030300                     C   \n",
      "8185205       6037.0  06037502901                     C   \n",
      "8185206      12127.0  12127091024                     C   \n",
      "8185209       6037.0  06037139701                     C   \n",
      "\n",
      "        derived_loan_product_type             derived_dwelling_category  \\\n",
      "1                  FHA:First Lien  Single Family (1-4 Units):Site-Built   \n",
      "5                   VA:First Lien  Single Family (1-4 Units):Site-Built   \n",
      "6         Conventional:First Lien  Single Family (1-4 Units):Site-Built   \n",
      "7         Conventional:First Lien  Single Family (1-4 Units):Site-Built   \n",
      "15                 FHA:First Lien  Single Family (1-4 Units):Site-Built   \n",
      "...                           ...                                   ...   \n",
      "8185203            FHA:First Lien  Single Family (1-4 Units):Site-Built   \n",
      "8185204            FHA:First Lien  Single Family (1-4 Units):Site-Built   \n",
      "8185205            FHA:First Lien  Single Family (1-4 Units):Site-Built   \n",
      "8185206            FHA:First Lien  Single Family (1-4 Units):Site-Built   \n",
      "8185209   Conventional:First Lien  Single Family (1-4 Units):Site-Built   \n",
      "\n",
      "               derived_ethnicity  ... denial_reason-3 denial_reason-4  \\\n",
      "1             Hispanic or Latino  ...             NaN             NaN   \n",
      "5        Ethnicity Not Available  ...             NaN             NaN   \n",
      "6         Not Hispanic or Latino  ...             NaN             NaN   \n",
      "7         Not Hispanic or Latino  ...             NaN             NaN   \n",
      "15            Hispanic or Latino  ...             NaN             NaN   \n",
      "...                          ...  ...             ...             ...   \n",
      "8185203   Not Hispanic or Latino  ...             NaN             NaN   \n",
      "8185204   Not Hispanic or Latino  ...             NaN             NaN   \n",
      "8185205   Not Hispanic or Latino  ...             NaN             NaN   \n",
      "8185206   Not Hispanic or Latino  ...             NaN             NaN   \n",
      "8185209   Not Hispanic or Latino  ...             NaN             NaN   \n",
      "\n",
      "         tract_population  tract_minority_population_percent  \\\n",
      "1                   14761                              91.88   \n",
      "5                    9021                              44.54   \n",
      "6                    4620                               4.65   \n",
      "7                    4953                              44.09   \n",
      "15                  12657                              85.52   \n",
      "...                   ...                                ...   \n",
      "8185203              3771                              52.29   \n",
      "8185204              4049                               2.49   \n",
      "8185205              5488                              82.03   \n",
      "8185206              7462                              50.29   \n",
      "8185209              4972                              14.14   \n",
      "\n",
      "         ffiec_msa_md_median_family_income  tract_to_msa_income_percentage  \\\n",
      "1                                    52500                             139   \n",
      "5                                    78900                              82   \n",
      "6                                    82600                              85   \n",
      "7                                    76500                              82   \n",
      "15                                   75000                              98   \n",
      "...                                    ...                             ...   \n",
      "8185203                              82600                              55   \n",
      "8185204                              64900                             118   \n",
      "8185205                              77300                             137   \n",
      "8185206                              65000                              89   \n",
      "8185209                              77300                             227   \n",
      "\n",
      "         tract_owner_occupied_units  tract_one_to_four_family_homes  \\\n",
      "1                              3439                            4222   \n",
      "5                              1935                            3329   \n",
      "6                              2001                            2107   \n",
      "7                               661                            1153   \n",
      "15                             2054                            3429   \n",
      "...                             ...                             ...   \n",
      "8185203                         448                            1541   \n",
      "8185204                        1366                            2084   \n",
      "8185205                        1168                            1456   \n",
      "8185206                        1825                            2692   \n",
      "8185209                        1421                            1623   \n",
      "\n",
      "         tract_median_age_of_housing_units  \\\n",
      "1                                        9   \n",
      "5                                       24   \n",
      "6                                       57   \n",
      "7                                       27   \n",
      "15                                      15   \n",
      "...                                    ...   \n",
      "8185203                                 76   \n",
      "8185204                                 42   \n",
      "8185205                                 59   \n",
      "8185206                                 26   \n",
      "8185209                                 50   \n",
      "\n",
      "                    action_taken_mapped_labels  \n",
      "1               File closed for incompleteness  \n",
      "5           Application withdrawn by applicant  \n",
      "6           Application withdrawn by applicant  \n",
      "7           Application withdrawn by applicant  \n",
      "15          Application withdrawn by applicant  \n",
      "...                                        ...  \n",
      "8185203  Application approved but not accepted  \n",
      "8185204         File closed for incompleteness  \n",
      "8185205     Application withdrawn by applicant  \n",
      "8185206     Application withdrawn by applicant  \n",
      "8185209     Application withdrawn by applicant  \n",
      "\n",
      "[2271506 rows x 100 columns]\n"
     ]
    }
   ],
   "source": [
    "# check the sequence error states is empty to confirm it's an empty dataframe\n",
    "df_2020_single_purch_tlcNaN[\"action_taken_mapped_labels\"]\n",
    "print(df_2020_single_purch_tlcNaN)"
   ]
  },
  {
   "cell_type": "code",
   "execution_count": 44,
   "metadata": {},
   "outputs": [
    {
     "data": {
      "text/plain": [
       "6801174"
      ]
     },
     "execution_count": 44,
     "metadata": {},
     "output_type": "execute_result"
    }
   ],
   "source": [
    "# since there are many NaN income values, and I'm calculating based on this variable, \n",
    "# I will only work with the rows where income is not empty\n",
    "df_2020_single_purch_EDAnotNA = df_2020_single_purch[df_2020_single_purch[\"income\"].notna()]\n",
    "# see the number of records now after excluding rows with NaN income\n",
    "len(df_2020_single_purch_EDAnotNA.index)"
   ]
  },
  {
   "cell_type": "code",
   "execution_count": 58,
   "metadata": {},
   "outputs": [
    {
     "data": {
      "text/plain": [
       "5192399"
      ]
     },
     "execution_count": 58,
     "metadata": {},
     "output_type": "execute_result"
    },
    {
     "data": {
      "text/plain": [
       "(5192399, 100)"
      ]
     },
     "execution_count": 58,
     "metadata": {},
     "output_type": "execute_result"
    },
    {
     "data": {
      "text/plain": [
       "activity_year                          int64\n",
       "lei                                   object\n",
       "derived_msa-md                         int64\n",
       "state_code                            object\n",
       "county_code                          float64\n",
       "                                      ...   \n",
       "tract_to_msa_income_percentage         int64\n",
       "tract_owner_occupied_units             int64\n",
       "tract_one_to_four_family_homes         int64\n",
       "tract_median_age_of_housing_units      int64\n",
       "action_taken_mapped_labels            object\n",
       "Length: 100, dtype: object"
      ]
     },
     "execution_count": 58,
     "metadata": {},
     "output_type": "execute_result"
    }
   ],
   "source": [
    "# since there are many NaN total_loan_costs values, and I'm calculating based on this variable, \n",
    "# I will only work with the rows where total_loan_costs is not empty\n",
    "df_2020_single_purch_EDAnotNA = df_2020_single_purch[df_2020_single_purch[\"total_loan_costs\"].notna()]\n",
    "# see the number of records now after excluding rows with NaN total_loan_costs\n",
    "len(df_2020_single_purch_EDAnotNA.index)\n",
    "# shape of \n",
    "df_2020_single_purch_EDAnotNA.shape\n",
    "# type of\n",
    "df_2020_single_purch_EDAnotNA.dtypes"
   ]
  },
  {
   "cell_type": "code",
   "execution_count": 52,
   "metadata": {},
   "outputs": [
    {
     "data": {
      "text/plain": [
       "(136830, 100)"
      ]
     },
     "execution_count": 52,
     "metadata": {},
     "output_type": "execute_result"
    }
   ],
   "source": [
    "# now that NaN are excluded, try finding Exempt income values again\n",
    "# some records are 'Exempt' in reporting 'total_loan_costs', therefore\n",
    "# separate those out before we can meaningfully change to numeric for calculations\n",
    "# it may be useful to work with Exempt loans separately, so first get the number of rows in that group\n",
    "# note to get around errors, I still had to add na=false to this search for 'Exempt' values\n",
    "exempt_total_loan_costs = df_2020_single_purch_EDAnotNA.loc[df_2020_single_purch[\"total_loan_costs\"].str.contains('Exempt', na=False)]\n",
    "exempt_total_loan_costs.shape"
   ]
  },
  {
   "cell_type": "code",
   "execution_count": 79,
   "metadata": {},
   "outputs": [
    {
     "ename": "KeyError",
     "evalue": "'total_loan_costs'",
     "output_type": "error",
     "traceback": [
      "\u001b[0;31m---------------------------------------------------------------------------\u001b[0m",
      "\u001b[0;31mKeyError\u001b[0m                                  Traceback (most recent call last)",
      "\u001b[0;32m~/opt/anaconda3/lib/python3.8/site-packages/pandas/core/indexes/base.py\u001b[0m in \u001b[0;36mget_loc\u001b[0;34m(self, key, method, tolerance)\u001b[0m\n\u001b[1;32m   2645\u001b[0m             \u001b[0;32mtry\u001b[0m\u001b[0;34m:\u001b[0m\u001b[0;34m\u001b[0m\u001b[0;34m\u001b[0m\u001b[0m\n\u001b[0;32m-> 2646\u001b[0;31m                 \u001b[0;32mreturn\u001b[0m \u001b[0mself\u001b[0m\u001b[0;34m.\u001b[0m\u001b[0m_engine\u001b[0m\u001b[0;34m.\u001b[0m\u001b[0mget_loc\u001b[0m\u001b[0;34m(\u001b[0m\u001b[0mkey\u001b[0m\u001b[0;34m)\u001b[0m\u001b[0;34m\u001b[0m\u001b[0;34m\u001b[0m\u001b[0m\n\u001b[0m\u001b[1;32m   2647\u001b[0m             \u001b[0;32mexcept\u001b[0m \u001b[0mKeyError\u001b[0m\u001b[0;34m:\u001b[0m\u001b[0;34m\u001b[0m\u001b[0;34m\u001b[0m\u001b[0m\n",
      "\u001b[0;32mpandas/_libs/index.pyx\u001b[0m in \u001b[0;36mpandas._libs.index.IndexEngine.get_loc\u001b[0;34m()\u001b[0m\n",
      "\u001b[0;32mpandas/_libs/index.pyx\u001b[0m in \u001b[0;36mpandas._libs.index.IndexEngine.get_loc\u001b[0;34m()\u001b[0m\n",
      "\u001b[0;32mpandas/_libs/index_class_helper.pxi\u001b[0m in \u001b[0;36mpandas._libs.index.Int64Engine._check_type\u001b[0;34m()\u001b[0m\n",
      "\u001b[0;31mKeyError\u001b[0m: 'total_loan_costs'",
      "\nDuring handling of the above exception, another exception occurred:\n",
      "\u001b[0;31mKeyError\u001b[0m                                  Traceback (most recent call last)",
      "\u001b[0;32m/var/folders/yl/cmk7gt492252lhxv4dwq5q280000gn/T/ipykernel_32688/4025956343.py\u001b[0m in \u001b[0;36m<module>\u001b[0;34m\u001b[0m\n\u001b[1;32m      5\u001b[0m \u001b[0;31m# first have to convert the numpy.ndarray object to a pandas dataframe to use dropna\u001b[0m\u001b[0;34m\u001b[0m\u001b[0;34m\u001b[0m\u001b[0;34m\u001b[0m\u001b[0m\n\u001b[1;32m      6\u001b[0m \u001b[0mdf_2020_single_purch_EDAnotNAnum\u001b[0m \u001b[0;34m=\u001b[0m \u001b[0mpd\u001b[0m\u001b[0;34m.\u001b[0m\u001b[0mDataFrame\u001b[0m\u001b[0;34m(\u001b[0m\u001b[0mdf_2020_single_purch_EDAnotNAnum\u001b[0m\u001b[0;34m)\u001b[0m\u001b[0;34m\u001b[0m\u001b[0;34m\u001b[0m\u001b[0m\n\u001b[0;32m----> 7\u001b[0;31m \u001b[0mdf_2020_single_purch_EDAnotNAnum\u001b[0m\u001b[0;34m[\u001b[0m\u001b[0;34m'total_loan_costs'\u001b[0m\u001b[0;34m]\u001b[0m\u001b[0;34m.\u001b[0m\u001b[0misna\u001b[0m\u001b[0;34m(\u001b[0m\u001b[0;34m)\u001b[0m \u001b[0;34m==\u001b[0m \u001b[0;32mTrue\u001b[0m\u001b[0;34m\u001b[0m\u001b[0;34m\u001b[0m\u001b[0m\n\u001b[0m\u001b[1;32m      8\u001b[0m \u001b[0;31m# df_2020_single_purch_EDAnotNAnum.dropna(subset=['total_loan_costs'], inplace=True)\u001b[0m\u001b[0;34m\u001b[0m\u001b[0;34m\u001b[0m\u001b[0;34m\u001b[0m\u001b[0m\n",
      "\u001b[0;32m~/opt/anaconda3/lib/python3.8/site-packages/pandas/core/frame.py\u001b[0m in \u001b[0;36m__getitem__\u001b[0;34m(self, key)\u001b[0m\n\u001b[1;32m   2798\u001b[0m             \u001b[0;32mif\u001b[0m \u001b[0mself\u001b[0m\u001b[0;34m.\u001b[0m\u001b[0mcolumns\u001b[0m\u001b[0;34m.\u001b[0m\u001b[0mnlevels\u001b[0m \u001b[0;34m>\u001b[0m \u001b[0;36m1\u001b[0m\u001b[0;34m:\u001b[0m\u001b[0;34m\u001b[0m\u001b[0;34m\u001b[0m\u001b[0m\n\u001b[1;32m   2799\u001b[0m                 \u001b[0;32mreturn\u001b[0m \u001b[0mself\u001b[0m\u001b[0;34m.\u001b[0m\u001b[0m_getitem_multilevel\u001b[0m\u001b[0;34m(\u001b[0m\u001b[0mkey\u001b[0m\u001b[0;34m)\u001b[0m\u001b[0;34m\u001b[0m\u001b[0;34m\u001b[0m\u001b[0m\n\u001b[0;32m-> 2800\u001b[0;31m             \u001b[0mindexer\u001b[0m \u001b[0;34m=\u001b[0m \u001b[0mself\u001b[0m\u001b[0;34m.\u001b[0m\u001b[0mcolumns\u001b[0m\u001b[0;34m.\u001b[0m\u001b[0mget_loc\u001b[0m\u001b[0;34m(\u001b[0m\u001b[0mkey\u001b[0m\u001b[0;34m)\u001b[0m\u001b[0;34m\u001b[0m\u001b[0;34m\u001b[0m\u001b[0m\n\u001b[0m\u001b[1;32m   2801\u001b[0m             \u001b[0;32mif\u001b[0m \u001b[0mis_integer\u001b[0m\u001b[0;34m(\u001b[0m\u001b[0mindexer\u001b[0m\u001b[0;34m)\u001b[0m\u001b[0;34m:\u001b[0m\u001b[0;34m\u001b[0m\u001b[0;34m\u001b[0m\u001b[0m\n\u001b[1;32m   2802\u001b[0m                 \u001b[0mindexer\u001b[0m \u001b[0;34m=\u001b[0m \u001b[0;34m[\u001b[0m\u001b[0mindexer\u001b[0m\u001b[0;34m]\u001b[0m\u001b[0;34m\u001b[0m\u001b[0;34m\u001b[0m\u001b[0m\n",
      "\u001b[0;32m~/opt/anaconda3/lib/python3.8/site-packages/pandas/core/indexes/range.py\u001b[0m in \u001b[0;36mget_loc\u001b[0;34m(self, key, method, tolerance)\u001b[0m\n\u001b[1;32m    351\u001b[0m             \u001b[0;32mexcept\u001b[0m \u001b[0mValueError\u001b[0m\u001b[0;34m:\u001b[0m\u001b[0;34m\u001b[0m\u001b[0;34m\u001b[0m\u001b[0m\n\u001b[1;32m    352\u001b[0m                 \u001b[0;32mraise\u001b[0m \u001b[0mKeyError\u001b[0m\u001b[0;34m(\u001b[0m\u001b[0mkey\u001b[0m\u001b[0;34m)\u001b[0m\u001b[0;34m\u001b[0m\u001b[0;34m\u001b[0m\u001b[0m\n\u001b[0;32m--> 353\u001b[0;31m         \u001b[0;32mreturn\u001b[0m \u001b[0msuper\u001b[0m\u001b[0;34m(\u001b[0m\u001b[0;34m)\u001b[0m\u001b[0;34m.\u001b[0m\u001b[0mget_loc\u001b[0m\u001b[0;34m(\u001b[0m\u001b[0mkey\u001b[0m\u001b[0;34m,\u001b[0m \u001b[0mmethod\u001b[0m\u001b[0;34m=\u001b[0m\u001b[0mmethod\u001b[0m\u001b[0;34m,\u001b[0m \u001b[0mtolerance\u001b[0m\u001b[0;34m=\u001b[0m\u001b[0mtolerance\u001b[0m\u001b[0;34m)\u001b[0m\u001b[0;34m\u001b[0m\u001b[0;34m\u001b[0m\u001b[0m\n\u001b[0m\u001b[1;32m    354\u001b[0m \u001b[0;34m\u001b[0m\u001b[0m\n\u001b[1;32m    355\u001b[0m     \u001b[0;34m@\u001b[0m\u001b[0mAppender\u001b[0m\u001b[0;34m(\u001b[0m\u001b[0m_index_shared_docs\u001b[0m\u001b[0;34m[\u001b[0m\u001b[0;34m\"get_indexer\"\u001b[0m\u001b[0;34m]\u001b[0m\u001b[0;34m)\u001b[0m\u001b[0;34m\u001b[0m\u001b[0;34m\u001b[0m\u001b[0m\n",
      "\u001b[0;32m~/opt/anaconda3/lib/python3.8/site-packages/pandas/core/indexes/base.py\u001b[0m in \u001b[0;36mget_loc\u001b[0;34m(self, key, method, tolerance)\u001b[0m\n\u001b[1;32m   2646\u001b[0m                 \u001b[0;32mreturn\u001b[0m \u001b[0mself\u001b[0m\u001b[0;34m.\u001b[0m\u001b[0m_engine\u001b[0m\u001b[0;34m.\u001b[0m\u001b[0mget_loc\u001b[0m\u001b[0;34m(\u001b[0m\u001b[0mkey\u001b[0m\u001b[0;34m)\u001b[0m\u001b[0;34m\u001b[0m\u001b[0;34m\u001b[0m\u001b[0m\n\u001b[1;32m   2647\u001b[0m             \u001b[0;32mexcept\u001b[0m \u001b[0mKeyError\u001b[0m\u001b[0;34m:\u001b[0m\u001b[0;34m\u001b[0m\u001b[0;34m\u001b[0m\u001b[0m\n\u001b[0;32m-> 2648\u001b[0;31m                 \u001b[0;32mreturn\u001b[0m \u001b[0mself\u001b[0m\u001b[0;34m.\u001b[0m\u001b[0m_engine\u001b[0m\u001b[0;34m.\u001b[0m\u001b[0mget_loc\u001b[0m\u001b[0;34m(\u001b[0m\u001b[0mself\u001b[0m\u001b[0;34m.\u001b[0m\u001b[0m_maybe_cast_indexer\u001b[0m\u001b[0;34m(\u001b[0m\u001b[0mkey\u001b[0m\u001b[0;34m)\u001b[0m\u001b[0;34m)\u001b[0m\u001b[0;34m\u001b[0m\u001b[0;34m\u001b[0m\u001b[0m\n\u001b[0m\u001b[1;32m   2649\u001b[0m         \u001b[0mindexer\u001b[0m \u001b[0;34m=\u001b[0m \u001b[0mself\u001b[0m\u001b[0;34m.\u001b[0m\u001b[0mget_indexer\u001b[0m\u001b[0;34m(\u001b[0m\u001b[0;34m[\u001b[0m\u001b[0mkey\u001b[0m\u001b[0;34m]\u001b[0m\u001b[0;34m,\u001b[0m \u001b[0mmethod\u001b[0m\u001b[0;34m=\u001b[0m\u001b[0mmethod\u001b[0m\u001b[0;34m,\u001b[0m \u001b[0mtolerance\u001b[0m\u001b[0;34m=\u001b[0m\u001b[0mtolerance\u001b[0m\u001b[0;34m)\u001b[0m\u001b[0;34m\u001b[0m\u001b[0;34m\u001b[0m\u001b[0m\n\u001b[1;32m   2650\u001b[0m         \u001b[0;32mif\u001b[0m \u001b[0mindexer\u001b[0m\u001b[0;34m.\u001b[0m\u001b[0mndim\u001b[0m \u001b[0;34m>\u001b[0m \u001b[0;36m1\u001b[0m \u001b[0;32mor\u001b[0m \u001b[0mindexer\u001b[0m\u001b[0;34m.\u001b[0m\u001b[0msize\u001b[0m \u001b[0;34m>\u001b[0m \u001b[0;36m1\u001b[0m\u001b[0;34m:\u001b[0m\u001b[0;34m\u001b[0m\u001b[0;34m\u001b[0m\u001b[0m\n",
      "\u001b[0;32mpandas/_libs/index.pyx\u001b[0m in \u001b[0;36mpandas._libs.index.IndexEngine.get_loc\u001b[0;34m()\u001b[0m\n",
      "\u001b[0;32mpandas/_libs/index.pyx\u001b[0m in \u001b[0;36mpandas._libs.index.IndexEngine.get_loc\u001b[0;34m()\u001b[0m\n",
      "\u001b[0;32mpandas/_libs/index_class_helper.pxi\u001b[0m in \u001b[0;36mpandas._libs.index.Int64Engine._check_type\u001b[0;34m()\u001b[0m\n",
      "\u001b[0;31mKeyError\u001b[0m: 'total_loan_costs'"
     ]
    }
   ],
   "source": [
    "# to calculate total loan costs in relation to gross annual income (income variable),\n",
    "# first change these string object data type variables to numeric values\n",
    "df_2020_single_purch_EDAnotNAnum = pd.to_numeric([df_2020_single_purch_EDAnotNA['total_loan_costs'], df_2020_single_purch_EDAnotNA['income']], errors='coerce')\n",
    "# drop the coerced NaN values (i.e. the previous strings like 'Exempt' that cannot be calculated on)\n",
    "# first have to convert the numpy.ndarray object to a pandas dataframe to use dropna\n",
    "df_2020_single_purch_EDAnotNAnum = pd.DataFrame(df_2020_single_purch_EDAnotNAnum)\n",
    "df_2020_single_purch_EDAnotNAnum['total_loan_costs'].isna() == True\n",
    "# df_2020_single_purch_EDAnotNAnum.dropna(subset=['total_loan_costs'], inplace=True)"
   ]
  },
  {
   "cell_type": "code",
   "execution_count": null,
   "metadata": {},
   "outputs": [],
   "source": []
  },
  {
   "cell_type": "code",
   "execution_count": null,
   "metadata": {},
   "outputs": [],
   "source": [
    "# calculate total loan costs in relation to income\n",
    "tlc2020 = df_2020_single_purch_EDAnotNAnum['total_loan_costs'] / df_2020_single_purch_EDAnotNAnum['income']\n",
    "print(tlc2020)"
   ]
  },
  {
   "cell_type": "code",
   "execution_count": null,
   "metadata": {},
   "outputs": [],
   "source": []
  },
  {
   "cell_type": "markdown",
   "metadata": {},
   "source": [
    "### Load multiple years of data\n",
    "\n",
    "Make a single dataframe of 2018 to 2020 lending activity showing year in which action was taken.\n",
    "Again, only the records for a loan type of Home Purchase for a single (one) unit property are included in this analysis to narrow the scope towards the traditional notion of a starter home."
   ]
  },
  {
   "cell_type": "code",
   "execution_count": null,
   "metadata": {},
   "outputs": [],
   "source": [
    "# 2020 ran well, so do the same for 2019 and 2018\n",
    "df_2019_single_purch = pd.read_csv(\"../data/hmda_ffiec_nationwide_2019_one-unit_home_purchase.csv\", usecols=['activity_year','action_taken']) # , low_memory=False)\n",
    "# view number of rows and columns for 2019\n",
    "df_2019_single_purch.shape\n",
    "# since there are many NaN total_loan_costs values, and I'm calculating based on this variable, \n",
    "# I will only work with the rows where total_loan_costs is not empty\n",
    "df_2019_single_purch_EDAnotNA = df_2019_single_purch[df_2019_single_purch[\"total_loan_costs\"].notna()]\n",
    "# see the number of records now after excluding rows with NaN total_loan_costs\n",
    "len(df_2019_single_purch_EDAnotNA.index)\n",
    "# to calculate total loan costs in relation to gross annual income (income variable),\n",
    "# first change these string object data type variables to numeric valuesf\n",
    "total_loan_costs_num2019 = pd.to_numeric(df_2019_single_purch_EDAnotNA['total_loan_costs'])\n",
    "# calculate total loan costs in relation to income\n",
    "tlc2019 = 'total_loan_costs' / 'income'\n",
    "print(tlc2019)\n",
    "# Let's check as percentages instead of counts\n",
    "counts2019 = df_2019_single_purch.groupby(['action_taken']).agg('sum')\n",
    "# Change: groupby state_office and divide by sum\n",
    "counts2019[\"%\"] = counts2019.apply(lambda x:  100 * x / x.sum())\n",
    "counts2019"
   ]
  },
  {
   "cell_type": "code",
   "execution_count": null,
   "metadata": {},
   "outputs": [],
   "source": [
    "# load 2018 and view its number of rows and columns\n",
    "df_2018_single_purch = pd.read_csv(\"../data/hmda_ffiec_nationwide_2018_one-unit_home_purchase.csv\", usecols=['activity_year','action_taken']) # , low_memory=False)\n",
    "df_2018_single_purch.shape\n",
    "# since there are many NaN total_loan_costs values, and I'm calculating based on this variable, \n",
    "# I will only work with the rows where total_loan_costs is not empty\n",
    "df_2018_single_purch_EDAnotNA = df_2018_single_purch[df_2018_single_purch[\"total_loan_costs\"].notna()]\n",
    "# see the number of records now after excluding rows with NaN total_loan_costs\n",
    "len(df_2018_single_purch_EDAnotNA.index)\n",
    "# to calculate total loan costs in relation to gross annual income (income variable),\n",
    "# first change these string object data type variables to numeric valuesf\n",
    "total_loan_costs_num2018 = pd.to_numeric(df_2018_single_purch_EDAnotNA['total_loan_costs'])\n",
    "# calculate total loan costs in relation to income\n",
    "tlc2018 = 'total_loan_costs' / 'income'\n",
    "print(tlc2018)\n",
    "# Let's check as percentages instead of counts\n",
    "counts2018 = df_2018_single_purch.groupby(['action_taken']).agg('sum')\n",
    "# Change: groupby state_office and divide by sum\n",
    "counts2018[\"%\"] = counts2018.apply(lambda x:  100 * x / x.sum())\n",
    "counts2018"
   ]
  },
  {
   "cell_type": "markdown",
   "metadata": {},
   "source": [
    "## Now let's plot some data!"
   ]
  },
  {
   "cell_type": "markdown",
   "metadata": {},
   "source": [
    "## "
   ]
  },
  {
   "cell_type": "code",
   "execution_count": null,
   "metadata": {},
   "outputs": [],
   "source": [
    "# save the figure as an image file\n",
    "# # with its white background\n",
    "# fig2018.savefig('../output/one_unit_home_mortgage_activity_flow_2018_horizonal_origination.jpeg', dpi=100, facecolor='white', \n",
    "#         orientation='landscape', format='jpeg',\n",
    "#         transparent=False, bbox_inches=None, pad_inches=0.1)\n",
    "\n",
    "# with transparent background, to test an image behind in Illustrator\n",
    "fig2018.savefig('../output/one_unit_home_mortgage_activity_flow_2018_transparent_horizonal_origination.jpeg', dpi=100, \n",
    "        orientation='landscape', format='jpeg',\n",
    "        transparent=True, bbox_inches=None, pad_inches=0.1)"
   ]
  },
  {
   "cell_type": "markdown",
   "metadata": {},
   "source": [
    "### What is the volume of loans of modest prices for new construction...?\n",
    "_inspired by the Brookings topic number 2, Housing Supply, from its published Four Key Issues that Will Determine the Future of the Housing Market section_\n",
    "_Brookings Institute Lessons from the financial crisis [1]_\n",
    "\n",
    "#### ...in relation to higher priced loans?\n",
    "\n",
    "#### ...in relation to other homes of modest loan prices?"
   ]
  },
  {
   "cell_type": "code",
   "execution_count": null,
   "metadata": {},
   "outputs": [],
   "source": []
  },
  {
   "cell_type": "code",
   "execution_count": null,
   "metadata": {},
   "outputs": [],
   "source": []
  },
  {
   "cell_type": "code",
   "execution_count": null,
   "metadata": {},
   "outputs": [],
   "source": []
  },
  {
   "cell_type": "code",
   "execution_count": null,
   "metadata": {},
   "outputs": [],
   "source": []
  },
  {
   "cell_type": "markdown",
   "metadata": {},
   "source": [
    "## Cited & Referenced (additional specific to overview)\n",
    "\n",
    "[10] 2021 Home Buyers and Sellers Generational Trends Report, National Association of REALTORS® Research Group, 2021 and accessed 10/16/2021, https://www.nar.realtor/sites/default/files/documents/2021-home-buyers-and-sellers-generational-trends-03-16-2021.pdf\n",
    "\n",
    "[11] Homeownership Is Affordable Housing, by Mike Loftin, Urban Institute, 05/2021, https://www.urban.org/sites/default/files/publication/104214/homeownership-is-affordable-housing_0_0.pdf\n",
    "\n",
    "[12] HOUSING FINANCE AT A GLANCE, A MONTHLY CHARTBOOK, Urban Institute, 4/20201, https://www.urban.org/sites/default/files/publication/104157/housing-finance-at-a-glance-a-monthly-chartbook-april-2021.pdf"
   ]
  }
 ],
 "metadata": {
  "kernelspec": {
   "display_name": "Python 3 (ipykernel)",
   "language": "python",
   "name": "python3"
  },
  "language_info": {
   "codemirror_mode": {
    "name": "ipython",
    "version": 3
   },
   "file_extension": ".py",
   "mimetype": "text/x-python",
   "name": "python",
   "nbconvert_exporter": "python",
   "pygments_lexer": "ipython3",
   "version": "3.8.3"
  }
 },
 "nbformat": 4,
 "nbformat_minor": 4
}
